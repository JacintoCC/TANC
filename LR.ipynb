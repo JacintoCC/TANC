{
 "cells": [
  {
   "cell_type": "code",
   "execution_count": null,
   "metadata": {
    "collapsed": true
   },
   "outputs": [],
   "source": [
    "# LR"
   ]
  },
  {
   "cell_type": "code",
   "execution_count": 5,
   "metadata": {
    "collapsed": false
   },
   "outputs": [],
   "source": [
    "import sympy\n",
    "from math import copysign"
   ]
  },
  {
   "cell_type": "code",
   "execution_count": 37,
   "metadata": {
    "collapsed": true
   },
   "outputs": [],
   "source": [
    "def getSorter(element):\n",
    "    def sorter(x,y):\n",
    "        e_1 = x[element]\n",
    "        e_2 = y[element]\n",
    "        if e_1==e_2:\n",
    "            return 0\n",
    "        elif e_1==0:\n",
    "            return 1\n",
    "        elif e_2==0:\n",
    "            return -1\n",
    "        else:\n",
    "            return int(copysign(1,abs(e_1)-abs(e_2)))\n",
    "        \n",
    "    return sorter"
   ]
  },
  {
   "cell_type": "code",
   "execution_count": 42,
   "metadata": {
    "collapsed": false
   },
   "outputs": [],
   "source": [
    "def sortMatrix(matrix,row):\n",
    "    row_sorter = getSorter(row)\n",
    "    sorted_matrix = sorted(zip(matrix[0],matrix[1]), cmp=row_sorter)\n",
    "    new_matrix = [ [column[j] for column in sorted_matrix] for j in range(2)]\n",
    "    return new_matrix"
   ]
  },
  {
   "cell_type": "code",
   "execution_count": 44,
   "metadata": {
    "collapsed": false
   },
   "outputs": [
    {
     "name": "stdout",
     "output_type": "stream",
     "text": [
      "[[1, 2, 0, 0], [1, 3, 2, 4]]\n"
     ]
    }
   ],
   "source": [
    "print sortMatrix([[1,0,2,0],[1,2,3,4]],0)"
   ]
  },
  {
   "cell_type": "code",
   "execution_count": 55,
   "metadata": {
    "collapsed": false
   },
   "outputs": [],
   "source": [
    "def LR(matrix):\n",
    "    #Primera fase\n",
    "    num_cols = len(matrix[0])\n",
    "    matrix = sortMatrix(matrix,0)\n",
    "    count_zeros = matrix[0].count(0)\n",
    "    \n",
    "    while( count_zeros != num_cols-1 ):\n",
    "        for i in range(1,num_cols-1):\n",
    "            quotient = matrix[0][i]/matrix[0][0]\n",
    "            matrix[0][i] -= matrix[0][0]*quotient\n",
    "            matrix[1][i] -= matrix[1][0]*quotient\n",
    "        matrix = sortMatrix(matrix,0)\n",
    "        count_zeros = matrix[0].count(0)\n",
    "    \n",
    "    #Segunda fase\n",
    "    submatrix = [ [matrix[i][j] for j in range(1,num_cols)] for i in range(2)]\n",
    "    \n",
    "    submatrix = sortMatrix(submatrix,1)\n",
    "    count_zeros = submatrix[1].count(0)\n",
    "    \n",
    "    while( count_zeros != num_cols-2 ):\n",
    "        for i in range(1,num_cols-2):\n",
    "            quotient = submatrix[1][i]/submatrix[1][0]\n",
    "            submatrix[1][i] -= submatrix[1][0]*quotient\n",
    "            \n",
    "        submatrix = sortMatrix(submatrix,1)\n",
    "        count_zeros = submatrix[1].count(0)\n",
    "        \n",
    "    return matrix[0][0]*submatrix[1][0]"
   ]
  },
  {
   "cell_type": "code",
   "execution_count": 56,
   "metadata": {
    "collapsed": false
   },
   "outputs": [
    {
     "data": {
      "text/plain": [
       "-2"
      ]
     },
     "execution_count": 56,
     "metadata": {},
     "output_type": "execute_result"
    }
   ],
   "source": [
    "LR( [[8,2,4,6],\n",
    "     [3,2,3,6]])"
   ]
  },
  {
   "cell_type": "code",
   "execution_count": null,
   "metadata": {
    "collapsed": true
   },
   "outputs": [],
   "source": []
  }
 ],
 "metadata": {
  "kernelspec": {
   "display_name": "Python 2",
   "language": "python",
   "name": "python2"
  },
  "language_info": {
   "codemirror_mode": {
    "name": "ipython",
    "version": 2
   },
   "file_extension": ".py",
   "mimetype": "text/x-python",
   "name": "python",
   "nbconvert_exporter": "python",
   "pygments_lexer": "ipython2",
   "version": "2.7.11"
  }
 },
 "nbformat": 4,
 "nbformat_minor": 0
}
