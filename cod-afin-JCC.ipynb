{
 "cells": [
  {
   "cell_type": "markdown",
   "metadata": {},
   "source": [
    "#  Codificación Afín"
   ]
  },
  {
   "cell_type": "markdown",
   "metadata": {},
   "source": [
    "## Algoritmo de codificación afín:\n",
    "\n",
    "- **Entrada:** \n",
    "   - Un mensaje ( tipo str).\n",
    "   - Llaves $a,b,n$\n",
    "- **Salida:** una lista de números.\n",
    "    - *Paso 1.-* Convertir el mensaje en una lista de palabras. Usando la función <span style=\"color:red\">lista_palabras</span> de la práctica mensaje_vs_listashexa.\n",
    "    - *Paso 2.-* Convertir la lista de palabras del paso 1 en una lista de números en hexadecimal. Usando la función <span style=\"color:red\">str_to_hexalist</span> de la práctica mensaje_vs_listashexa.\n",
    "    - *Paso 3.-* Convertir la lista de números en hexadecimal obtenida en el paso 2 en una lista de números en decimal.\n",
    "    - *Paso 4.-* Aplicar a cada x en la lista de números obtenida en el paso 3 la transformación afín $x\\mapsto a*x+b \\mod n$.\n"
   ]
  },
  {
   "cell_type": "markdown",
   "metadata": {},
   "source": [
    "### Ejercicios:\n",
    "\n",
    "- ***Ejercicio 1.-*** Define una función <span style=\"color:red\">cod_afin(mensaje,a,b,n)</span> que codifique, siguiendo el algoritmo anterior, el mensaje utilizando las llaves $a, b$ y $n$.\n",
    "- ***Ejercicio 2.-*** Define una función <span style=\"color:red\">deco_afin(lista,a,b,n)</span>  para decodificar.\n"
   ]
  },
  {
   "cell_type": "markdown",
   "metadata": {
    "collapsed": true
   },
   "source": [
    "- ***Ejercicio 3.-***  Hemos interseptado la siguiente conversación por whatsApp\n",
    "    - **Juan:** Hola Pepe, mándame tu emilio que se me ha olvidado.\n",
    "    - **Pepe:** Tio!!!! ya se que los wasas no los suelen pillar pero ¿quien sabe?. Aquí lo tienes\n",
    "    <span style=\"color:blue\">$$268352937076140713164752723958686406250826$$</span>\n",
    "    \n",
    " Poco después interceptamos el siguiente mensaje \n",
    " \n",
    "From: Juan Perez <camello@hotmail.com>;\n",
    "\n",
    "To: PePePote <nombre@gmail.com>;\n",
    "\n",
    "Subject: me falta material\n",
    "\n",
    "Sent: Tue, Nov 3, 2015 11:33:52 AM \n",
    "\n",
    "<span style=\"color:blue\">[734461933241186429117476L,\n",
    " 3435209764L,\n",
    " 279048452422856320008528932L,\n",
    " 1033071336087238299690020L,\n",
    " 974633772068L,\n",
    " 57111833174811684L,\n",
    " 15623803945172673572L,\n",
    " 39003172L,\n",
    " 60467473942520868L,\n",
    " 3668513721263858590756L,\n",
    " 3400737828L,\n",
    " 17334517580104451101254330950692L,\n",
    " 38741028L,\n",
    " 60467473942520868L,\n",
    " 3779622034147486278692L,\n",
    " 39265316L,\n",
    " 60467473942520868L,\n",
    " 264466043694263907773391908L,\n",
    " 39527460L,\n",
    " 60467473942520868L,\n",
    " 1011702180066720474247122611544859684L,\n",
    " 422555755556L,\n",
    " 60467473942520868L,\n",
    " 3596316486929846969380L,\n",
    " 43721764L,\n",
    " 150370742641700L,\n",
    " 63301989280982052L,\n",
    " 974633772068L,\n",
    " 3702727716L,\n",
    " 16776694611586262052L,\n",
    " 58761092191167524L,\n",
    " 931014845476L,\n",
    " 4072327277505430889508L,\n",
    " 854174540836L,\n",
    " 65516448682550308L,\n",
    " 279010673496068621976282148L,\n",
    " 974633772068L,\n",
    " 16195758769579435044L,\n",
    " 974633772068L,\n",
    " 240419345292453720492024868L,\n",
    " 245091883754532L,\n",
    " 218660688569380L,\n",
    " 3435471908L,\n",
    " 61056768755442724L,\n",
    " 3534955556L,\n",
    " 58760954251125796L,\n",
    " 75164731049239781261359916068L]</span>\n",
    "\n",
    "Además sabemos que estos tíos van a lo grande por lo que hemos deducido que la palabra que más se repite en el mensaje es kilos.\n",
    "\n",
    "Cuando estábamos desesperados, porque no lográbamos descifrar la conversación, interceptamos la siguiente conversación:\n",
    "   - **Pepe:** ¿que coj@n@s de número has usado para hacer el módulo?\n",
    "   - **Juan:** Tanta seguridad y ahora me preguntas eso....$$553612260071847767819357303824754235825777.$$\n",
    "   \n",
    "\n",
    "Descifra el mensaje a ver si podemos usarlo como prueba incriminatoria para poner a estos dos a la sombra.\n",
    "\n",
    "**Nota:** Sustituye la variable 'nombre' en la dirección de correo de Pepe por tu nombre en minúscula."
   ]
  },
  {
   "cell_type": "code",
   "execution_count": 1,
   "metadata": {
    "collapsed": false
   },
   "outputs": [],
   "source": [
    "from TANJCC import *"
   ]
  },
  {
   "cell_type": "markdown",
   "metadata": {},
   "source": [
    "**Ejercicio 1.-** Define una función <span style=\"color:red\">cod_afin(mensaje,a,b,n)</span> que codifique, siguiendo el algoritmo anterior, el mensaje utilizando las llaves $a$, $b$ y $n$    \n",
    "  \n",
    "  \n",
    "He implementado una función  <span style=\"color:red\">cod_afin_number(number,a,b,n)</span> que hace la transformación afín de $x$ en módulo $n$. En la función <span style=\"color:red\">cod_afin(mensaje,a,b,n)</span> compruebo que $a$ y $n$ sean primos relativos, y en caso de que no lo sean, el programa lanza un error. Si podemos realizar la codificación, separamos el mensaje por palabras, lo pasamos a hexadecimal, de ahí a decimal y realizamos la codificación afín:"
   ]
  },
  {
   "cell_type": "code",
   "execution_count": 2,
   "metadata": {
    "collapsed": false
   },
   "outputs": [
    {
     "name": "stdout",
     "output_type": "stream",
     "text": [
      "[1521952833064936166061539705150165L, 1047523624960519002143755436723047434L, 9551942835757565455137229851824L]\n"
     ]
    }
   ],
   "source": [
    "coded_list = cod_afin('Hola, ¿qué tal?',4892055594575155744537,1231241,465675465116607065549*44211790234832169331)\n",
    "print coded_list"
   ]
  },
  {
   "cell_type": "markdown",
   "metadata": {},
   "source": [
    "**Ejercicio 2.-** Define una función <span style=\"color:red\">deco_afin(lista,a,b,n)</span>  para decodificar.  \n",
    "  \n",
    "He implementado en primer lugar  <span style=\"color:red\">deco_afin_number(number,a,b,n)</span>, con la que buscamos el número que da lugar al número codificado. Como $a$ y $n$ deben ser primos relativos, se cumple $\\exists u, v$ tales que $1=ua+vn$. Entonces una solución a nuestro problema será $u (number\\ -\\ b)\\mod n$. En la función <span style=\"color:red\">deco_afin(lista,a,b,n)</span> iremos integrando cada número decodificado en un vector que pasaremos a string con la función <span style=\"color:red\">hexalist_to_str(list)</span>"
   ]
  },
  {
   "cell_type": "code",
   "execution_count": 3,
   "metadata": {
    "collapsed": false
   },
   "outputs": [
    {
     "name": "stdout",
     "output_type": "stream",
     "text": [
      "Hola, ¿qué tal?\n"
     ]
    }
   ],
   "source": [
    "print deco_afin(coded_list,4892055594575155744537,1231241,465675465116607065549*44211790234832169331)\n"
   ]
  },
  {
   "cell_type": "markdown",
   "metadata": {},
   "source": [
    "**Ejercicio 3**  \n",
    "  \n",
    "Comenzamos introduciendo los datos del problema:"
   ]
  },
  {
   "cell_type": "code",
   "execution_count": 4,
   "metadata": {
    "collapsed": true
   },
   "outputs": [],
   "source": [
    "mensaje_cifrado = [734461933241186429117476L,\n",
    " 3435209764L,\n",
    " 279048452422856320008528932L,\n",
    " 1033071336087238299690020L,\n",
    " 974633772068L,\n",
    " 57111833174811684L,\n",
    " 15623803945172673572L,\n",
    " 39003172L,\n",
    " 60467473942520868L,\n",
    " 3668513721263858590756L,\n",
    " 3400737828L,\n",
    " 17334517580104451101254330950692L,\n",
    " 38741028L,\n",
    " 60467473942520868L,\n",
    " 3779622034147486278692L,\n",
    " 39265316L,\n",
    " 60467473942520868L,\n",
    " 264466043694263907773391908L,\n",
    " 39527460L,\n",
    " 60467473942520868L,\n",
    " 1011702180066720474247122611544859684L,\n",
    " 422555755556L,\n",
    " 60467473942520868L,\n",
    " 3596316486929846969380L,\n",
    " 43721764L,\n",
    " 150370742641700L,\n",
    " 63301989280982052L,\n",
    " 974633772068L,\n",
    " 3702727716L,\n",
    " 16776694611586262052L,\n",
    " 58761092191167524L,\n",
    " 931014845476L,\n",
    " 4072327277505430889508L,\n",
    " 854174540836L,\n",
    " 65516448682550308L,\n",
    " 279010673496068621976282148L,\n",
    " 974633772068L,\n",
    " 16195758769579435044L,\n",
    " 974633772068L,\n",
    " 240419345292453720492024868L,\n",
    " 245091883754532L,\n",
    " 218660688569380L,\n",
    " 3435471908L,\n",
    " 61056768755442724L,\n",
    " 3534955556L,\n",
    " 58760954251125796L,\n",
    " 75164731049239781261359916068L]\n",
    "n = 553612260071847767819357303824754235825777\n"
   ]
  },
  {
   "cell_type": "markdown",
   "metadata": {
    "collapsed": true
   },
   "source": [
    "Para poder codificar y decodificar aún nos faltan $a$ y $b$. Para ello usamos la otra pista. Contamos el número de apariciones para cada número para determinar cuál es la codificación de la palabra \"kilos\":"
   ]
  },
  {
   "cell_type": "code",
   "execution_count": 5,
   "metadata": {
    "collapsed": false
   },
   "outputs": [
    {
     "name": "stdout",
     "output_type": "stream",
     "text": [
      "{264466043694263907773391908L: 1, 4072327277505430889508L: 1, 3534955556L: 1, 16776694611586262052L: 1, 17334517580104451101254330950692L: 1, 75164731049239781261359916068L: 1, 63301989280982052L: 1, 3400737828L: 1, 3435471908L: 1, 39003172L: 1, 39265316L: 1, 734461933241186429117476L: 1, 16195758769579435044L: 1, 279010673496068621976282148L: 1, 240419345292453720492024868L: 1, 245091883754532L: 1, 3435209764L: 1, 57111833174811684L: 1, 854174540836L: 1, 60467473942520868L: 5, 150370742641700L: 1, 422555755556L: 1, 61056768755442724L: 1, 39527460L: 1, 38741028L: 1, 974633772068L: 4, 43721764L: 1, 218660688569380L: 1, 65516448682550308L: 1, 15623803945172673572L: 1, 3596316486929846969380L: 1, 1033071336087238299690020L: 1, 1011702180066720474247122611544859684L: 1, 3702727716L: 1, 3779622034147486278692L: 1, 58760954251125796L: 1, 279048452422856320008528932L: 1, 58761092191167524L: 1, 931014845476L: 1, 3668513721263858590756L: 1}\n",
      "Codificación de kilos: 60467473942520868\n"
     ]
    }
   ],
   "source": [
    "counting = dict((i,mensaje_cifrado.count(i)) for i in mensaje_cifrado)\n",
    "\n",
    "print counting \n",
    "\n",
    "coded_kilos = max(counting, key=counting.get)\n",
    "kilos = hextodec_rec(\"kilos\".encode('hex'))\n",
    "\n",
    "print 'Codificación de kilos: ' + str(coded_kilos)"
   ]
  },
  {
   "cell_type": "markdown",
   "metadata": {},
   "source": [
    "La otra pista es que aparece codificado el email y también sabemos cuál es. (Este es el paso que me ha dado problemas en la obtención de $a$ y $b$)"
   ]
  },
  {
   "cell_type": "code",
   "execution_count": 6,
   "metadata": {
    "collapsed": false
   },
   "outputs": [],
   "source": [
    "coded_email = 268352937076140713164752723958686406250826L\n",
    "email = hextodec_rec(\"jacinto@gmail.com\".encode('hex'))"
   ]
  },
  {
   "cell_type": "markdown",
   "metadata": {},
   "source": [
    "Planteamos el sistema:\n",
    "$$ \\left\\{ \\begin{array}{c} \n",
    "    x_{kilos}^{codif} \\equiv a \\cdot x_{kilos} + b \\mod n \\\\\n",
    "    x_{email}^{codif} \\equiv a \\cdot x_{email} + b \\mod n\n",
    "\\end{array}\n",
    "\\right.$$\n",
    "restando obtenemos: \n",
    "$$ x_{kilos}^{codif}-x_{email}^{codif} \\equiv a ( x_{kilos}- x_{email}) \\mod n $$\n",
    "y de aquí obtenemos $a$. Ahora puede ser que $(kilos-email,n)\\neq 1$, como es en este caso, por lo que tenemos que comprobar cuál de las $(kilos-email,n)$ soluciones es. Después, de cualquiera de las congruencias obtenemos $b$. Obtendremos en primer lugar una pareja $a,b$: \n"
   ]
  },
  {
   "cell_type": "code",
   "execution_count": 7,
   "metadata": {
    "collapsed": false
   },
   "outputs": [
    {
     "name": "stdout",
     "output_type": "stream",
     "text": [
      "131072\n",
      "32056356\n"
     ]
    }
   ],
   "source": [
    "a = solve_congr(kilos-email, coded_kilos-coded_email,n)\n",
    "b = (coded_kilos - a * kilos)%n\n",
    "\n",
    "print a\n",
    "print b"
   ]
  },
  {
   "cell_type": "code",
   "execution_count": null,
   "metadata": {
    "collapsed": true
   },
   "outputs": [],
   "source": []
  },
  {
   "cell_type": "markdown",
   "metadata": {},
   "source": [
    "Ahora bien, $(kilos-email,n)=3$, luego hay tres posibles soluciones que tendrán la forma $a = a_0 + k\\frac{n}{3}$, con $k = 0, 1, 2$. Para ver cuál de ellas es, codificaremos \"kilos\" con cada pareja y compararemos con la codificación de \"kilos\" que tenemos:"
   ]
  },
  {
   "cell_type": "code",
   "execution_count": 8,
   "metadata": {
    "collapsed": false
   },
   "outputs": [
    {
     "name": "stdout",
     "output_type": "stream",
     "text": [
      "True\n"
     ]
    }
   ],
   "source": [
    "print cod_afin_number(kilos,a,b,n) == coded_kilos"
   ]
  },
  {
   "cell_type": "markdown",
   "metadata": {},
   "source": [
    "Luego la solución utilizada es para $k=0$. Así pues, sólo queda mostrar el mensaje:"
   ]
  },
  {
   "cell_type": "code",
   "execution_count": 9,
   "metadata": {
    "collapsed": false
   },
   "outputs": [
    {
     "name": "stdout",
     "output_type": "stream",
     "text": [
      "Mándame el siguiente material que estoy listo: 5 kilos compota de melocotón, 3 kilos fresas, 7 kilos manzanas, 9 kilos albaricoques, 100 kilos azucar. Y Date prisa que me tienes hasta las narices con tanta segurida, que parece que cocinamos otra cosa en lugar he hacer yogures!!!\n"
     ]
    }
   ],
   "source": [
    "print deco_afin(mensaje_cifrado,a,b,n)"
   ]
  },
  {
   "cell_type": "markdown",
   "metadata": {},
   "source": [
    "Con lo que Juan y Pepe no tendrían por qué tener miedo a ser detenidos ni sus comunicaciones deberían seguir siendo investigadas."
   ]
  }
 ],
 "metadata": {
  "kernelspec": {
   "display_name": "Python 2",
   "language": "python",
   "name": "python2"
  },
  "language_info": {
   "codemirror_mode": {
    "name": "ipython",
    "version": 2
   },
   "file_extension": ".py",
   "mimetype": "text/x-python",
   "name": "python",
   "nbconvert_exporter": "python",
   "pygments_lexer": "ipython2",
   "version": "2.7.11"
  }
 },
 "nbformat": 4,
 "nbformat_minor": 0
}
