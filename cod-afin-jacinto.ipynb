{
 "cells": [
  {
   "cell_type": "markdown",
   "metadata": {},
   "source": [
    "#  Codificación Afín"
   ]
  },
  {
   "cell_type": "markdown",
   "metadata": {},
   "source": [
    "## Algoritmo de codificación afín:\n",
    "\n",
    "- **Entrada:** \n",
    "   - Un mensaje ( tipo str).\n",
    "   - Llaves $a,b,n$\n",
    "- **Salida:** una lista de números.\n",
    "    - *Paso 1.-* Convertir el mensaje en una lista de palabras. Usando la función <span style=\"color:red\">lista_palabras</span> de la práctica mensaje_vs_listashexa.\n",
    "    - *Paso 2.-* Convertir la lista de palabras del paso 1 en una lista de números en hexadecimal. Usando la función <span style=\"color:red\">str_to_hexalist</span> de la práctica mensaje_vs_listashexa.\n",
    "    - *Paso 3.-* Convertir la lista de números en hexadecimal obtenida en el paso 2 en una lista de números en decimal.\n",
    "    - *Paso 4.-* Aplicar a cada x en la lista de números obtenida en el paso 3 la transformación afín $x\\mapsto a*x+b \\mod n$.\n"
   ]
  },
  {
   "cell_type": "markdown",
   "metadata": {},
   "source": [
    "### Ejercicios:\n",
    "\n",
    "- ***Ejercicio 1.-*** Define una función <span style=\"color:red\">cod_afin(mensaje,a,b,n)</span> que codifique, siguiendo el algoritmo anterior, el mensaje utilizando las llaves $a, b$ y $n$.\n",
    "- ***Ejercicio 2.-*** Define una función <span style=\"color:red\">deco_afin(lista,a,b,n)</span>  para decodificar.\n"
   ]
  },
  {
   "cell_type": "markdown",
   "metadata": {
    "collapsed": true
   },
   "source": [
    "- ***Ejercicio 3.-***  Hemos interseptado la siguiente conversación por whatsApp\n",
    "    - **Juan:** Hola Pepe, mándame tu emilio que se me ha olvidado.\n",
    "    - **Pepe:** Tio!!!! ya se que los wasas no los suelen pillar pero ¿quien sabe?. Aquí lo tienes\n",
    "    <span style=\"color:blue\">$$268352937076140713164752723958686406250826$$</span>\n",
    "    \n",
    " Poco después interceptamos el siguiente mensaje \n",
    " \n",
    "From: Juan Perez <camello@hotmail.com>;\n",
    "\n",
    "To: PePePote <nombre@gmail.com>;\n",
    "\n",
    "Subject: me falta material\n",
    "\n",
    "Sent: Tue, Nov 3, 2015 11:33:52 AM \n",
    "\n",
    "<span style=\"color:blue\">[734461933241186429117476L,\n",
    " 3435209764L,\n",
    " 279048452422856320008528932L,\n",
    " 1033071336087238299690020L,\n",
    " 974633772068L,\n",
    " 57111833174811684L,\n",
    " 15623803945172673572L,\n",
    " 39003172L,\n",
    " 60467473942520868L,\n",
    " 3668513721263858590756L,\n",
    " 3400737828L,\n",
    " 17334517580104451101254330950692L,\n",
    " 38741028L,\n",
    " 60467473942520868L,\n",
    " 3779622034147486278692L,\n",
    " 39265316L,\n",
    " 60467473942520868L,\n",
    " 264466043694263907773391908L,\n",
    " 39527460L,\n",
    " 60467473942520868L,\n",
    " 1011702180066720474247122611544859684L,\n",
    " 422555755556L,\n",
    " 60467473942520868L,\n",
    " 3596316486929846969380L,\n",
    " 43721764L,\n",
    " 150370742641700L,\n",
    " 63301989280982052L,\n",
    " 974633772068L,\n",
    " 3702727716L,\n",
    " 16776694611586262052L,\n",
    " 58761092191167524L,\n",
    " 931014845476L,\n",
    " 4072327277505430889508L,\n",
    " 854174540836L,\n",
    " 65516448682550308L,\n",
    " 279010673496068621976282148L,\n",
    " 974633772068L,\n",
    " 16195758769579435044L,\n",
    " 974633772068L,\n",
    " 240419345292453720492024868L,\n",
    " 245091883754532L,\n",
    " 218660688569380L,\n",
    " 3435471908L,\n",
    " 61056768755442724L,\n",
    " 3534955556L,\n",
    " 58760954251125796L,\n",
    " 75164731049239781261359916068L]</span>\n",
    "\n",
    "Además sabemos que estos tíos van a lo grande por lo que hemos deducido que la palabra que más se repite en el mensaje es kilos.\n",
    "\n",
    "Cuando estábamos desesperados, porque no lográbamos descifrar la conversación, interceptamos la siguiente conversación:\n",
    "   - **Pepe:** ¿que coj@n@s de número has usado para hacer el módulo?\n",
    "   - **Juan:** Tanta seguridad y ahora me preguntas eso....$$553612260071847767819357303824754235825777.$$\n",
    "   \n",
    "\n",
    "Descifra el mensaje a ver si podemos usarlo como prueba incriminatoria para poner a estos dos a la sombra.\n",
    "\n",
    "**Nota:** Sustituye la variable 'nombre' en la dirección de correo de Pepe por tu nombre en minúscula."
   ]
  },
  {
   "cell_type": "code",
   "execution_count": 1,
   "metadata": {
    "collapsed": true
   },
   "outputs": [],
   "source": [
    "from TANJCC import *"
   ]
  },
  {
   "cell_type": "code",
   "execution_count": 2,
   "metadata": {
    "collapsed": true
   },
   "outputs": [],
   "source": [
    "correo_cifrado = 268352937076140713164752723958686406250826\n",
    "mensaje_cifrado = [734461933241186429117476L,\n",
    " 3435209764L,\n",
    " 279048452422856320008528932L,\n",
    " 1033071336087238299690020L,\n",
    " 974633772068L,\n",
    " 57111833174811684L,\n",
    " 15623803945172673572L,\n",
    " 39003172L,\n",
    " 60467473942520868L,\n",
    " 3668513721263858590756L,\n",
    " 3400737828L,\n",
    " 17334517580104451101254330950692L,\n",
    " 38741028L,\n",
    " 60467473942520868L,\n",
    " 3779622034147486278692L,\n",
    " 39265316L,\n",
    " 60467473942520868L,\n",
    " 264466043694263907773391908L,\n",
    " 39527460L,\n",
    " 60467473942520868L,\n",
    " 1011702180066720474247122611544859684L,\n",
    " 422555755556L,\n",
    " 60467473942520868L,\n",
    " 3596316486929846969380L,\n",
    " 43721764L,\n",
    " 150370742641700L,\n",
    " 63301989280982052L,\n",
    " 974633772068L,\n",
    " 3702727716L,\n",
    " 16776694611586262052L,\n",
    " 58761092191167524L,\n",
    " 931014845476L,\n",
    " 4072327277505430889508L,\n",
    " 854174540836L,\n",
    " 65516448682550308L,\n",
    " 279010673496068621976282148L,\n",
    " 974633772068L,\n",
    " 16195758769579435044L,\n",
    " 974633772068L,\n",
    " 240419345292453720492024868L,\n",
    " 245091883754532L,\n",
    " 218660688569380L,\n",
    " 3435471908L,\n",
    " 61056768755442724L,\n",
    " 3534955556L,\n",
    " 58760954251125796L,\n",
    " 75164731049239781261359916068L]\n",
    "n = 553612260071847767819357303824754235825777\n"
   ]
  },
  {
   "cell_type": "markdown",
   "metadata": {
    "collapsed": true
   },
   "source": [
    "Contamos el número de apariciones para cada número para determinar cuál es la codificación de la palabra kilos:"
   ]
  },
  {
   "cell_type": "code",
   "execution_count": 11,
   "metadata": {
    "collapsed": false
   },
   "outputs": [
    {
     "name": "stdout",
     "output_type": "stream",
     "text": [
      "60467473942520868\n"
     ]
    }
   ],
   "source": [
    "counting = dict((i,mensaje_cifrado.count(i)) for i in mensaje_cifrado)\n",
    "coded_kilos = max(counting, key=counting.get)\n",
    "\n",
    "print coded_kilos"
   ]
  },
  {
   "cell_type": "code",
   "execution_count": null,
   "metadata": {
    "collapsed": true
   },
   "outputs": [],
   "source": []
  }
 ],
 "metadata": {
  "kernelspec": {
   "display_name": "Python 2",
   "language": "python",
   "name": "python2"
  },
  "language_info": {
   "codemirror_mode": {
    "name": "ipython",
    "version": 2
   },
   "file_extension": ".py",
   "mimetype": "text/x-python",
   "name": "python",
   "nbconvert_exporter": "python",
   "pygments_lexer": "ipython2",
   "version": "2.7.11"
  }
 },
 "nbformat": 4,
 "nbformat_minor": 0
}
