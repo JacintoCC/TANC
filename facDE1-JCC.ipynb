{
 "cells": [
  {
   "cell_type": "markdown",
   "metadata": {},
   "source": [
    "# Factorización en anillos de enteros de cuerpos cuadráticos $\\mathbb{Q}(\\sqrt{d})$, con $d<0$."
   ]
  },
  {
   "cell_type": "code",
   "execution_count": 1,
   "metadata": {
    "collapsed": false
   },
   "outputs": [],
   "source": [
    "from TANJCC import *"
   ]
  },
  {
   "cell_type": "markdown",
   "metadata": {},
   "source": [
    "Vamos a estudiar como factorizar en los anillos de enteros $\\mathbb{O}$ de cuerpos cuadráticos $\\mathbb{Q}(\\sqrt{d})$ con \n",
    "$d=-1,-2,-3,-7,-11$.\n",
    "\n",
    "- **Caso 1.-**  $\\quad d = -1,-2$.  Tenemos $d \\not\\equiv 1 \\mbox{ mod } 4$ y por tanto $\\mathbb{O}=\\mathbb{Z}[\\sqrt{d}]$.\n",
    "\n",
    "- **Caso 2.-**  $\\quad d =-3,-7,-11$. Tenemos $d \\equiv 1 \\mbox{ mod } 4$ y por tanto $\\mathbb{O}=\\mathbb{Z}[\\frac{1+\\sqrt{d}}{2}]$.\n",
    "\n",
    "Para poder llevar una notación homogénea en los dos casos vamos a denotar \n",
    "$$ \n",
    "e = \\sqrt d \\quad\\mbox{si}\\quad d=-1,-2 \\quad  \\mbox{y} \\quad e = \\frac{1+\\sqrt d}{2} \\quad \\mbox{ en otro caso.}\n",
    "$$\n",
    "\n",
    "Un elemento de $\\mathbb{O}$ será una expresión de la forma $\\alpha=a+b*e$, con $a,b\\in \\mathbb{Z}$. "
   ]
  },
  {
   "cell_type": "markdown",
   "metadata": {},
   "source": [
    "En Python la $i$ compleja se denota por $j$,  $J$ o también $I$. Un complejo puede introducirse al menos de dos maneras:"
   ]
  },
  {
   "cell_type": "code",
   "execution_count": 2,
   "metadata": {
    "collapsed": true
   },
   "outputs": [],
   "source": [
    "alpha= 3+5j"
   ]
  },
  {
   "cell_type": "code",
   "execution_count": 3,
   "metadata": {
    "collapsed": false,
    "scrolled": true
   },
   "outputs": [
    {
     "data": {
      "text/plain": [
       "complex"
      ]
     },
     "execution_count": 3,
     "metadata": {},
     "output_type": "execute_result"
    }
   ],
   "source": [
    "type(alpha)"
   ]
  },
  {
   "cell_type": "code",
   "execution_count": 4,
   "metadata": {
    "collapsed": false
   },
   "outputs": [],
   "source": [
    "beta=complex(2,-3)"
   ]
  },
  {
   "cell_type": "code",
   "execution_count": 5,
   "metadata": {
    "collapsed": false
   },
   "outputs": [
    {
     "data": {
      "text/plain": [
       "complex"
      ]
     },
     "execution_count": 5,
     "metadata": {},
     "output_type": "execute_result"
    }
   ],
   "source": [
    "type(beta)"
   ]
  },
  {
   "cell_type": "markdown",
   "metadata": {},
   "source": [
    "Podemos operar con ellos independientemente de como los hayamos introducido."
   ]
  },
  {
   "cell_type": "code",
   "execution_count": 6,
   "metadata": {
    "collapsed": false
   },
   "outputs": [
    {
     "data": {
      "text/plain": [
       "(5+2j)"
      ]
     },
     "execution_count": 6,
     "metadata": {},
     "output_type": "execute_result"
    }
   ],
   "source": [
    "alpha+beta"
   ]
  },
  {
   "cell_type": "code",
   "execution_count": 7,
   "metadata": {
    "collapsed": false
   },
   "outputs": [
    {
     "data": {
      "text/plain": [
       "(21+1j)"
      ]
     },
     "execution_count": 7,
     "metadata": {},
     "output_type": "execute_result"
    }
   ],
   "source": [
    "alpha*beta"
   ]
  },
  {
   "cell_type": "markdown",
   "metadata": {},
   "source": [
    "Podemos recuperar la parte real o la imaginaria, o calcular conjugados"
   ]
  },
  {
   "cell_type": "code",
   "execution_count": 8,
   "metadata": {
    "collapsed": false
   },
   "outputs": [
    {
     "data": {
      "text/plain": [
       "3.0"
      ]
     },
     "execution_count": 8,
     "metadata": {},
     "output_type": "execute_result"
    }
   ],
   "source": [
    "alpha.real"
   ]
  },
  {
   "cell_type": "code",
   "execution_count": 9,
   "metadata": {
    "collapsed": false
   },
   "outputs": [
    {
     "data": {
      "text/plain": [
       "-3.0"
      ]
     },
     "execution_count": 9,
     "metadata": {},
     "output_type": "execute_result"
    }
   ],
   "source": [
    "beta.imag"
   ]
  },
  {
   "cell_type": "code",
   "execution_count": 10,
   "metadata": {
    "collapsed": false
   },
   "outputs": [
    {
     "data": {
      "text/plain": [
       "(3-5j)"
      ]
     },
     "execution_count": 10,
     "metadata": {},
     "output_type": "execute_result"
    }
   ],
   "source": [
    "alpha.conjugate()"
   ]
  },
  {
   "cell_type": "code",
   "execution_count": 11,
   "metadata": {
    "collapsed": false
   },
   "outputs": [
    {
     "data": {
      "text/plain": [
       "(2+3j)"
      ]
     },
     "execution_count": 11,
     "metadata": {},
     "output_type": "execute_result"
    }
   ],
   "source": [
    "beta.conjugate()"
   ]
  },
  {
   "cell_type": "markdown",
   "metadata": {},
   "source": [
    "Vamos a introducir generadores del anillo de enteros, uno de cada tipo."
   ]
  },
  {
   "cell_type": "code",
   "execution_count": 12,
   "metadata": {
    "collapsed": false
   },
   "outputs": [],
   "source": [
    "e1=sqrt(-2)\n",
    "e2=(-1+sqrt(-3))/2"
   ]
  },
  {
   "cell_type": "code",
   "execution_count": 13,
   "metadata": {
    "collapsed": false
   },
   "outputs": [
    {
     "name": "stdout",
     "output_type": "stream",
     "text": [
      "sqrt(2)*I\n",
      "-1/2 + sqrt(3)*I/2\n"
     ]
    }
   ],
   "source": [
    "print e1\n",
    "print e2"
   ]
  },
  {
   "cell_type": "markdown",
   "metadata": {},
   "source": [
    "Veamos de que tipo son los datos que hemos introducido"
   ]
  },
  {
   "cell_type": "code",
   "execution_count": 14,
   "metadata": {
    "collapsed": false
   },
   "outputs": [
    {
     "data": {
      "text/plain": [
       "sympy.core.mul.Mul"
      ]
     },
     "execution_count": 14,
     "metadata": {},
     "output_type": "execute_result"
    }
   ],
   "source": [
    "type(e1)"
   ]
  },
  {
   "cell_type": "code",
   "execution_count": 15,
   "metadata": {
    "collapsed": false
   },
   "outputs": [
    {
     "data": {
      "text/plain": [
       "sympy.core.add.Add"
      ]
     },
     "execution_count": 15,
     "metadata": {},
     "output_type": "execute_result"
    }
   ],
   "source": [
    "type(e2)"
   ]
  },
  {
   "cell_type": "markdown",
   "metadata": {},
   "source": [
    "Podemos ver que e1 y e2 no son tratados como complejos y por tanto algunas funciones para complejos no funcionan"
   ]
  },
  {
   "cell_type": "code",
   "execution_count": 16,
   "metadata": {
    "collapsed": false
   },
   "outputs": [],
   "source": [
    "#e1.real -Da error, como se dice-"
   ]
  },
  {
   "cell_type": "markdown",
   "metadata": {},
   "source": [
    "Pero otras si"
   ]
  },
  {
   "cell_type": "code",
   "execution_count": 17,
   "metadata": {
    "collapsed": false
   },
   "outputs": [
    {
     "data": {
      "text/plain": [
       "-sqrt(2)*I"
      ]
     },
     "execution_count": 17,
     "metadata": {},
     "output_type": "execute_result"
    }
   ],
   "source": [
    "e1.conjugate()"
   ]
  },
  {
   "cell_type": "markdown",
   "metadata": {},
   "source": [
    "Y podemos trabajar con ellos"
   ]
  },
  {
   "cell_type": "code",
   "execution_count": 18,
   "metadata": {
    "collapsed": false
   },
   "outputs": [],
   "source": [
    "alpha1=expand((3-4*e1)*(1-2*e1))\n",
    "alpha2=expand((2-5*e2)*(4-3*e2))"
   ]
  },
  {
   "cell_type": "code",
   "execution_count": 19,
   "metadata": {
    "collapsed": false
   },
   "outputs": [
    {
     "name": "stdout",
     "output_type": "stream",
     "text": [
      "-13 - 10*sqrt(2)*I\n"
     ]
    }
   ],
   "source": [
    "print alpha1"
   ]
  },
  {
   "cell_type": "code",
   "execution_count": 20,
   "metadata": {
    "collapsed": false
   },
   "outputs": [
    {
     "name": "stdout",
     "output_type": "stream",
     "text": [
      "27/2 - 41*sqrt(3)*I/2\n"
     ]
    }
   ],
   "source": [
    "print(alpha2)"
   ]
  },
  {
   "cell_type": "markdown",
   "metadata": {},
   "source": [
    "## ¡¡¡ Cuidado con el operador <span style=\"color:red\">/</span>  !!!!"
   ]
  },
  {
   "cell_type": "code",
   "execution_count": 21,
   "metadata": {
    "collapsed": false
   },
   "outputs": [],
   "source": [
    "a=1/2 +(5/2)*sqrt(-3)"
   ]
  },
  {
   "cell_type": "code",
   "execution_count": 22,
   "metadata": {
    "collapsed": false
   },
   "outputs": [
    {
     "data": {
      "text/plain": [
       "2*sqrt(3)*I"
      ]
     },
     "execution_count": 22,
     "metadata": {},
     "output_type": "execute_result"
    }
   ],
   "source": [
    "a"
   ]
  },
  {
   "cell_type": "markdown",
   "metadata": {},
   "source": [
    "Python ha tomado 1/2=0 y 5/2=2,  que no es lo que queremos. La forma en que Python trabaja con racionales es un poco \"patatera?¿?\" así que cuidado con cómo introducís un elemento de $\\mathbb Q (\\sqrt d)$."
   ]
  },
  {
   "cell_type": "code",
   "execution_count": 23,
   "metadata": {
    "collapsed": false
   },
   "outputs": [],
   "source": [
    "aa=Rational(1,2) + Rational(5,2)*sqrt(-3)"
   ]
  },
  {
   "cell_type": "code",
   "execution_count": 24,
   "metadata": {
    "collapsed": false,
    "scrolled": true
   },
   "outputs": [
    {
     "data": {
      "text/plain": [
       "1/2 + 5*sqrt(3)*I/2"
      ]
     },
     "execution_count": 24,
     "metadata": {},
     "output_type": "execute_result"
    }
   ],
   "source": [
    "aa"
   ]
  },
  {
   "cell_type": "markdown",
   "metadata": {},
   "source": [
    "Podemos operar con este valor, por ejemplo:"
   ]
  },
  {
   "cell_type": "code",
   "execution_count": 25,
   "metadata": {
    "collapsed": false
   },
   "outputs": [
    {
     "data": {
      "text/plain": [
       "59/2 - 57*sqrt(3)*I/2"
      ]
     },
     "execution_count": 25,
     "metadata": {},
     "output_type": "execute_result"
    }
   ],
   "source": [
    "5*aa+2*alpha2"
   ]
  },
  {
   "cell_type": "code",
   "execution_count": 26,
   "metadata": {
    "collapsed": false
   },
   "outputs": [
    {
     "data": {
      "text/plain": [
       "(1/2 + 5*sqrt(3)*I/2)*(27/2 - 41*sqrt(3)*I/2)"
      ]
     },
     "execution_count": 26,
     "metadata": {},
     "output_type": "execute_result"
    }
   ],
   "source": [
    "aa*alpha2"
   ]
  },
  {
   "cell_type": "code",
   "execution_count": 27,
   "metadata": {
    "collapsed": false
   },
   "outputs": [
    {
     "data": {
      "text/plain": [
       "321/2 + 47*sqrt(3)*I/2"
      ]
     },
     "execution_count": 27,
     "metadata": {},
     "output_type": "execute_result"
    }
   ],
   "source": [
    "simplify(aa*alpha2)"
   ]
  },
  {
   "cell_type": "markdown",
   "metadata": {},
   "source": [
    "## ¿Es entero?"
   ]
  },
  {
   "cell_type": "markdown",
   "metadata": {},
   "source": [
    "Para ver si un elemento $\\alpha \\in \\mathbb{Q}(\\sqrt d )$ es entero tenemos dos opciones:\n",
    " - Calcular la norma y la traza de $\\alpha$ y ver que están en $\\mathbb Z$, o bien,\n",
    " - Calcular el polinomio mínimo de $\\alpha$ y ver que está en $\\mathbb Z [x]$."
   ]
  },
  {
   "cell_type": "markdown",
   "metadata": {},
   "source": [
    "** Ejercicio 1.-** Define funciones:\n",
    " - <span style=\"color:red\">norma($\\alpha$), traza($\\alpha$)</span> para calcular la norma y la traza de un elemento en $\\mathbb{Q}(\\sqrt d)$.\n",
    " - <span style=\"color:red\">es_entero($\\alpha$)</span> con salida true o false dependiendo de si $\\alpha$ es o no entero algebraico."
   ]
  },
  {
   "cell_type": "code",
   "execution_count": 28,
   "metadata": {
    "collapsed": false,
    "scrolled": true
   },
   "outputs": [
    {
     "data": {
      "text/plain": [
       "369"
      ]
     },
     "execution_count": 28,
     "metadata": {},
     "output_type": "execute_result"
    }
   ],
   "source": [
    "norma(alpha1)"
   ]
  },
  {
   "cell_type": "code",
   "execution_count": 29,
   "metadata": {
    "collapsed": false
   },
   "outputs": [
    {
     "data": {
      "text/plain": [
       "27"
      ]
     },
     "execution_count": 29,
     "metadata": {},
     "output_type": "execute_result"
    }
   ],
   "source": [
    "traza(alpha2)"
   ]
  },
  {
   "cell_type": "markdown",
   "metadata": {},
   "source": [
    "Para la función $\\texttt{es_entero}$ he hecho aparte una función para que dé el resultado correcto, pues no se puede comprobar directamente que el tipo es entero. Esto se debe a que el objeto $\\texttt{Rational(1,1)}$ tiene el tipo $\\texttt{One}$ en lugar de $\\texttt{Integer}$. Ocurre lo mismo con $\\texttt{Rational(1,2)}$, que tiene el tipo $\\texttt{Half}$ en lugar de $\\texttt{Rational}$."
   ]
  },
  {
   "cell_type": "code",
   "execution_count": 30,
   "metadata": {
    "collapsed": false
   },
   "outputs": [
    {
     "data": {
      "text/plain": [
       "True"
      ]
     },
     "execution_count": 30,
     "metadata": {},
     "output_type": "execute_result"
    }
   ],
   "source": [
    "es_entero(alpha1)"
   ]
  },
  {
   "cell_type": "markdown",
   "metadata": {},
   "source": [
    "## Enteros"
   ]
  },
  {
   "cell_type": "markdown",
   "metadata": {},
   "source": [
    "Cualquier elemento $\\alpha \\in \\mathbb Q (\\sqrt d)$ se escribe de la forma $\\alpha=x+y*\\sqrt d$ con $x,y\\in \\mathbb Q$. Por otro lado, $\\{1,e\\}$ es una base entera de $\\mathbb Q(\\sqrt d)$ y por tanto,  si $\\alpha$ es un entero, podemos encontrar enteros $a,b\\in\\mathbb Z$ tales que $\\alpha=a + b*e$."
   ]
  },
  {
   "cell_type": "markdown",
   "metadata": {},
   "source": [
    "**Ejercicio 2.-** Define funciones:\n",
    " - <span style=\"color:red\">xy($\\alpha$,d)</span> con salida el par $(x,y)\\in \\mathbb Q^2$ tal que $\\alpha=x+y*\\sqrt d$.\n",
    " - <span style=\"color:red\">ab($\\alpha$,d)</span> que, en el caso de ser $\\alpha$ entero, tenga como salida el par $(a,b)\\in \\mathbb Z^2$ tal que $\\alpha=a+b*e$."
   ]
  },
  {
   "cell_type": "markdown",
   "metadata": {},
   "source": [
    "Estos métodos realizan la misma operación: en base a un número, $e$ o $\\sqrt{d}$, se calcula el coeficiente de la base en el número y el resto, números que deben estar en $\\mathbb{Q}$ para $\\texttt{xy}$ y en $\\mathbb{Z}$ para $\\texttt{ab}$. Con lo que he implementado el método $\\texttt{getCoefsOfType(alpha, base, type_coefs)}$. En caso de no estar alpha en $\\mathbb{O}$  o en $\\mathbb{Q}(\\sqrt{d})$, mostramos un aviso."
   ]
  },
  {
   "cell_type": "code",
   "execution_count": 31,
   "metadata": {
    "collapsed": false
   },
   "outputs": [
    {
     "name": "stdout",
     "output_type": "stream",
     "text": [
      "[1/2, 1/2]\n",
      "[0, 1]\n"
     ]
    }
   ],
   "source": [
    "alpha = Rational(1,2) + Rational(1,2)*sqrt(-3)\n",
    "\n",
    "print xy(alpha, -3)\n",
    "print ab(alpha, -3)"
   ]
  },
  {
   "cell_type": "markdown",
   "metadata": {},
   "source": [
    "## Funciones divide y cociente"
   ]
  },
  {
   "cell_type": "markdown",
   "metadata": {},
   "source": [
    "**Ejercicio 3.-** Define funciones:\n",
    "- <span style=\"color:red\">divide($\\alpha,\\beta$)</span>  con salida true si $\\alpha$ divide a $\\beta$ y false en otro caso.\n",
    "- <span style=\"color:red\">cociente($\\alpha,\\beta$)</span> que en el caso de que $\\alpha$ divida a $\\beta$ calcule el cociente de la división."
   ]
  },
  {
   "cell_type": "markdown",
   "metadata": {},
   "source": [
    "$\\alpha | \\beta \\Leftrightarrow \\frac{\\beta}{\\alpha}$ es entero algebraico. Luego $\\texttt{divide}$ devuelve el valor devuelto por $\\texttt{es_entero}$ para la división."
   ]
  },
  {
   "cell_type": "code",
   "execution_count": 32,
   "metadata": {
    "collapsed": false
   },
   "outputs": [
    {
     "data": {
      "text/plain": [
       "False"
      ]
     },
     "execution_count": 32,
     "metadata": {},
     "output_type": "execute_result"
    }
   ],
   "source": [
    "divide(alpha,Rational(1,2) + Rational(1,2)*sqrt(-5))"
   ]
  },
  {
   "cell_type": "code",
   "execution_count": 33,
   "metadata": {
    "collapsed": false
   },
   "outputs": [
    {
     "data": {
      "text/plain": [
       "True"
      ]
     },
     "execution_count": 33,
     "metadata": {},
     "output_type": "execute_result"
    }
   ],
   "source": [
    "divide(Rational(1,4) + Rational(1,4)*sqrt(-3),alpha)"
   ]
  },
  {
   "cell_type": "code",
   "execution_count": 34,
   "metadata": {
    "collapsed": false
   },
   "outputs": [
    {
     "data": {
      "text/plain": [
       "2"
      ]
     },
     "execution_count": 34,
     "metadata": {},
     "output_type": "execute_result"
    }
   ],
   "source": [
    "cociente(Rational(1,4) + Rational(1,4)*sqrt(-3),alpha)"
   ]
  },
  {
   "cell_type": "markdown",
   "metadata": {},
   "source": [
    "## La ecuación de Pell $$x^2-d*y^2=n.$$"
   ]
  },
  {
   "cell_type": "markdown",
   "metadata": {},
   "source": [
    "En el caso $d<0$ la ecuación de Pell es fácil de resolver. Basta con acotar el valor de $y$, $0\\leq y\\leq \\sqrt{\\frac{n}{-d}}$, y para cada $y$ en ese intervalo comprobar si $n+d*y^2$ es un cuadrado. Notar que si $(x,y)$ es una solución de la ecuación de Pell, también lo serán $(\\pm x,\\pm y)$."
   ]
  },
  {
   "cell_type": "markdown",
   "metadata": {},
   "source": [
    "** Ejercicio 4.-** Define una función <span style=\"color:red\">eqpell(n,d)</span> que dé una lista con todas las soluciones de la ecuación de Pell. Estamos suponiendo $d<0$."
   ]
  },
  {
   "cell_type": "code",
   "execution_count": 35,
   "metadata": {
    "collapsed": false
   },
   "outputs": [
    {
     "data": {
      "text/plain": [
       "[[2, 0], [-2, 0]]"
      ]
     },
     "execution_count": 35,
     "metadata": {},
     "output_type": "execute_result"
    }
   ],
   "source": [
    "eqpell(4,-3)"
   ]
  },
  {
   "cell_type": "markdown",
   "metadata": {
    "collapsed": true
   },
   "source": [
    "## Cálculo de elementos con una determinada norma."
   ]
  },
  {
   "cell_type": "markdown",
   "metadata": {},
   "source": [
    "Pretendemos ahora calcular elementos en $\\mathbb O$ con una norma determinada. Tendremos que distinguir según estemos en el **caso 1** o en el **caso2**.\n",
    "\n",
    "- **Caso 1.-** $d \\not\\equiv 1 \\mbox{ mod } 4$. Para calcular los elementos con norma $n$ basta con resolver la ecuación de Pell $x^2-d*y^2=n$, cada solución $(x,y)$ de esta ecuación da lugar a un elemento $\\alpha=x+y*\\sqrt d$ con norma $n$.\n",
    "- **Caso 2.-** $d \\equiv 1 \\mbox{ mod } 4$. En este caso los elementos de $\\mathbb O$ son de la forma \n",
    "$$\n",
    "\\alpha = a - b *\\frac{1+\\sqrt d}{2} = \\frac{2a+b + b*\\sqrt d}{2}=\\frac{x+y*\\sqrt d}{2},\n",
    "$$\n",
    "con $x=2a+b$ e $y=b$. Entonces $norma(\\alpha)=\\frac{x^2-d*y^2}{4}$, por tanto para calcular los elementos con norma $n$ resolvemos la ecuación de Pell $x^2-d*y^2=4*n$. Cada solución $(x,y)$ de esta ecuación nos dará un elemento $\\alpha=\\frac{x+y*\\sqrt d}{2}$ de norma $n$, pero tendremos que asegurarnos que $\\alpha$ es entero. Esto lo podemos hacer con la función  <span style=\"color:green\">es_entero</span> o bien comprobando que $x-y$ es par."
   ]
  },
  {
   "cell_type": "markdown",
   "metadata": {},
   "source": [
    "** Ejercicio 5.-** Define una función <span style=\"color:red\">connorma(n,d)</span> para calcular los elementos de $\\mathbb O$ con norma $n$."
   ]
  },
  {
   "cell_type": "markdown",
   "metadata": {},
   "source": [
    "## Unidades e irreducibles"
   ]
  },
  {
   "cell_type": "markdown",
   "metadata": {},
   "source": [
    "- Un elemento $\\alpha \\in \\mathbb O$ es una ***unidad*** si, y solo si, $norma(\\alpha)=1$.\n",
    "- Un elemento $\\alpha \\in \\mathbb O$ es ***irreducible*** si $norma(\\alpha)$ es primo o bien $norma(\\alpha)$ es un primo al cuadrado y no hay enteros de norma dicho primo.\n",
    "\n",
    "** Ejercicio 6.- ** Define funciones <span style=\"color:red\">es_unidad($\\alpha$,d)</span> y <span style=\"color:red\">es_irreducible($\\alpha$,d)</span> con salidas true o false según $\\alpha$ sea o no unidad e irreducible respectivamente.\n"
   ]
  },
  {
   "cell_type": "markdown",
   "metadata": {},
   "source": [
    "## Algoritmo de factorización."
   ]
  },
  {
   "cell_type": "markdown",
   "metadata": {},
   "source": [
    "- ** Imput: ** Un entero algebraico $\\alpha\\in \\mathbb Q(\\sqrt d)$ con $d=-1,-2,-3,-7,-11$, que no es una unidad.\n",
    "- ** Output: ** Una lista de enteros irreducibles $[\\alpha_1,\\ldots,\\alpha_r]$ tal que $\\alpha=\\alpha_1\\ldots \\alpha_r$.\n",
    "\n",
    "   - ** Paso 1.-** Calcular la norma de $\\alpha$ y factorizarla en $\\mathbb Z$,\n",
    "   $$norma(\\alpha)=p_1^{e_1} p_2^{e_2}\\ldots p_s^{e_s}.$$\n",
    "   - ** Paso 2.-** Calculamos la lista de enteros con norma $p_1$:\n",
    "   $$L=connorma(p_1,d)$$\n",
    "        - Si $L=\\emptyset$ entonces $p_1$ es irreducible, comprobamos si $\\alpha_1=p_1$ divide a $\\alpha$.\n",
    "        - En otro caso, para cada $\\alpha_1\\in L$ comprobamos si $\\alpha_1$ divide a $\\alpha$.\n",
    "   \n",
    "   Si $s>1$ en el paso 2 debemos encontrar un divisor propio $\\alpha_1$ de $\\alpha$. Tomamos \n",
    "   $$\\alpha=cociente(\\alpha_1,\\alpha)$$\n",
    "      y volvemos al paso 1. \n",
    "\n",
    "El algoritmo acaba cuando $\\alpha$ es unidad o irreducible."
   ]
  },
  {
   "cell_type": "markdown",
   "metadata": {},
   "source": [
    "** Ejercicio 7.-** Toma como $k$ el número de tu DNI o pasaporte (quita todas las letras) y toma $d= -1$ si $k$ es impar o $d=-2$ si $k$ es par.\n",
    "\n",
    "Elije $\\alpha$ un entero en $\\mathbb Q(\\sqrt d)$ y factorizalo aplicando el algoritmo anterior paso a paso. Asegúrate de elegir un $\\alpha$ con al menos tres factores. Asegúrate también que la factorización que obtienes es correcta.\n",
    "\n",
    "** Ejercicio 8.-** Toma como $k$ el número de tu DNI o pasaporte (quita todas las letras) módulo 3 y toma $d= -3,-7,-11$ según $k$ sea 0, 1 o 2 respectivamente. \n",
    "\n",
    "Elije $\\alpha$ un entero en $\\mathbb Q(\\sqrt d)$ y factorizalo aplicando el algoritmo anterior paso a paso. Asegúrate de elegir un $\\alpha$ con al menos tres factores. Asegúrate también que la factorización que obtienes es correcta."
   ]
  },
  {
   "cell_type": "markdown",
   "metadata": {
    "collapsed": true
   },
   "source": [
    "** Ejercicio 9 (Avanzado).-** Define una función <span style=\"color:red\">factoriza($\\alpha$,d)</span> para factorizar un elemento $\\alpha$ en el anillo de enteros de $\\mathbb Q (\\sqrt d )$. Aplica esta función a los elementos factorizados en los ejercicios 7 y 8 y asegúrate de que obtienes resultados compatibles."
   ]
  },
  {
   "cell_type": "code",
   "execution_count": null,
   "metadata": {
    "collapsed": true
   },
   "outputs": [],
   "source": []
  }
 ],
 "metadata": {
  "kernelspec": {
   "display_name": "Python 2",
   "language": "python",
   "name": "python2"
  },
  "language_info": {
   "codemirror_mode": {
    "name": "ipython",
    "version": 2
   },
   "file_extension": ".py",
   "mimetype": "text/x-python",
   "name": "python",
   "nbconvert_exporter": "python",
   "pygments_lexer": "ipython2",
   "version": "2.7.11"
  }
 },
 "nbformat": 4,
 "nbformat_minor": 0
}
