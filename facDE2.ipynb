{
 "cells": [
  {
   "cell_type": "markdown",
   "metadata": {},
   "source": [
    "# Factorización en anillos de enteros de cuerpos cuadráticos $\\mathbb{Q}(\\sqrt{d})$, con $d>0$."
   ]
  },
  {
   "cell_type": "markdown",
   "metadata": {},
   "source": [
    "Vamos a estudiar como factorizar en los anillos de enteros $\\mathbb{O}$ de cuerpos cuadráticos $\\mathbb{Q}(\\sqrt{d})$ con $d>0$, en el caso en que $\\mathbb O$ sea un D.E. Recordar que esto ocurre cuando \n",
    "$$\n",
    "d=2,3,5,6,7,11,13,17,19,21,29,33,37,41,57,73.\n",
    "$$\n",
    "\n",
    "Para poder llevar una notación homogénea vamos a denotar \n",
    "$$ \n",
    "e = \\sqrt d \\quad\\mbox{si}\\quad d\\not\\equiv 1\\mod 4 \\quad  \\mbox{y} \\\\  \\quad e = \\frac{1+\\sqrt d}{2} \\quad \\quad\\mbox{si}\\quad d\\equiv 1\\mod 4\n",
    "$$\n",
    "\n",
    "Un elemento de $\\mathbb{O}$ será una expresión de la forma $\\alpha=a+b*e$, con $a,b\\in \\mathbb{Z}$. "
   ]
  },
  {
   "cell_type": "markdown",
   "metadata": {},
   "source": [
    "El algoritmo de factorización es estos anillos es básicamente el mismo que para el caso $d<0$. La diferencia estriba principalmente en el cálculo de los elementos con una determinada norma.\n",
    "\n",
    "El primer problema que tenemos que resolver es el cálculo de conjugados ya que, en este caso, el conjugado de un elemento de $\\mathbb Q(\\sqrt d )$ no es el conjugado complejo."
   ]
  },
  {
   "cell_type": "code",
   "execution_count": 1,
   "metadata": {
    "collapsed": false
   },
   "outputs": [],
   "source": [
    "from sympy import *\n",
    "from TANJCC import *"
   ]
  },
  {
   "cell_type": "code",
   "execution_count": 2,
   "metadata": {
    "collapsed": false
   },
   "outputs": [
    {
     "data": {
      "text/plain": [
       "1"
      ]
     },
     "execution_count": 2,
     "metadata": {},
     "output_type": "execute_result"
    }
   ],
   "source": [
    "29%4"
   ]
  },
  {
   "cell_type": "markdown",
   "metadata": {},
   "source": [
    "Por tanto tomamos:"
   ]
  },
  {
   "cell_type": "code",
   "execution_count": 3,
   "metadata": {
    "collapsed": true
   },
   "outputs": [],
   "source": [
    "e1=(1+sqrt(29))/2"
   ]
  },
  {
   "cell_type": "code",
   "execution_count": 4,
   "metadata": {
    "collapsed": false
   },
   "outputs": [
    {
     "data": {
      "text/plain": [
       "1/2 + sqrt(29)/2"
      ]
     },
     "execution_count": 4,
     "metadata": {},
     "output_type": "execute_result"
    }
   ],
   "source": [
    "e1"
   ]
  },
  {
   "cell_type": "markdown",
   "metadata": {},
   "source": [
    "Intoducimos algunos elementos del anillo de enteros"
   ]
  },
  {
   "cell_type": "code",
   "execution_count": 5,
   "metadata": {
    "collapsed": false
   },
   "outputs": [],
   "source": [
    "alpha= simplify(2-17*e1);\n",
    "beta= simplify(5-6*e1)\n",
    "alpha1=Rational(1,2)+Rational(3,2)*sqrt(29)"
   ]
  },
  {
   "cell_type": "code",
   "execution_count": 6,
   "metadata": {
    "collapsed": false
   },
   "outputs": [
    {
     "data": {
      "text/plain": [
       "(-17*sqrt(29)/2 - 13/2, -3*sqrt(29) + 2, 1/2 + 3*sqrt(29)/2, 4*sqrt(29) + 727)"
      ]
     },
     "execution_count": 6,
     "metadata": {},
     "output_type": "execute_result"
    }
   ],
   "source": [
    "(alpha, beta, alpha1, simplify(alpha*beta+alpha1))"
   ]
  },
  {
   "cell_type": "markdown",
   "metadata": {},
   "source": [
    "Vemos que hace la función conjugate"
   ]
  },
  {
   "cell_type": "code",
   "execution_count": 7,
   "metadata": {
    "collapsed": false
   },
   "outputs": [
    {
     "data": {
      "text/plain": [
       "-17*sqrt(29)/2 - 13/2"
      ]
     },
     "execution_count": 7,
     "metadata": {},
     "output_type": "execute_result"
    }
   ],
   "source": [
    "alpha.conjugate()"
   ]
  },
  {
   "cell_type": "markdown",
   "metadata": {},
   "source": [
    "Por tanto $\\alpha .conjugate()=\\alpha$ y no nos vale."
   ]
  },
  {
   "cell_type": "markdown",
   "metadata": {},
   "source": [
    "## La función <span style=\"color:red\">xy($\\alpha$,d)</span>."
   ]
  },
  {
   "cell_type": "markdown",
   "metadata": {},
   "source": [
    "Cualquier elemento $\\alpha\\in \\mathbb Q(\\sqrt d)$ se escribe como $\\alpha=x+y*\\sqrt d$ con $x,y \\in \\mathbb Q$, pero no podemos utilizar el conjugado para recuperara $x$ e $y$. "
   ]
  },
  {
   "cell_type": "markdown",
   "metadata": {},
   "source": [
    "#### La función <span style=\"color:red\">args</span>.\n",
    "\n",
    "Para definir la función <span style=\"color:red\">xy($\\alpha$,d)</span> podemos utilizar la función <span style=\"color:red\">args</span>, pero hay que utilizarla con cuidado, pongo algunos ejemplos:"
   ]
  },
  {
   "cell_type": "code",
   "execution_count": 8,
   "metadata": {
    "collapsed": false
   },
   "outputs": [],
   "source": [
    "a1=2\n",
    "a2=Rational(1,2)\n",
    "a3=sqrt(29)\n",
    "a4=3*sqrt(29)\n",
    "a5=Rational(1,2)*sqrt(29)\n",
    "a6=Rational(3,2)\n",
    "a7=Rational(5,2)*sqrt(29)\n",
    "a8=Rational(3,2)+Rational(5,2)*sqrt(29)"
   ]
  },
  {
   "cell_type": "code",
   "execution_count": 9,
   "metadata": {
    "collapsed": false
   },
   "outputs": [
    {
     "data": {
      "text/plain": [
       "(3/2, 5*sqrt(29)/2)"
      ]
     },
     "execution_count": 9,
     "metadata": {},
     "output_type": "execute_result"
    }
   ],
   "source": [
    "a8.args"
   ]
  },
  {
   "cell_type": "code",
   "execution_count": 10,
   "metadata": {
    "collapsed": false
   },
   "outputs": [
    {
     "data": {
      "text/plain": [
       "(5/2, sqrt(29))"
      ]
     },
     "execution_count": 10,
     "metadata": {},
     "output_type": "execute_result"
    }
   ],
   "source": [
    "a7.args"
   ]
  },
  {
   "cell_type": "code",
   "execution_count": 11,
   "metadata": {
    "collapsed": false
   },
   "outputs": [
    {
     "data": {
      "text/plain": [
       "()"
      ]
     },
     "execution_count": 11,
     "metadata": {},
     "output_type": "execute_result"
    }
   ],
   "source": [
    "a6.args"
   ]
  },
  {
   "cell_type": "code",
   "execution_count": 12,
   "metadata": {
    "collapsed": false
   },
   "outputs": [
    {
     "data": {
      "text/plain": [
       "(1/2, sqrt(29))"
      ]
     },
     "execution_count": 12,
     "metadata": {},
     "output_type": "execute_result"
    }
   ],
   "source": [
    "a5.args"
   ]
  },
  {
   "cell_type": "code",
   "execution_count": 13,
   "metadata": {
    "collapsed": false
   },
   "outputs": [
    {
     "data": {
      "text/plain": [
       "(3, sqrt(29))"
      ]
     },
     "execution_count": 13,
     "metadata": {},
     "output_type": "execute_result"
    }
   ],
   "source": [
    "a4.args"
   ]
  },
  {
   "cell_type": "code",
   "execution_count": 14,
   "metadata": {
    "collapsed": false
   },
   "outputs": [
    {
     "data": {
      "text/plain": [
       "(29, 1/2)"
      ]
     },
     "execution_count": 14,
     "metadata": {},
     "output_type": "execute_result"
    }
   ],
   "source": [
    "a3.args"
   ]
  },
  {
   "cell_type": "code",
   "execution_count": 15,
   "metadata": {
    "collapsed": false
   },
   "outputs": [
    {
     "data": {
      "text/plain": [
       "()"
      ]
     },
     "execution_count": 15,
     "metadata": {},
     "output_type": "execute_result"
    }
   ],
   "source": [
    "a2.args"
   ]
  },
  {
   "cell_type": "code",
   "execution_count": 16,
   "metadata": {
    "collapsed": false
   },
   "outputs": [],
   "source": [
    "#a1.args"
   ]
  },
  {
   "cell_type": "code",
   "execution_count": 17,
   "metadata": {
    "collapsed": false
   },
   "outputs": [
    {
     "name": "stdout",
     "output_type": "stream",
     "text": [
      "0\n",
      "1\n"
     ]
    }
   ],
   "source": [
    "a3 = simplify(a3)\n",
    "print a3.coeff(sqrt(29),0)\n",
    "print a3.coeff(sqrt(29),1)"
   ]
  },
  {
   "cell_type": "markdown",
   "metadata": {},
   "source": [
    "**Ejercicio 1.-** Redefine la función <span style=\"color:red\">xy($\\alpha$,d)</span>, de la tarea anterior, para que valga tanto para $d<0$ como para $d>0$. \n",
    "\n",
    "Para definir esta función <span style=\"color:red\">xy($\\alpha$,d)</span> puedes usar la funcione <span style=\"color:red\">args</span> o cualquier otra función de Python que encuentres. Pero, asegúrate de que <span style=\"color:red\">xy($\\alpha$,d)</span> hace lo que debe en los distintos casos que se pueden dar. "
   ]
  },
  {
   "cell_type": "markdown",
   "metadata": {},
   "source": [
    "Redefinimos la función $\\texttt{xy}$ usando la función $\\texttt{coeff}$. El primer coeficiente será el coeficiente del término independiente y lo obtendremos con $\\texttt{.coeff(sqrt(d),0)}$, el segundo, con $\\texttt{.coeff(sqrt(d),1)}$. La idea de esta forma es tratar a los elementos en $\\mathbb{O}$ como polinomios en $\\sqrt{d}$ y obtener sus coeficientes."
   ]
  },
  {
   "cell_type": "code",
   "execution_count": 18,
   "metadata": {
    "collapsed": false
   },
   "outputs": [
    {
     "name": "stdout",
     "output_type": "stream",
     "text": [
      "(1/2, 0)\n",
      "(0, 1/2)\n",
      "(3/2, 5/2)\n"
     ]
    }
   ],
   "source": [
    "print xy(a2,29)\n",
    "print xy(a5,29)\n",
    "print xy(a8,29)"
   ]
  },
  {
   "cell_type": "markdown",
   "metadata": {},
   "source": [
    "## El resto de las funciones auxiliares"
   ]
  },
  {
   "cell_type": "markdown",
   "metadata": {},
   "source": [
    "**Ejercicio 2.-** Redefine las siguientes funciones de la tarea factDE1 para que funcionen tanto para $d<0$ como para $d>0$:\n",
    "\n",
    "- <span style=\"color:red\">norma($\\alpha$,d)</span>, \n",
    "- <span style=\"color:red\">traza($\\alpha$,d)</span>,\n",
    "- <span style=\"color:red\">es_entero($\\alpha$,d)</span>,\n",
    "- <span style=\"color:red\">ab($\\alpha$,d)</span>, \n",
    "- <span style=\"color:red\">divide($\\alpha,\\beta$,d)</span>,\n",
    "- <span style=\"color:red\">cociente($\\alpha,\\beta$,d)</span> y\n",
    "- <span style=\"color:red\">es_unidad($\\alpha$,d)</span>."
   ]
  },
  {
   "cell_type": "markdown",
   "metadata": {},
   "source": [
    "Para las funciones $\\texttt{norma}$ y $\\texttt{traza}$ distinguimos en los casos en los que $d<0$, en cuyo caso devolvemos la norma o la traza de $\\alpha$ considerándolos en $\\mathbb{C}$, es decir, usando el conjugado.  \n",
    "El método $\\texttt{es_entero}$ no tiene más modificación que incluir el parámetro $d$ para usarlo al calcular la traza y la norma.  \n",
    "Para la función $\\texttt{ab}$ se sigue el mismo procedimiento que para $\\texttt{xy}$.  \n",
    "En los métodos $\\texttt{divide}$ y $\\texttt{cociente}$ se incluye $d$.  \n",
    "Ahora para saber si un número es unidad, en el caso de que $d>0$, se comprueba que su norma es $\\pm 1$\n"
   ]
  },
  {
   "cell_type": "markdown",
   "metadata": {},
   "source": [
    "# La ecuación de Pell general $$x^2-d*y^2=n.$$"
   ]
  },
  {
   "cell_type": "markdown",
   "metadata": {},
   "source": [
    "Cuando $d>0$ esta ecuación tiene infinitas soluciones o ninguna.\n",
    "\n",
    "El método de resolución que aquí presentamos está basado en el articulo de J.P. Robertson ***\"Solving the general Pell equation $x^2-Dy^2=N$\".*** Que podéis encontrar en http://www.jpr2718.org/pell.pdf.\n",
    "\n",
    "Recordar que $d$ debe ser un entero positivo libre de cuadrados. "
   ]
  },
  {
   "cell_type": "markdown",
   "metadata": {},
   "source": [
    "**Ejercicio 3.-** Define una función <span style=\"color:red\">libre_de_cuadrados(d)</span> con salida true o false según $d$ sea o no libre de cuadrados. "
   ]
  },
  {
   "cell_type": "markdown",
   "metadata": {},
   "source": [
    "Para este método factorizamos $d$ con $\\texttt{factorint}$ y devolvemos $\\texttt{False}$ si encontramos un factor de grado 2 o más, $\\texttt{True}$ en caso de no haberlo."
   ]
  },
  {
   "cell_type": "code",
   "execution_count": 19,
   "metadata": {
    "collapsed": false
   },
   "outputs": [
    {
     "name": "stdout",
     "output_type": "stream",
     "text": [
      "True\n",
      "False\n",
      "False\n"
     ]
    }
   ],
   "source": [
    "print libre_de_cuadrados(13)\n",
    "print libre_de_cuadrados(12)\n",
    "print libre_de_cuadrados(147)"
   ]
  },
  {
   "cell_type": "markdown",
   "metadata": {},
   "source": [
    "## La ecuación de Pell  $$x^2-d*y^2=1.$$"
   ]
  },
  {
   "cell_type": "markdown",
   "metadata": {},
   "source": [
    "Para resolver la ecuación general de Pell primero deberemos resolverla para el caso $n=1$.\n",
    "\n",
    "Procedemos de la siguiente forma:\n",
    "\n",
    "- Calculamos la fracción continua asociada a $\\sqrt d$, \n",
    "<center> F = <span style=\"color:green\"> continued_fraction_periodic </span>(0,1,d)=$[a_0,[a_1,\\ldots,a_r]]$.</center>\n",
    "- Definimos la lista $$L=[a_0,a_1,\\ldots,a_{r-1}].$$\n",
    "**Notar que:** $a_r=2*a_0$.\n",
    "- Calculamos los <span style=\"color:green\">convergentes continued_fraction_convergents</span>(L).\n",
    "- Tomamos $x_0$ e $y_0$ el numerador y el denominador, respectivamente, del último convergente.\n",
    "- Entonces $(x_0,y_0)$ es una solución de:\n",
    "$$                \n",
    "x_0^2-d*y_0^2 =  1  \\quad \\mbox{si len(L) es par} \\\\\n",
    "x_0^2-d*y_0^2 = -1  \\quad \\mbox{si len(L) es impar}.\n",
    "$$\n",
    "\n",
    "**NOTAR QUE:** Si $u=x_0+y_0*\\sqrt d$ tiene norma -1 entonces $u^2$ tiene norma 1. \n",
    "\n",
    "Esto nos permite encontrar siempre una solución de la ecuación $x^2-d*y^2=1$, aunque len(L) sea impar. "
   ]
  },
  {
   "cell_type": "markdown",
   "metadata": {
    "collapsed": true
   },
   "source": [
    "**Ejercicio 4.-** Define una función <span style=\"color:red\">pell(d)</span> para resolver la ecuación de Pell anterior."
   ]
  },
  {
   "cell_type": "markdown",
   "metadata": {},
   "source": [
    "## La ecuación de Pell general $$x^2-d*y^2=n.$$"
   ]
  },
  {
   "cell_type": "markdown",
   "metadata": {},
   "source": [
    "La ecuación general de Pell $x^2- d*y^2 = n$ tiene infinitas o ninguna solución. \n",
    "\n",
    "Si esta ecuación tiene solución hay unas pocas que generan todas las demás, \n",
    "estas son llamadas **soluciones generadoras** (ver el artículo de Robertson).\n",
    "\n",
    "Para resolver la ecuación $x^2-d*y^2=n$ (con $d$ libre de cuadrados) procedemos de la siguiente forma:\n",
    "\n",
    " - Calculamos una solución de la ecuación $x^2-d*y^2=1$. Supongamos esta $(r,s)$ ($r$ y $s$ positivos).\n",
    " - Calculamos las cotas para $y$. \n",
    " \n",
    " Estas serán:\n",
    "            \n",
    "  - Si $n>0,\\quad 0\\leq y \\leq \\sqrt{\\frac{n*(r-1)}{2d}}$.\n",
    "  \n",
    "  - Si $n<0, \\quad\\sqrt{\\frac{-n}{d}}\\leq y \\leq \\sqrt{\\frac{-n*(r+1)}{2d}}$.\n",
    "\n",
    " - Para $y$ entre las cotas, formamos la lista de aquellos $x^2=d*y^2+n$ que son un cuadrado. Si ninguno de estos elementos es un cuadrado, la ecuación no tienen solución. En otro caso:\n",
    " - Las soluciones generadoras serán $(±x,y)$."
   ]
  },
  {
   "cell_type": "markdown",
   "metadata": {
    "collapsed": true
   },
   "source": [
    "**Ejercicio 5.-** Define una función <span style=\"color:red\">generalpell(d,n)</span> para resolver la ecuación general de Pell. Pon varios ejemplos, algunos en los que se tenga solución y otros no, y comprueba los resultados."
   ]
  },
  {
   "cell_type": "markdown",
   "metadata": {},
   "source": [
    "### Resto de las funciones auxiliares que involucran la resolución de ecuaciones de Pell."
   ]
  },
  {
   "cell_type": "markdown",
   "metadata": {},
   "source": [
    "**Ejercicio 6.-** Redefine las siguientes funciones de la tarea factDE1 para que funcionen tanto para $d<0$ como para $d>0$:\n",
    "\n",
    "- <span style=\"color:red\">es_irreducible($\\alpha$,d)</span>,\n",
    "- <span style=\"color:red\">connorma(n,d)</span>."
   ]
  },
  {
   "cell_type": "markdown",
   "metadata": {},
   "source": [
    "Para estos métodos procedemos como en la práctica anterior, únicamente distinguiendo en el caso en el que $d>0$ ó $d<0$ para la forma en la que resolver la ecuación de Pell."
   ]
  },
  {
   "cell_type": "markdown",
   "metadata": {},
   "source": [
    "## Algoritmo de factorización."
   ]
  },
  {
   "cell_type": "markdown",
   "metadata": {},
   "source": [
    "- ** Imput: ** Un entero algebraico $\\alpha\\in \\mathbb Q(\\sqrt d)$ que no es una unidad, con $d$ un entero libre de cuadrados tal que el anillo de enteros de $\\mathbb Q(\\sqrt d)$ es un DE.\n",
    "- ** Output: ** Una lista de enteros irreducibles $[\\alpha_1,\\ldots,\\alpha_r]$ tal que $\\alpha=\\alpha_1\\ldots \\alpha_r$.\n",
    "\n",
    "   - ** Paso 1.-** Calcular la norma de $\\alpha$ y factorizarla en $\\mathbb Z$,\n",
    "   $$norma(\\alpha)=p_1^{e_1} p_2^{e_2}\\ldots p_s^{e_s}.$$\n",
    "   - ** Paso 2.-** Calculamos la lista de enteros con norma $p_1$:\n",
    "   $$L=connorma(p_1,d)$$\n",
    "        - Si $L=\\emptyset$ entonces $p_1$ es irreducible, comprobamos si $\\alpha_1=p_1$ divide a $\\alpha$.\n",
    "        - En otro caso, para cada $\\alpha_1\\in L$ comprobamos si $\\alpha_1$ divide a $\\alpha$.\n",
    "   \n",
    "   Si $s>1$ en el paso 2 debemos encontrar un divisor propio $\\alpha_1$ de $\\alpha$. Tomamos \n",
    "   $$\\alpha=cociente(\\alpha_1,\\alpha)$$\n",
    "      y volvemos al paso 1. \n",
    "\n",
    "El algoritmo acaba cuando $\\alpha$ es unidad o irreducible."
   ]
  },
  {
   "cell_type": "markdown",
   "metadata": {},
   "source": [
    "** Ejercicio 7.-** Toma como $k$ el número de tu DNI o pasaporte (quita todas las letras) y toma $d$ el entero libre de cuadrados que no sea congruente con 1 módulo 4 más cercano a $k%100$.  \n",
    "\n",
    "$k = 32056356$. Tomaré $d=6$. He cogido el cuarto elemento de la lista de 16 números para los que $\\mathbb{Q}(\\sqrt{d}) es D.E. porque mi DNI es congruente con 4 módulo 16."
   ]
  },
  {
   "cell_type": "code",
   "execution_count": 20,
   "metadata": {
    "collapsed": false
   },
   "outputs": [
    {
     "name": "stdout",
     "output_type": "stream",
     "text": [
      "True\n",
      "False\n"
     ]
    }
   ],
   "source": [
    "d = 6\n",
    "print libre_de_cuadrados(d)\n",
    "print d%4 == 1"
   ]
  },
  {
   "cell_type": "markdown",
   "metadata": {},
   "source": [
    "Elije $\\alpha$ un entero en $\\mathbb{Q}(\\sqrt{d})$ y factorízalo aplicando el algoritmo anterior paso a paso. Asegúrate de elegir un $\\alpha$ con al menos tres factores. Asegúrate también que la factorización que obtienes es correcta."
   ]
  },
  {
   "cell_type": "code",
   "execution_count": 22,
   "metadata": {
    "collapsed": false
   },
   "outputs": [
    {
     "name": "stdout",
     "output_type": "stream",
     "text": [
      "-51 + 5*sqrt(6)\n"
     ]
    }
   ],
   "source": [
    "alpha_1 = -3 + sqrt(6) \n",
    "alpha_2 = 5 + sqrt(6)\n",
    "alpha_3 = 7 + sqrt(6)\n",
    "alpha = simplify(alpha_1*alpha_2*alpha_3)\n",
    "print alpha"
   ]
  },
  {
   "cell_type": "code",
   "execution_count": 23,
   "metadata": {
    "collapsed": false
   },
   "outputs": [
    {
     "data": {
      "text/plain": [
       "{-3 + sqrt(6): 1, sqrt(6) + 5: 1, sqrt(6) + 7: 1}"
      ]
     },
     "execution_count": 23,
     "metadata": {},
     "output_type": "execute_result"
    }
   ],
   "source": [
    "factoriza(alpha,6)"
   ]
  },
  {
   "cell_type": "markdown",
   "metadata": {},
   "source": [
    "** Ejercicio 8.-** Toma como $k$ el número de tu DNI o pasaporte (quita todas las letras) y toma $d$ el entero libre de cuadrados que sea congruente con 1 módulo 4 más cercano a $k%100$."
   ]
  },
  {
   "cell_type": "markdown",
   "metadata": {},
   "source": [
    "Elije $\\alpha$ un entero en $\\mathbb{Q}(\\sqrt{d})$ y factorízalo aplicando el algoritmo anterior paso a paso. Asegúrate de elegir un $\\alpha$ con al menos tres factores. Asegúate también que la factorización que obtienes es correcta."
   ]
  },
  {
   "cell_type": "markdown",
   "metadata": {},
   "source": [
    "** Ejercicio 9 (Avanzado).-** Define una función <span style=\"color:red\">factoriza($\\alpha$,d)</span> para factorizar un elemento $\\alpha$ en el anillo de enteros de $\\mathbb Q (\\sqrt d )$, que funcione tanto para $d<0$ como para $d>0$. Aplica esta función a los elementos factorizados en los ejercicios 7 y 8, y asegúrate de que obtienes resultados compatibles."
   ]
  },
  {
   "cell_type": "markdown",
   "metadata": {
    "collapsed": true
   },
   "source": [
    "## Nota:\n",
    "\n",
    "Comprueba que la función <span style=\"color:red\">factoriza($\\alpha$,d)</span> funciona tanto para $d$ positivo como negativo. Coge los ejemplos de la práctica anterior y mira que se obtiene el mismo resultado."
   ]
  },
  {
   "cell_type": "code",
   "execution_count": null,
   "metadata": {
    "collapsed": true
   },
   "outputs": [],
   "source": []
  }
 ],
 "metadata": {
  "kernelspec": {
   "display_name": "Python 2",
   "language": "python",
   "name": "python2"
  },
  "language_info": {
   "codemirror_mode": {
    "name": "ipython",
    "version": 2
   },
   "file_extension": ".py",
   "mimetype": "text/x-python",
   "name": "python",
   "nbconvert_exporter": "python",
   "pygments_lexer": "ipython2",
   "version": "2.7.11"
  }
 },
 "nbformat": 4,
 "nbformat_minor": 0
}
