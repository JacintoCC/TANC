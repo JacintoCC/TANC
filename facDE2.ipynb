{
 "cells": [
  {
   "cell_type": "markdown",
   "metadata": {},
   "source": [
    "# Factorización en anillos de enteros de cuerpos cuadráticos $\\mathbb{Q}(\\sqrt{d})$, con $d>0$."
   ]
  },
  {
   "cell_type": "markdown",
   "metadata": {},
   "source": [
    "Vamos a estudiar como factorizar en los anillos de enteros $\\mathbb{O}$ de cuerpos cuadráticos $\\mathbb{Q}(\\sqrt{d})$ con $d>0$, en el caso en que $\\mathbb O$ sea un D.E. Recordar que esto ocurre cuando \n",
    "$$\n",
    "d=2,3,5,6,7,11,13,17,19,21,29,33,37,41,57,73.\n",
    "$$\n",
    "\n",
    "Para poder llevar una notación homogénea vamos a denotar \n",
    "$$ \n",
    "e = \\sqrt d \\quad\\mbox{si}\\quad d\\not\\equiv 1\\mod 4 \\quad  \\mbox{y} \\\\  \\quad e = \\frac{1+\\sqrt d}{2} \\quad \\quad\\mbox{si}\\quad d\\equiv 1\\mod 4\n",
    "$$\n",
    "\n",
    "Un elemento de $\\mathbb{O}$ será una expresión de la forma $\\alpha=a+b*e$, con $a,b\\in \\mathbb{Z}$. "
   ]
  },
  {
   "cell_type": "markdown",
   "metadata": {},
   "source": [
    "El algoritmo de factorización es estos anillos es básicamente el mismo que para el caso $d<0$. La diferencia estriba principalmente en el cálculo de los elementos con una determinada norma.\n",
    "\n",
    "El primer problema que tenemos que resolver es el cálculo de conjugados ya que, en este caso, el conjugado de un elemento de $\\mathbb Q(\\sqrt d )$ no es el conjugado complejo."
   ]
  },
  {
   "cell_type": "code",
   "execution_count": 1,
   "metadata": {
    "collapsed": false,
    "scrolled": true
   },
   "outputs": [],
   "source": [
    "from sympy import *\n",
    "from TANJCC import *"
   ]
  },
  {
   "cell_type": "code",
   "execution_count": 2,
   "metadata": {
    "collapsed": false
   },
   "outputs": [
    {
     "name": "stdout",
     "output_type": "stream",
     "text": [
      "2\n",
      "1 0\n"
     ]
    },
    {
     "data": {
      "text/plain": [
       "[[1, 0], [-1, 0], [2, 1], [-2, 1]]"
      ]
     },
     "execution_count": 2,
     "metadata": {},
     "output_type": "execute_result"
    }
   ],
   "source": [
    "generalpell(3,1)"
   ]
  },
  {
   "cell_type": "markdown",
   "metadata": {},
   "source": [
    "Por tanto tomamos:"
   ]
  },
  {
   "cell_type": "code",
   "execution_count": null,
   "metadata": {
    "collapsed": true
   },
   "outputs": [],
   "source": [
    "e1=(1+sqrt(29))/2"
   ]
  },
  {
   "cell_type": "code",
   "execution_count": null,
   "metadata": {
    "collapsed": false
   },
   "outputs": [],
   "source": [
    "e1"
   ]
  },
  {
   "cell_type": "markdown",
   "metadata": {},
   "source": [
    "Intoducimos algunos elementos del anillo de enteros"
   ]
  },
  {
   "cell_type": "code",
   "execution_count": null,
   "metadata": {
    "collapsed": false
   },
   "outputs": [],
   "source": [
    "alpha= simplify(2-17*e1);\n",
    "beta= simplify(5-6*e1)\n",
    "alpha1=Rational(1,2)+Rational(3,2)*sqrt(29)"
   ]
  },
  {
   "cell_type": "code",
   "execution_count": null,
   "metadata": {
    "collapsed": false
   },
   "outputs": [],
   "source": [
    "(alpha, beta, alpha1, simplify(alpha*beta+alpha1))"
   ]
  },
  {
   "cell_type": "markdown",
   "metadata": {},
   "source": [
    "Vemos que hace la función conjugate"
   ]
  },
  {
   "cell_type": "code",
   "execution_count": null,
   "metadata": {
    "collapsed": false
   },
   "outputs": [],
   "source": [
    "alpha.conjugate()"
   ]
  },
  {
   "cell_type": "markdown",
   "metadata": {},
   "source": [
    "Por tanto $\\alpha .conjugate()=\\alpha$ y no nos vale."
   ]
  },
  {
   "cell_type": "markdown",
   "metadata": {},
   "source": [
    "## La función <span style=\"color:red\">xy($\\alpha$,d)</span>."
   ]
  },
  {
   "cell_type": "markdown",
   "metadata": {},
   "source": [
    "Cualquier elemento $\\alpha\\in \\mathbb Q(\\sqrt d)$ se escribe como $\\alpha=x+y*\\sqrt d$ con $x,y \\in \\mathbb Q$, pero no podemos utilizar el conjugado para recuperara $x$ e $y$. "
   ]
  },
  {
   "cell_type": "markdown",
   "metadata": {},
   "source": [
    "#### La función <span style=\"color:red\">args</span>.\n",
    "\n",
    "Para definir la función <span style=\"color:red\">xy($\\alpha$,d)</span> podemos utilizar la función <span style=\"color:red\">args</span>, pero hay que utilizarla con cuidado, pongo algunos ejemplos:"
   ]
  },
  {
   "cell_type": "code",
   "execution_count": null,
   "metadata": {
    "collapsed": false
   },
   "outputs": [],
   "source": [
    "a1=2\n",
    "a2=Rational(1,2)\n",
    "a3=sqrt(29)\n",
    "a4=3*sqrt(29)\n",
    "a5=Rational(1,2)*sqrt(29)\n",
    "a6=Rational(3,2)\n",
    "a7=Rational(5,2)*sqrt(29)\n",
    "a8=Rational(3,2)+Rational(5,2)*sqrt(29)"
   ]
  },
  {
   "cell_type": "code",
   "execution_count": null,
   "metadata": {
    "collapsed": false
   },
   "outputs": [],
   "source": [
    "a8.args"
   ]
  },
  {
   "cell_type": "code",
   "execution_count": null,
   "metadata": {
    "collapsed": false
   },
   "outputs": [],
   "source": [
    "a7.args"
   ]
  },
  {
   "cell_type": "code",
   "execution_count": null,
   "metadata": {
    "collapsed": false
   },
   "outputs": [],
   "source": [
    "a6.args"
   ]
  },
  {
   "cell_type": "code",
   "execution_count": null,
   "metadata": {
    "collapsed": false
   },
   "outputs": [],
   "source": [
    "a5.args"
   ]
  },
  {
   "cell_type": "code",
   "execution_count": null,
   "metadata": {
    "collapsed": false
   },
   "outputs": [],
   "source": [
    "a4.args"
   ]
  },
  {
   "cell_type": "code",
   "execution_count": null,
   "metadata": {
    "collapsed": false
   },
   "outputs": [],
   "source": [
    "a3.args"
   ]
  },
  {
   "cell_type": "code",
   "execution_count": null,
   "metadata": {
    "collapsed": false
   },
   "outputs": [],
   "source": [
    "a2.args"
   ]
  },
  {
   "cell_type": "code",
   "execution_count": null,
   "metadata": {
    "collapsed": false
   },
   "outputs": [],
   "source": [
    "#a1.args"
   ]
  },
  {
   "cell_type": "markdown",
   "metadata": {},
   "source": [
    "En cambio, sí nos podemos ayudar del método $\\texttt{coeff}$."
   ]
  },
  {
   "cell_type": "code",
   "execution_count": null,
   "metadata": {
    "collapsed": false
   },
   "outputs": [],
   "source": [
    "a3 = simplify(a3)\n",
    "print a3.coeff(sqrt(29),0)\n",
    "print a3.coeff(sqrt(29),1)"
   ]
  },
  {
   "cell_type": "markdown",
   "metadata": {},
   "source": [
    "**Ejercicio 1.-** Redefine la función <span style=\"color:red\">xy($\\alpha$,d)</span>, de la tarea anterior, para que valga tanto para $d<0$ como para $d>0$. \n",
    "\n",
    "Para definir esta función <span style=\"color:red\">xy($\\alpha$,d)</span> puedes usar la funcione <span style=\"color:red\">args</span> o cualquier otra función de Python que encuentres. Pero, asegúrate de que <span style=\"color:red\">xy($\\alpha$,d)</span> hace lo que debe en los distintos casos que se pueden dar. "
   ]
  },
  {
   "cell_type": "markdown",
   "metadata": {},
   "source": [
    "Redefinimos la función $\\texttt{xy}$ usando la función $\\texttt{coeff}$. El primer coeficiente será el coeficiente del término independiente y lo obtendremos con $\\texttt{.coeff(sqrt(d),0)}$, el segundo, con $\\texttt{.coeff(sqrt(d),1)}$. La idea de esta forma es tratar a los elementos en $\\mathbb{O}$ como polinomios en $\\sqrt{d}$ y obtener sus coeficientes."
   ]
  },
  {
   "cell_type": "code",
   "execution_count": null,
   "metadata": {
    "collapsed": false
   },
   "outputs": [],
   "source": [
    "print xy(a2,29)\n",
    "print xy(a5,29)\n",
    "print xy(a8,29)"
   ]
  },
  {
   "cell_type": "markdown",
   "metadata": {},
   "source": [
    "## El resto de las funciones auxiliares"
   ]
  },
  {
   "cell_type": "markdown",
   "metadata": {},
   "source": [
    "**Ejercicio 2.-** Redefine las siguientes funciones de la tarea factDE1 para que funcionen tanto para $d<0$ como para $d>0$:\n",
    "\n",
    "- <span style=\"color:red\">norma($\\alpha$,d)</span>, \n",
    "- <span style=\"color:red\">traza($\\alpha$,d)</span>,\n",
    "- <span style=\"color:red\">es_entero($\\alpha$,d)</span>,\n",
    "- <span style=\"color:red\">ab($\\alpha$,d)</span>, \n",
    "- <span style=\"color:red\">divide($\\alpha,\\beta$,d)</span>,\n",
    "- <span style=\"color:red\">cociente($\\alpha,\\beta$,d)</span> y\n",
    "- <span style=\"color:red\">es_unidad($\\alpha$,d)</span>."
   ]
  },
  {
   "cell_type": "code",
   "execution_count": null,
   "metadata": {
    "collapsed": false
   },
   "outputs": [],
   "source": [
    "print norma(sqrt(7)+1,7)\n",
    "print traza(sqrt(7)+1,7)\n",
    "print es_entero(sqrt(12)+3,sqrt(12))\n",
    "print ab(sqrt(7)+1,7)\n",
    "print es_unidad(1 + sqrt(2),2)"
   ]
  },
  {
   "cell_type": "markdown",
   "metadata": {},
   "source": [
    "Para las funciones $\\texttt{norma}$ y $\\texttt{traza}$ distinguimos en los casos en los que $d<0$, en cuyo caso devolvemos la norma o la traza de $\\alpha$ considerándolos en $\\mathbb{C}$, es decir, usando el conjugado. Hay que notar que si un número está en $\\mathbb{Q}$ entonces la norma aún para $d>0$, su norma coincide con su cuadrado y no lo haremos hallando el polinomio irreducible, que en este caso sería de primer grado. \n",
    "El método $\\texttt{es_entero}$ no tiene más modificación que incluir el parámetro $d$ para usarlo al calcular la traza y la norma.  \n",
    "Para la función $\\texttt{ab}$ se sigue un razonamiento similar al de $\\texttt{xy}$. Dividimos el coeficiente en $\\sqrt{d}$ por $e$, lo que nos da $b$. Para hallar $a$, lo hacemos con $\\alpha-be$. Así pues, $\\alpha \\in \\mathbb{O} \\ sii$ los coeficientes obtenidos son enteros.\n",
    "En los métodos $\\texttt{divide}$ y $\\texttt{cociente}$ se comprueba que el cociente esté en $\\mathbb{O}$. \n",
    "Ahora para saber si un número es unidad, en el caso de que $d>0$, se comprueba que su norma es $\\pm 1$\n"
   ]
  },
  {
   "cell_type": "markdown",
   "metadata": {},
   "source": [
    "# La ecuación de Pell general $$x^2-d*y^2=n.$$"
   ]
  },
  {
   "cell_type": "markdown",
   "metadata": {},
   "source": [
    "Cuando $d>0$ esta ecuación tiene infinitas soluciones o ninguna.\n",
    "\n",
    "El método de resolución que aquí presentamos está basado en el articulo de J.P. Robertson ***\"Solving the general Pell equation $x^2-Dy^2=N$\".*** Que podéis encontrar en http://www.jpr2718.org/pell.pdf.\n",
    "\n",
    "Recordar que $d$ debe ser un entero positivo libre de cuadrados. "
   ]
  },
  {
   "cell_type": "markdown",
   "metadata": {},
   "source": [
    "**Ejercicio 3.-** Define una función <span style=\"color:red\">libre_de_cuadrados(d)</span> con salida true o false según $d$ sea o no libre de cuadrados. "
   ]
  },
  {
   "cell_type": "markdown",
   "metadata": {},
   "source": [
    "Para este método factorizamos $d$ con $\\texttt{factorint}$ y devolvemos $\\texttt{True}$ si el mayor exponente en la factorización es 1, $\\texttt{False}$ en caso contrario, pues significará que hay un factor con exponente mayor que 1 y no es libre de cuadrados."
   ]
  },
  {
   "cell_type": "code",
   "execution_count": null,
   "metadata": {
    "collapsed": false
   },
   "outputs": [],
   "source": [
    "print libre_de_cuadrados(13)\n",
    "print libre_de_cuadrados(12)\n",
    "print libre_de_cuadrados(147)"
   ]
  },
  {
   "cell_type": "markdown",
   "metadata": {},
   "source": [
    "## La ecuación de Pell  $$x^2-d*y^2=1.$$"
   ]
  },
  {
   "cell_type": "markdown",
   "metadata": {},
   "source": [
    "Para resolver la ecuación general de Pell primero deberemos resolverla para el caso $n=1$.\n",
    "\n",
    "Procedemos de la siguiente forma:\n",
    "\n",
    "- Calculamos la fracción continua asociada a $\\sqrt d$, \n",
    "<center> F = <span style=\"color:green\"> continued_fraction_periodic </span>(0,1,d)=$[a_0,[a_1,\\ldots,a_r]]$.</center>\n",
    "- Definimos la lista $$L=[a_0,a_1,\\ldots,a_{r-1}].$$\n",
    "**Notar que:** $a_r=2*a_0$.\n",
    "- Calculamos los <span style=\"color:green\">convergentes continued_fraction_convergents</span>(L).\n",
    "- Tomamos $x_0$ e $y_0$ el numerador y el denominador, respectivamente, del último convergente.\n",
    "- Entonces $(x_0,y_0)$ es una solución de:\n",
    "$$                \n",
    "x_0^2-d*y_0^2 =  1  \\quad \\mbox{si len(L) es par} \\\\\n",
    "x_0^2-d*y_0^2 = -1  \\quad \\mbox{si len(L) es impar}.\n",
    "$$\n",
    "\n",
    "**NOTAR QUE:** Si $u=x_0+y_0*\\sqrt d$ tiene norma -1 entonces $u^2$ tiene norma 1. \n",
    "\n",
    "Esto nos permite encontrar siempre una solución de la ecuación $x^2-d*y^2=1$, aunque len(L) sea impar. "
   ]
  },
  {
   "cell_type": "markdown",
   "metadata": {
    "collapsed": true
   },
   "source": [
    "**Ejercicio 4.-** Define una función <span style=\"color:red\">pell(d)</span> para resolver la ecuación de Pell anterior."
   ]
  },
  {
   "cell_type": "markdown",
   "metadata": {},
   "source": [
    "Para $d > 0$ realizamos el algoritmo descrito. Si la longitud de $L$ es impar, devolvemos los coeficientes de $u^2$, con $u = x_0 +y_0 \\sqrt{d}$"
   ]
  },
  {
   "cell_type": "code",
   "execution_count": null,
   "metadata": {
    "collapsed": false,
    "scrolled": true
   },
   "outputs": [],
   "source": [
    "print pell(5)\n",
    "print pell(53)"
   ]
  },
  {
   "cell_type": "markdown",
   "metadata": {},
   "source": [
    "## La ecuación de Pell general $$x^2-d*y^2=n.$$"
   ]
  },
  {
   "cell_type": "markdown",
   "metadata": {},
   "source": [
    "La ecuación general de Pell $x^2- d*y^2 = n$ tiene infinitas o ninguna solución. \n",
    "\n",
    "Si esta ecuación tiene solución hay unas pocas que generan todas las demás, \n",
    "estas son llamadas **soluciones generadoras** (ver el artículo de Robertson).\n",
    "\n",
    "Para resolver la ecuación $x^2-d*y^2=n$ (con $d$ libre de cuadrados) procedemos de la siguiente forma:\n",
    "\n",
    " - Calculamos una solución de la ecuación $x^2-d*y^2=1$. Supongamos esta $(r,s)$ ($r$ y $s$ positivos).\n",
    " - Calculamos las cotas para $y$. \n",
    " \n",
    " Estas serán:\n",
    "            \n",
    "  - Si $n>0,\\quad 0\\leq y \\leq \\sqrt{\\frac{n*(r-1)}{2d}}$.\n",
    "  \n",
    "  - Si $n<0, \\quad\\sqrt{\\frac{-n}{d}}\\leq y \\leq \\sqrt{\\frac{-n*(r+1)}{2d}}$.\n",
    "\n",
    " - Para $y$ entre las cotas, formamos la lista de aquellos $x^2=d*y^2+n$ que son un cuadrado. Si ninguno de estos elementos es un cuadrado, la ecuación no tienen solución. En otro caso:\n",
    " - Las soluciones generadoras serán $(±x,y)$."
   ]
  },
  {
   "cell_type": "markdown",
   "metadata": {
    "collapsed": true
   },
   "source": [
    "**Ejercicio 5.-** Define una función <span style=\"color:red\">generalpell(d,n)</span> para resolver la ecuación general de Pell. Pon varios ejemplos, algunos en los que se tenga solución y otros no, y comprueba los resultados."
   ]
  },
  {
   "cell_type": "markdown",
   "metadata": {},
   "source": [
    "Para la ecuación $x^2 - 2y^2 = 7$, las soluciones son $x = \\pm 3, y = \\pm 1$"
   ]
  },
  {
   "cell_type": "code",
   "execution_count": null,
   "metadata": {
    "collapsed": false
   },
   "outputs": [],
   "source": [
    "generalpell(7,2)"
   ]
  },
  {
   "cell_type": "markdown",
   "metadata": {},
   "source": [
    "Para la ecuación $x^2 - 10y^2 = 2$, veamos que no hay soluciones. De aquí pasamos a $x^2 \\equiv \\pm 2 \\mod 10$. ¿Es $\\pm 2$ un R.C. módulo 10? La lista de cuadrados módulo 10 es $\\{0,1,4,9,6,5,6,9,4,1\\}$, ninguno es 2, luego no hay solución."
   ]
  },
  {
   "cell_type": "code",
   "execution_count": null,
   "metadata": {
    "collapsed": false,
    "scrolled": true
   },
   "outputs": [],
   "source": [
    "generalpell(10,2)"
   ]
  },
  {
   "cell_type": "markdown",
   "metadata": {},
   "source": [
    "### Resto de las funciones auxiliares que involucran la resolución de ecuaciones de Pell."
   ]
  },
  {
   "cell_type": "markdown",
   "metadata": {},
   "source": [
    "**Ejercicio 6.-** Redefine las siguientes funciones de la tarea factDE1 para que funcionen tanto para $d<0$ como para $d>0$:\n",
    "\n",
    "- <span style=\"color:red\">es_irreducible($\\alpha$,d)</span>,\n",
    "- <span style=\"color:red\">connorma(n,d)</span>."
   ]
  },
  {
   "cell_type": "markdown",
   "metadata": {},
   "source": [
    "Para estos métodos procedemos como en la práctica anterior, únicamente distinguiendo en el caso en el que $d>0$ ó $d<0$ para la forma en la que resolver la ecuación de Pell."
   ]
  },
  {
   "cell_type": "code",
   "execution_count": null,
   "metadata": {
    "collapsed": false
   },
   "outputs": [],
   "source": [
    "es_irreducible(sqrt(5) + 4,5)"
   ]
  },
  {
   "cell_type": "code",
   "execution_count": null,
   "metadata": {
    "collapsed": false
   },
   "outputs": [],
   "source": [
    "es_irreducible(sqrt(5)*Rational(7,2) + Rational(21,2),5)"
   ]
  },
  {
   "cell_type": "code",
   "execution_count": null,
   "metadata": {
    "collapsed": false
   },
   "outputs": [],
   "source": [
    "connorma(49,5)"
   ]
  },
  {
   "cell_type": "code",
   "execution_count": null,
   "metadata": {
    "collapsed": true
   },
   "outputs": [],
   "source": []
  },
  {
   "cell_type": "markdown",
   "metadata": {},
   "source": [
    "Notemos que no serán los únicos elementos con esta norma, pues hay infinitas unidades."
   ]
  },
  {
   "cell_type": "markdown",
   "metadata": {},
   "source": [
    "## Algoritmo de factorización."
   ]
  },
  {
   "cell_type": "markdown",
   "metadata": {},
   "source": [
    "- ** Input: ** Un entero algebraico $\\alpha\\in \\mathbb Q(\\sqrt d)$ que no es una unidad, con $d$ un entero libre de cuadrados tal que el anillo de enteros de $\\mathbb Q(\\sqrt d)$ es un DE.\n",
    "- ** Output: ** Una lista de enteros irreducibles $[\\alpha_1,\\ldots,\\alpha_r]$ tal que $\\alpha=\\alpha_1\\ldots \\alpha_r$.\n",
    "\n",
    "   - ** Paso 1.-** Calcular la norma de $\\alpha$ y factorizarla en $\\mathbb Z$,\n",
    "   $$norma(\\alpha)=p_1^{e_1} p_2^{e_2}\\ldots p_s^{e_s}.$$\n",
    "   - ** Paso 2.-** Calculamos la lista de enteros con norma $p_1$:\n",
    "   $$L=connorma(p_1,d)$$\n",
    "        - Si $L=\\emptyset$ entonces $p_1$ es irreducible, comprobamos si $\\alpha_1=p_1$ divide a $\\alpha$.\n",
    "        - En otro caso, para cada $\\alpha_1\\in L$ comprobamos si $\\alpha_1$ divide a $\\alpha$.\n",
    "   \n",
    "   Si $s>1$ en el paso 2 debemos encontrar un divisor propio $\\alpha_1$ de $\\alpha$. Tomamos \n",
    "   $$\\alpha=cociente(\\alpha_1,\\alpha)$$\n",
    "      y volvemos al paso 1. \n",
    "\n",
    "El algoritmo acaba cuando $\\alpha$ es unidad o irreducible."
   ]
  },
  {
   "cell_type": "markdown",
   "metadata": {},
   "source": [
    "** Ejercicio 7.-** Toma como $k$ el número de tu DNI o pasaporte (quita todas las letras) y toma $d$ el entero libre de cuadrados que no sea congruente con 1 módulo 4 más cercano a $k\\%100$.  \n",
    "\n",
    "$k = 32056356$. Tomaré $d=6$. He cogido el cuarto elemento de la lista de 16 números para los que $\\mathbb{Q}(\\sqrt{d})$ es D.E. porque mi DNI es congruente con 4 módulo 16."
   ]
  },
  {
   "cell_type": "code",
   "execution_count": null,
   "metadata": {
    "collapsed": false
   },
   "outputs": [],
   "source": [
    "d = 6\n",
    "print libre_de_cuadrados(d)\n",
    "print d%4 == 1"
   ]
  },
  {
   "cell_type": "markdown",
   "metadata": {},
   "source": [
    "Elije $\\alpha$ un entero en $\\mathbb{Q}(\\sqrt{d})$ y factorízalo aplicando el algoritmo anterior paso a paso. Asegúrate de elegir un $\\alpha$ con al menos tres factores. Asegúrate también que la factorización que obtienes es correcta."
   ]
  },
  {
   "cell_type": "code",
   "execution_count": null,
   "metadata": {
    "collapsed": false
   },
   "outputs": [],
   "source": [
    "alpha_1 = -3 + sqrt(6) \n",
    "alpha_2 = 5 + sqrt(6)\n",
    "alpha_3 = 7 + sqrt(6)\n",
    "alpha = simplify(alpha_1*alpha_2*alpha_3)\n",
    "print alpha"
   ]
  },
  {
   "cell_type": "code",
   "execution_count": null,
   "metadata": {
    "collapsed": false
   },
   "outputs": [],
   "source": [
    "print \"La norma de alpha es \", norma(alpha, 6)\n",
    "print \" que descompone en \", factorint(norma(alpha, 6))"
   ]
  },
  {
   "cell_type": "markdown",
   "metadata": {},
   "source": [
    "Tomaremos los elementos con norma 19:"
   ]
  },
  {
   "cell_type": "code",
   "execution_count": null,
   "metadata": {
    "collapsed": false
   },
   "outputs": [],
   "source": [
    "connorma(19,6)"
   ]
  },
  {
   "cell_type": "markdown",
   "metadata": {},
   "source": [
    "Probamos con $\\alpha_1 = \\sqrt{6} + 5$. "
   ]
  },
  {
   "cell_type": "code",
   "execution_count": null,
   "metadata": {
    "collapsed": false
   },
   "outputs": [],
   "source": [
    "alpha_1 = sqrt(6) + 5\n",
    "print divide(alpha_1,alpha,6)"
   ]
  },
  {
   "cell_type": "markdown",
   "metadata": {},
   "source": [
    "Como divide, tomamos un elemento de norma 43 en el cociente:"
   ]
  },
  {
   "cell_type": "code",
   "execution_count": null,
   "metadata": {
    "collapsed": false
   },
   "outputs": [],
   "source": [
    "a_cociente = cociente(alpha_1,alpha,6)\n",
    "print connorma(43,6)\n",
    "alpha_2 = sqrt(6) + 7\n",
    "print divide(alpha_2,a_cociente,6)"
   ]
  },
  {
   "cell_type": "markdown",
   "metadata": {},
   "source": [
    "De nuevo divide, así que tomamos el cociente y vemos si es irreducible. Habremos acabado la factorización:"
   ]
  },
  {
   "cell_type": "code",
   "execution_count": null,
   "metadata": {
    "collapsed": false
   },
   "outputs": [],
   "source": [
    "alpha_3 = cociente(alpha_2,a_cociente,6)\n",
    "print alpha_3\n",
    "print es_irreducible(alpha_3,6)"
   ]
  },
  {
   "cell_type": "markdown",
   "metadata": {},
   "source": [
    "Luego la factorización es: $\\alpha=\\alpha_1 \\alpha_2 \\alpha_3$ $=$ $(-3+\\sqrt{6})$ $(7+\\sqrt{6})$ $(5+\\sqrt{6})$ como habíamos previsto."
   ]
  },
  {
   "cell_type": "code",
   "execution_count": null,
   "metadata": {
    "collapsed": true
   },
   "outputs": [],
   "source": [
    "a = [alpha_1,alpha_2,alpha_3]"
   ]
  },
  {
   "cell_type": "markdown",
   "metadata": {},
   "source": [
    "Después de haber visto que $k$ era el DNI $\\mod 100$, pongo un ejemplo con $d=19$, pues los demás números son congruentes con 1 módulo 4."
   ]
  },
  {
   "cell_type": "code",
   "execution_count": null,
   "metadata": {
    "collapsed": false
   },
   "outputs": [],
   "source": [
    "gamma_1 = 4 + sqrt(19)\n",
    "gamma_2 = 2*sqrt(19) + 9\n",
    "gamma_3 = sqrt(19) + 6\n",
    "gamma = simplify(gamma_1*gamma_2*gamma_3)\n",
    "print gamma"
   ]
  },
  {
   "cell_type": "code",
   "execution_count": null,
   "metadata": {
    "collapsed": false
   },
   "outputs": [],
   "source": [
    "print \"La norma de gamma es \", norma(gamma, 19)\n",
    "print \" que descompone en \", factorint(norma(gamma, 19))"
   ]
  },
  {
   "cell_type": "markdown",
   "metadata": {},
   "source": [
    "Buscamos primeramente los elementos con norma 17:"
   ]
  },
  {
   "cell_type": "code",
   "execution_count": null,
   "metadata": {
    "collapsed": false
   },
   "outputs": [],
   "source": [
    "connorma(17,19)"
   ]
  },
  {
   "cell_type": "code",
   "execution_count": null,
   "metadata": {
    "collapsed": false
   },
   "outputs": [],
   "source": [
    "gamma_1 = sqrt(19) + 6\n",
    "print divide(gamma_1,gamma,19)"
   ]
  },
  {
   "cell_type": "markdown",
   "metadata": {},
   "source": [
    "Luego seguimos con la factorización, buscando elementos con norma 3:"
   ]
  },
  {
   "cell_type": "code",
   "execution_count": null,
   "metadata": {
    "collapsed": false
   },
   "outputs": [],
   "source": [
    "g_cociente = cociente(gamma_1,gamma,19)\n",
    "connorma(3,19)"
   ]
  },
  {
   "cell_type": "markdown",
   "metadata": {},
   "source": [
    "Al no haber elementos con norma 3, miramos si 3 divide a $\\gamma$:"
   ]
  },
  {
   "cell_type": "code",
   "execution_count": null,
   "metadata": {
    "collapsed": false
   },
   "outputs": [],
   "source": [
    "divide(3,gamma,19)"
   ]
  },
  {
   "cell_type": "code",
   "execution_count": null,
   "metadata": {
    "collapsed": false
   },
   "outputs": [],
   "source": [
    "pell(3)"
   ]
  },
  {
   "cell_type": "code",
   "execution_count": null,
   "metadata": {
    "collapsed": false
   },
   "outputs": [],
   "source": [
    "connorma(1,3)"
   ]
  },
  {
   "cell_type": "markdown",
   "metadata": {},
   "source": [
    "Hasta ahora no se había dado esta circunstancia, y es que no hay elementos con norma $3$ en la factorización, sino que lo había de norma $-3$. Continuamos por la lista de factores y probamos con $5$:"
   ]
  },
  {
   "cell_type": "code",
   "execution_count": null,
   "metadata": {
    "collapsed": false
   },
   "outputs": [],
   "source": [
    "print connorma(5,19)\n",
    "gamma_2 = connorma(5,19)[0]\n",
    "print divide(gamma_2,g_cociente,19)"
   ]
  },
  {
   "cell_type": "code",
   "execution_count": null,
   "metadata": {
    "collapsed": false,
    "scrolled": true
   },
   "outputs": [],
   "source": [
    "g_cociente = cociente(gamma_2,g_cociente,19)\n",
    "print es_irreducible(g_cociente,19)\n",
    "print g_cociente"
   ]
  },
  {
   "cell_type": "markdown",
   "metadata": {},
   "source": [
    "Luego ya hemos llegado a la factorización:  \n",
    "$$\\gamma = (\\sqrt{19} + 6) (4 + \\sqrt{19}) (2\\sqrt{19} + 9)$$"
   ]
  },
  {
   "cell_type": "markdown",
   "metadata": {},
   "source": [
    "** Ejercicio 8.-** Toma como $k$ el número de tu DNI o pasaporte (quita todas las letras) y toma $d$ el entero libre de cuadrados que sea congruente con 1 módulo 4 más cercano a $k%100$."
   ]
  },
  {
   "cell_type": "markdown",
   "metadata": {},
   "source": [
    "Sea $d=13$, congruente con 1 módulo 4."
   ]
  },
  {
   "cell_type": "markdown",
   "metadata": {},
   "source": [
    "Elije $\\alpha$ un entero en $\\mathbb{Q}(\\sqrt{d})$ y factorízalo aplicando el algoritmo anterior paso a paso. Asegúrate de elegir un $\\alpha$ con al menos tres factores. Asegúate también que la factorización que obtienes es correcta."
   ]
  },
  {
   "cell_type": "code",
   "execution_count": null,
   "metadata": {
    "collapsed": false
   },
   "outputs": [],
   "source": [
    "d = 13\n",
    "beta_1 = Rational(15,2)*sqrt(d) + Rational(55,2)\n",
    "beta_2 = 18*sqrt(d) + 65\n",
    "beta_3 = 4*sqrt(d) + 15\n",
    "beta = simplify(beta_1 * beta_2 * beta_3)\n",
    "\n",
    "print beta"
   ]
  },
  {
   "cell_type": "markdown",
   "metadata": {
    "collapsed": false
   },
   "source": [
    "Procedemos de la misma manera que en el ejercicio anterior, comenzamos mirando la norma de $\\beta$ y su factorización."
   ]
  },
  {
   "cell_type": "code",
   "execution_count": null,
   "metadata": {
    "collapsed": false
   },
   "outputs": [],
   "source": [
    "print es_unidad(beta,d) or es_irreducible(beta,d)\n",
    "print \"La norma de beta es \", norma(beta,d)\n",
    "print \" que descompone en \", factorint(norma(beta,d))"
   ]
  },
  {
   "cell_type": "markdown",
   "metadata": {
    "collapsed": false
   },
   "source": [
    "Tomamos elementos con norma 17"
   ]
  },
  {
   "cell_type": "code",
   "execution_count": null,
   "metadata": {
    "collapsed": false
   },
   "outputs": [],
   "source": [
    "list_possible_factors = connorma(17,13)\n",
    "print list_possible_factors"
   ]
  },
  {
   "cell_type": "markdown",
   "metadata": {},
   "source": [
    "Buscamos un factor en esta lista tal que divida a $\\beta$"
   ]
  },
  {
   "cell_type": "code",
   "execution_count": null,
   "metadata": {
    "collapsed": false
   },
   "outputs": [],
   "source": [
    "for factor in list_possible_factors:\n",
    "    if divide(factor, beta, d):\n",
    "        break\n",
    "beta_1 = factor\n",
    "print beta_1"
   ]
  },
  {
   "cell_type": "code",
   "execution_count": null,
   "metadata": {
    "collapsed": false
   },
   "outputs": [],
   "source": [
    "beta_cociente = cociente(beta_1, beta, 13)\n",
    "print beta_cociente"
   ]
  },
  {
   "cell_type": "code",
   "execution_count": null,
   "metadata": {
    "collapsed": false,
    "scrolled": true
   },
   "outputs": [],
   "source": [
    "es_unidad(beta_cociente,d) or es_irreducible(beta_cociente,d)\n",
    "    "
   ]
  },
  {
   "cell_type": "markdown",
   "metadata": {},
   "source": [
    "Luego debemos seguir con el proceso. Buscaremos ahora un factor de $\\beta_1$ con norma 13:"
   ]
  },
  {
   "cell_type": "code",
   "execution_count": null,
   "metadata": {
    "collapsed": false
   },
   "outputs": [],
   "source": [
    "for factor in connorma(13,d):\n",
    "    if divide(factor, beta_cociente, d):\n",
    "        break\n",
    "beta_2= factor\n",
    "print beta_2"
   ]
  },
  {
   "cell_type": "code",
   "execution_count": null,
   "metadata": {
    "collapsed": false
   },
   "outputs": [],
   "source": [
    "beta_cociente = cociente(beta_2,beta_cociente,d)\n",
    "print beta_cociente\n",
    "print norma(beta_cociente,d)"
   ]
  },
  {
   "cell_type": "code",
   "execution_count": null,
   "metadata": {
    "collapsed": false
   },
   "outputs": [],
   "source": [
    "print connorma(5,d)"
   ]
  },
  {
   "cell_type": "markdown",
   "metadata": {},
   "source": [
    "Como no hay elementos con norma 5, miramos si 5 divide a $\\beta_{cociente}$, en cuyo caso tendremos que 5 es un factor:"
   ]
  },
  {
   "cell_type": "code",
   "execution_count": null,
   "metadata": {
    "collapsed": false
   },
   "outputs": [],
   "source": [
    "print divide(5,beta_cociente,d)"
   ]
  },
  {
   "cell_type": "code",
   "execution_count": null,
   "metadata": {
    "collapsed": false
   },
   "outputs": [],
   "source": [
    "beta_3 = 5\n",
    "beta_cociente = cociente(5, beta_cociente, d)\n",
    "print beta_cociente"
   ]
  },
  {
   "cell_type": "code",
   "execution_count": null,
   "metadata": {
    "collapsed": false
   },
   "outputs": [],
   "source": [
    "print es_irreducible(beta_cociente,d) or es_unidad(beta_cociente,d)"
   ]
  },
  {
   "cell_type": "markdown",
   "metadata": {},
   "source": [
    "Y por tanto hemos llegado a la factorización:"
   ]
  },
  {
   "cell_type": "code",
   "execution_count": null,
   "metadata": {
    "collapsed": false
   },
   "outputs": [],
   "source": [
    "beta_4 = beta_cociente\n",
    "print beta\n",
    "print simplify(beta_1*beta_2*beta_3*beta_4)"
   ]
  },
  {
   "cell_type": "code",
   "execution_count": null,
   "metadata": {
    "collapsed": true
   },
   "outputs": [],
   "source": [
    "b = [beta_1,beta_2,beta_3,beta_4]"
   ]
  },
  {
   "cell_type": "markdown",
   "metadata": {},
   "source": [
    "Lo hago ahora para $d=57$:"
   ]
  },
  {
   "cell_type": "code",
   "execution_count": null,
   "metadata": {
    "collapsed": false
   },
   "outputs": [],
   "source": [
    "delta_1 = 15 + 2*sqrt(57)\n",
    "delta_2 = -8 + sqrt(57)\n",
    "delta_3 = 5*sqrt(57) + 38\n",
    "delta = simplify(delta_1*delta_2*delta_3)\n",
    "print delta"
   ]
  },
  {
   "cell_type": "code",
   "execution_count": null,
   "metadata": {
    "collapsed": false
   },
   "outputs": [],
   "source": [
    "print \"La norma de delta es \", norma(delta, 57)\n",
    "print \" que descompone en \", factorint(norma(delta, 57))"
   ]
  },
  {
   "cell_type": "markdown",
   "metadata": {},
   "source": [
    "Buscamos primeramente los elementos con norma 17:"
   ]
  },
  {
   "cell_type": "code",
   "execution_count": null,
   "metadata": {
    "collapsed": false
   },
   "outputs": [],
   "source": [
    "connorma(19,57)"
   ]
  },
  {
   "cell_type": "code",
   "execution_count": null,
   "metadata": {
    "collapsed": false
   },
   "outputs": [],
   "source": [
    "delta_1 = 5*sqrt(57) + 38\n",
    "print divide(delta_1,delta,57)"
   ]
  },
  {
   "cell_type": "markdown",
   "metadata": {},
   "source": [
    "Luego seguimos con la factorización, buscando elementos con norma 3:"
   ]
  },
  {
   "cell_type": "code",
   "execution_count": null,
   "metadata": {
    "collapsed": false
   },
   "outputs": [],
   "source": [
    "d_cociente = cociente(delta_1,delta,57)\n",
    "connorma(3,57)"
   ]
  },
  {
   "cell_type": "markdown",
   "metadata": {},
   "source": [
    "Al no haber elementos con norma 3, miramos si 3 divide a $\\delta_{cociente}$:"
   ]
  },
  {
   "cell_type": "code",
   "execution_count": null,
   "metadata": {
    "collapsed": false
   },
   "outputs": [],
   "source": [
    "divide(3,d_cociente,57)"
   ]
  },
  {
   "cell_type": "markdown",
   "metadata": {},
   "source": [
    "De nuevo no hay elementos con norma $3$ en la factorización ni $3$ divide al número a factorizar, sino que lo habrá de norma $-3$. Continuamos por la lista de factores y probamos con $7$:"
   ]
  },
  {
   "cell_type": "code",
   "execution_count": null,
   "metadata": {
    "collapsed": false
   },
   "outputs": [],
   "source": [
    "print connorma(7,57)\n",
    "delta_2 = connorma(7,57)[0]\n",
    "print divide(delta_2,d_cociente,57)"
   ]
  },
  {
   "cell_type": "markdown",
   "metadata": {},
   "source": [
    "Como no divide, probamos con el otro elemento de norma $7$:"
   ]
  },
  {
   "cell_type": "code",
   "execution_count": null,
   "metadata": {
    "collapsed": false
   },
   "outputs": [],
   "source": [
    "delta_2 = connorma(7,57)[1]\n",
    "print divide(delta_2,d_cociente,57)"
   ]
  },
  {
   "cell_type": "code",
   "execution_count": null,
   "metadata": {
    "collapsed": false,
    "scrolled": true
   },
   "outputs": [],
   "source": [
    "d_cociente = cociente(delta_2,d_cociente,57)\n",
    "print es_irreducible(d_cociente,57)\n",
    "print d_cociente"
   ]
  },
  {
   "cell_type": "markdown",
   "metadata": {},
   "source": [
    "Luego ya hemos llegado a la factorización:  \n",
    "    $$\\delta = (5\\sqrt{57} + 38) (15 + 2\\sqrt{57}) (-8 + \\sqrt{57})$$"
   ]
  },
  {
   "cell_type": "code",
   "execution_count": null,
   "metadata": {
    "collapsed": true
   },
   "outputs": [],
   "source": [
    "d = [delta_1,delta_2,d_cociente]"
   ]
  },
  {
   "cell_type": "markdown",
   "metadata": {},
   "source": [
    "** Ejercicio 9 (Avanzado).-** Define una función <span style=\"color:red\">factoriza($\\alpha$,d)</span> para factorizar un elemento $\\alpha$ en el anillo de enteros de $\\mathbb Q (\\sqrt d )$, que funcione tanto para $d<0$ como para $d>0$. Aplica esta función a los elementos factorizados en los ejercicios 7 y 8, y asegúrate de que obtienes resultados compatibles."
   ]
  },
  {
   "cell_type": "code",
   "execution_count": null,
   "metadata": {
    "collapsed": false
   },
   "outputs": [],
   "source": [
    "print factoriza(alpha,6)"
   ]
  },
  {
   "cell_type": "code",
   "execution_count": null,
   "metadata": {
    "collapsed": false
   },
   "outputs": [],
   "source": [
    "print a"
   ]
  },
  {
   "cell_type": "markdown",
   "metadata": {},
   "source": [
    "Vemos que coinciden exactamente los tres factores."
   ]
  },
  {
   "cell_type": "code",
   "execution_count": null,
   "metadata": {
    "collapsed": false,
    "scrolled": true
   },
   "outputs": [],
   "source": [
    "factoriza(beta,13)"
   ]
  },
  {
   "cell_type": "code",
   "execution_count": null,
   "metadata": {
    "collapsed": false
   },
   "outputs": [],
   "source": [
    "b"
   ]
  },
  {
   "cell_type": "markdown",
   "metadata": {},
   "source": [
    "Vemos cómo en este ejemplo también coinciden los factores encontrados yendo paso por paso que con la función. En otros ejemplos y ejecuciones de versiones de la función, se pueden encontrar factorizaciones equivalentes no necesariamente idénticas (con diferentes unidades y factores según estas unidades)."
   ]
  },
  {
   "cell_type": "code",
   "execution_count": null,
   "metadata": {
    "collapsed": false
   },
   "outputs": [],
   "source": [
    "factoriza(gamma,19)"
   ]
  },
  {
   "cell_type": "code",
   "execution_count": null,
   "metadata": {
    "collapsed": false
   },
   "outputs": [],
   "source": [
    "factoriza(delta,57)"
   ]
  },
  {
   "cell_type": "markdown",
   "metadata": {},
   "source": [
    "Y las soluciones son las mismas que las de partida, luego son correctas."
   ]
  },
  {
   "cell_type": "markdown",
   "metadata": {
    "collapsed": true
   },
   "source": [
    "## Nota:\n",
    "\n",
    "Comprueba que la función <span style=\"color:red\">factoriza($\\alpha$,d)</span> funciona tanto para $d$ positivo como negativo. Coge los ejemplos de la práctica anterior y mira que se obtiene el mismo resultado."
   ]
  },
  {
   "cell_type": "code",
   "execution_count": null,
   "metadata": {
    "collapsed": false
   },
   "outputs": [],
   "source": [
    "alpha_1A = sqrt(2)*I\n",
    "alpha_2A = 1 + sqrt(2)*I\n",
    "alpha_3A = 3 + 2*sqrt(2)*I\n",
    "alpha_A = simplify(alpha_1A * alpha_2A * alpha_3A)\n",
    "print \"AlphaA=\",simplify(alpha_A)\n",
    "factores_alpha_A = factoriza(alpha_A,-2)\n",
    "\n",
    "print \"Factorización:\",factores_alpha_A\n",
    "\n",
    "mult = 1\n",
    "for f in factores_alpha_A:\n",
    "    mult *= f\n",
    "    \n",
    "simplify(mult) == alpha_A"
   ]
  },
  {
   "cell_type": "code",
   "execution_count": null,
   "metadata": {
    "collapsed": false
   },
   "outputs": [],
   "source": [
    "alpha_1B = -1 + 2*sqrt(-3)\n",
    "alpha_2B = 2 + sqrt(-3)\n",
    "alpha_3B = Rational(5,2) + sqrt(-3)*Rational(1,2)\n",
    "alpha_B = simplify(alpha_1B * alpha_2B * alpha_3B)\n",
    "print \"AlphaB=\", alpha_B\n",
    "\n",
    "factores_alpha_B = factoriza(alpha_B,-3)\n",
    "\n",
    "print \"Factorización:\",factores_alpha_B\n",
    "\n",
    "mult = 1\n",
    "for f in factores_alpha_B:\n",
    "    mult *= f\n",
    "    \n",
    "simplify(mult) == alpha_B"
   ]
  },
  {
   "cell_type": "markdown",
   "metadata": {},
   "source": [
    "Comprobamos que la factorización es esencialmente la misma viendo que los factores son asociados:"
   ]
  },
  {
   "cell_type": "code",
   "execution_count": null,
   "metadata": {
    "collapsed": true
   },
   "outputs": [],
   "source": [
    "alpha_1Bbis = -Rational(7,2) + sqrt(-3)*Rational(1,2)\n",
    "alpha_2Bbis = Rational(5,2) + sqrt(-3)*Rational(1,2)"
   ]
  },
  {
   "cell_type": "code",
   "execution_count": null,
   "metadata": {
    "collapsed": false
   },
   "outputs": [],
   "source": [
    "norma(alpha_2B/alpha_2Bbis,-3)"
   ]
  },
  {
   "cell_type": "code",
   "execution_count": null,
   "metadata": {
    "collapsed": false
   },
   "outputs": [],
   "source": [
    "norma(alpha_1B/alpha_1Bbis,-3)"
   ]
  },
  {
   "cell_type": "markdown",
   "metadata": {},
   "source": [
    "De modo que son todos asociados."
   ]
  }
 ],
 "metadata": {
  "kernelspec": {
   "display_name": "Python 2",
   "language": "python",
   "name": "python2"
  },
  "language_info": {
   "codemirror_mode": {
    "name": "ipython",
    "version": 2
   },
   "file_extension": ".py",
   "mimetype": "text/x-python",
   "name": "python",
   "nbconvert_exporter": "python",
   "pygments_lexer": "ipython2",
   "version": "2.7.11"
  }
 },
 "nbformat": 4,
 "nbformat_minor": 0
}
