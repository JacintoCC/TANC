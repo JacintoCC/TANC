{
 "cells": [
  {
   "cell_type": "markdown",
   "metadata": {
    "collapsed": true
   },
   "source": [
    "# Factorización de Ideales"
   ]
  },
  {
   "cell_type": "markdown",
   "metadata": {},
   "source": [
    "Como hasta ahora denotaremos $\\mathbb{O}$ al anillo de enteros de $\\mathbb Q (\\sqrt d )$, este será $\\mathbb O =\\mathbb Z [e]$, con: \n",
    "\n",
    "$$ \n",
    "e = \\sqrt d \\qquad\\mbox{si}\\quad d\\not\\equiv 1\\mod 4 \\quad  \\mbox{y} \\\\  \\quad e = \\frac{1+\\sqrt d}{2} \\quad \\quad\\mbox{si}\\quad d\\equiv 1\\mod 4.\n",
    "$$\n",
    "\n",
    "Voy a denotar $f$ al polinomio irreducible de $e$. Si $p$ es un primo, $f_p$ denoratá el polinomio $f$ módulo $p$.\n",
    "\n",
    "## Debemos saber:\n",
    "\n",
    "- Un ideal $I\\leq \\mathbb O$ siempre puede ser generado por dos enteros algebráicos $I=<\\alpha,\\beta>$.\n",
    "- Un sistema de generadores del grupo abeliano $(I,+)$ está dado por $\\{\\alpha,\\alpha*e,\\beta,\\beta*e\\}$.\n",
    "- La norma de $I$ es el orden del grupo abeliano cociente $\\mathbb O/I$. Es un entero positivo y pertenece a $I$.\n",
    "- Un ideal $I$ divide a otro $J$ si, y solo si, $J\\subseteq I$. Denotamos $I|J$ cuando $I$ divide a $J$. En este caso $J*I^{-1}$ es un ideal de $\\mathbb O$.\n",
    "- Si factorizamos la norma de $I$, $norma(I)=p_1,p_2,\\ldots,p_r$, y tomamos un ideal primo $\\mathfrak P$ que divida a $I$, entonces $norma(I)\\in I\\subseteq \\mathfrak P$ y por tanto existe un $i$ tal que $p_i\\in \\mathfrak P$, o equivalentemente $\\mathfrak P|p_i$ por tanto los ideales primos que dividen a $I$ están entre los ideales primos que dividen a los primos que dividen a $norma(I)$.\n",
    "- Si $p\\in \\mathbb Z$ es un primo, entonces:\n",
    "    - El ideal generado por $p$, $<p>$, es primo en $\\mathbb O$ si, y solo si, el polinomio $f_p$ es irreducible. En este caso $<p>^{-1}=\\frac{1}{p}\\mathbb O$, basta observar que $<p>*\\frac{1}{p}\\mathbb O =\\mathbb O $.\n",
    "    - Si $f_p$ es reducible, $f_p=(x-a)*(x-b)$, entonces $$<p>=\\mathfrak P_1 *\\mathfrak P_2,$$ con $\\mathfrak P_1=<p,e-a>$ y $\\mathfrak P_2 =<p,e-b>$ los únicos ideales primos que dividen a $p$. \n",
    "    - Además, en este caso, \n",
    "    $$ \\mathfrak P_1^{-1}= \\frac{1}{p}<p,e-b> \\quad\\mbox{y}\\quad \\mathfrak P_2^{-1}= \\frac{1}{p}<p,e-a>$$\n",
    "- Un ideal $\\mathfrak P$ es primo si:\n",
    "    - Su norma es un primo $p$ de $\\mathbb Z$ o bien\n",
    "    - Su norma es un primo $p$ al cuadrado, norma$(\\mathfrak P )=p^2$, $p\\in\\mathfrak P$ y $f_p$ es irreducible. En este caso $\\mathfrak P$ es el ideal principal generado por $p$."
   ]
  },
  {
   "cell_type": "markdown",
   "metadata": {},
   "source": [
    "## Funciones auxiliares."
   ]
  },
  {
   "cell_type": "markdown",
   "metadata": {},
   "source": [
    "- <span style=\"color:red\">LR</span> para calcular la matriz reducida asociada a una matriz.\n",
    "- <span style=\"color:red\">norma</span> para calcular la norma de un ideal.\n",
    "- <span style=\"color:red\">esO</span> para ver si un ideal es el total.\n",
    "- <span style=\"color:red\">pertenece</span> para ver si un elemento pertenece o no a un ideal.\n",
    "- <span style=\"color:red\">divide</span> para ver si un ideal divide a otro.\n",
    "- <span style=\"color:red\">productodos</span> para calcular dos generadores del producto de dos ideales.\n",
    "- <span style=\"color:red\">producto</span> para calcular dos generadores del producto de una lista de ideales.\n",
    "- <span style=\"color:red\">divisores($p$,d)</span>, con $p$ un primo de $\\mathbb Z$ positivo, para calcular los divisores de $p$.\n",
    "- <span style=\"color:red\">es_primo</span> para ver si un ideal es primo.\n",
    "- <span style=\"color:red\">cociente</span> para calcular el cociente $I*\\mathfrak P^{-1}$ en el caso en que el idea primo $\\mathfrak P$ divida a $I$."
   ]
  },
  {
   "cell_type": "code",
   "execution_count": 1,
   "metadata": {
    "collapsed": false
   },
   "outputs": [],
   "source": [
    "from TANJCC import *"
   ]
  },
  {
   "cell_type": "code",
   "execution_count": 2,
   "metadata": {
    "collapsed": false
   },
   "outputs": [
    {
     "data": {
      "text/plain": [
       "[]"
      ]
     },
     "execution_count": 2,
     "metadata": {},
     "output_type": "execute_result"
    }
   ],
   "source": [
    "connorma(-3,-299)"
   ]
  },
  {
   "cell_type": "markdown",
   "metadata": {},
   "source": [
    "Comenzamos con el método $\\texttt{LR}$, que calcula la matriz reducida. Para ello he definido un orden \"$<_{def}$\", donde $a<_{def}b$ si $0 \\neq |a|<|b|$ ó $0 \\neq a, b=0$. Así, realizamos el proceso de reducir mediante combinaciones lineales dejando las columnas con $0$ al final. Se hace en primer lugar para la matriz completa aplicando el orden a la primera fila, y después para la submatriz resultante de quitar la primera columna, aplicando el orden a la segunda fila."
   ]
  },
  {
   "cell_type": "code",
   "execution_count": 3,
   "metadata": {
    "collapsed": false,
    "scrolled": true
   },
   "outputs": [
    {
     "name": "stdout",
     "output_type": "stream",
     "text": [
      "Primer ejemplo [[3, 0, 0, 0, 0], [2, -2, 0, 0, 0]]\n",
      "Segundo ejemplo [[1, 0, 0, 0, 0], [-97, 1, 0, 0, 0]]\n"
     ]
    }
   ],
   "source": [
    "print 'Primer ejemplo', LR([[3,6,-9,6,15],\n",
    "          [2,2,4,-8,10]])\n",
    "print 'Segundo ejemplo', LR([[123,14,51,13,72],\n",
    "          [18,-24,-72,73,7]])"
   ]
  },
  {
   "cell_type": "markdown",
   "metadata": {},
   "source": [
    "Llamaré $\\texttt{norma_ideal}$ a la función $\\texttt{norma}$  para evitar redefinir la función norma usada en la práctica anterior. Dado un ideal en forma de dos generadores, se forma una matriz con los coeficientes dados por $\\texttt{ab}$, obtenemos la matriz reducida y se obtiene la norma:"
   ]
  },
  {
   "cell_type": "code",
   "execution_count": 4,
   "metadata": {
    "collapsed": false
   },
   "outputs": [
    {
     "name": "stdout",
     "output_type": "stream",
     "text": [
      "Primer ejemplo: 1\n",
      "Segundo ejemplo: 4\n",
      "Tercer ejemplo: 1\n"
     ]
    }
   ],
   "source": [
    "print 'Primer ejemplo:', norma_ideal([1, sqrt(3)],3)\n",
    "print 'Segundo ejemplo:', norma_ideal([-6 + 2*sqrt(5), -3 + sqrt(5)],5)\n",
    "print 'Tercer ejemplo:', norma_ideal([2,3], 5)"
   ]
  },
  {
   "cell_type": "markdown",
   "metadata": {},
   "source": [
    "Para $\\texttt{esO}$ devolvemos si la norma del ideal dado es 1:"
   ]
  },
  {
   "cell_type": "code",
   "execution_count": 5,
   "metadata": {
    "collapsed": false
   },
   "outputs": [
    {
     "name": "stdout",
     "output_type": "stream",
     "text": [
      "Primer ejemplo: True\n",
      "Segundo ejemplo: False\n",
      "Tercer ejemplo: False\n"
     ]
    }
   ],
   "source": [
    "print 'Primer ejemplo:', esO([1, sqrt(3)],3)\n",
    "print 'Segundo ejemplo:', esO([-6 + 2*sqrt(5), -3 + sqrt(5)],5)\n",
    "print 'Tercer ejemplo:', esO([4*sqrt(3), 24+ sqrt(3)],3)"
   ]
  },
  {
   "cell_type": "markdown",
   "metadata": {},
   "source": [
    "Para el método pertenece, resolvemos el sistema de ecuaciones para hallar sus coeficientes en el ideal y comprobamos que sean enteros."
   ]
  },
  {
   "cell_type": "code",
   "execution_count": 6,
   "metadata": {
    "collapsed": false
   },
   "outputs": [
    {
     "name": "stdout",
     "output_type": "stream",
     "text": [
      "Primer ejemplo:\n",
      "True\n",
      "Segundo ejemplo: \n",
      "True\n",
      "Segundo ejemplo: \n",
      "True\n",
      "True\n"
     ]
    }
   ],
   "source": [
    "print 'Primer ejemplo:' \n",
    "print pertenece(sqrt(5)*2, [-6 + 2*sqrt(5), -3 + sqrt(5)], 5)\n",
    "print 'Segundo ejemplo: '\n",
    "print pertenece(1, [1, sqrt(3)], 3)\n",
    "print 'Segundo ejemplo: '\n",
    "print pertenece(1+sqrt(-5), [2, sqrt(-5)], -5)\n",
    "print esO([2, sqrt(-5)], -5)"
   ]
  },
  {
   "cell_type": "markdown",
   "metadata": {},
   "source": [
    "Para el método $\\texttt{divide_ideal}$, comprobamos que todos los generadores de J estén en I."
   ]
  },
  {
   "cell_type": "code",
   "execution_count": 7,
   "metadata": {
    "collapsed": false
   },
   "outputs": [
    {
     "name": "stdout",
     "output_type": "stream",
     "text": [
      "Primer ejemplo:\n",
      "True\n",
      "Segundo ejemplo: \n",
      "False\n",
      "Segundo ejemplo: \n",
      "True\n"
     ]
    }
   ],
   "source": [
    "print 'Primer ejemplo:' \n",
    "print divide_ideal([2,3], [2+sqrt(-5),3+4*sqrt(-5)],-5)\n",
    "print 'Segundo ejemplo: '\n",
    "print divide_ideal([4*sqrt(3), 24+ sqrt(3)], [1, sqrt(3)], 3)\n",
    "print 'Segundo ejemplo: '\n",
    "print divide_ideal([4*sqrt(3), 24+ sqrt(3)],\n",
    "                   [12 + 96*sqrt(3), 12*sqrt(3)], 3)"
   ]
  },
  {
   "cell_type": "markdown",
   "metadata": {},
   "source": [
    "Puesto que para un mismo ideal puede haber generadores distintos, por lo que hacemos un método que nos devuelva si dos ideales son el mismo para comprobar que los resultados sean correctos."
   ]
  },
  {
   "cell_type": "code",
   "execution_count": 8,
   "metadata": {
    "collapsed": false
   },
   "outputs": [
    {
     "data": {
      "text/plain": [
       "[9 + 72*sqrt(3), 9*sqrt(3)]"
      ]
     },
     "execution_count": 8,
     "metadata": {},
     "output_type": "execute_result"
    }
   ],
   "source": [
    "productodos([4*sqrt(3), 24+ sqrt(3)], \n",
    "            [3*sqrt(3)],3)"
   ]
  },
  {
   "cell_type": "code",
   "execution_count": 9,
   "metadata": {
    "collapsed": false
   },
   "outputs": [
    {
     "data": {
      "text/plain": [
       "True"
      ]
     },
     "execution_count": 9,
     "metadata": {},
     "output_type": "execute_result"
    }
   ],
   "source": [
    "equals_id([4*sqrt(3), 24+ sqrt(3)],[3, sqrt(3)],3)"
   ]
  },
  {
   "cell_type": "code",
   "execution_count": 10,
   "metadata": {
    "collapsed": false,
    "scrolled": true
   },
   "outputs": [
    {
     "data": {
      "text/plain": [
       "[-9 + 9*sqrt(3), -18*sqrt(3)]"
      ]
     },
     "execution_count": 10,
     "metadata": {},
     "output_type": "execute_result"
    }
   ],
   "source": [
    "producto([[4*sqrt(3), 24+ sqrt(3)], \n",
    "          [3*sqrt(3)],\n",
    "          [1-sqrt(3)]],3)"
   ]
  },
  {
   "cell_type": "markdown",
   "metadata": {},
   "source": [
    "Para calcular los divisores primos del ideal generado por un primo  $p \\in \\mathbb{Z}$, tomamos el polinomio mínimo de $e$ módulo $p$. Si es irreducible, $<p>$ será un ideal primo, en caso contrario, los divisores serán $<p-a>,<p-b>$"
   ]
  },
  {
   "cell_type": "code",
   "execution_count": 11,
   "metadata": {
    "collapsed": false
   },
   "outputs": [
    {
     "name": "stdout",
     "output_type": "stream",
     "text": [
      "[[7, -2 + sqrt(11)], [7, 2 + sqrt(11)]]\n",
      "[[3]]\n"
     ]
    }
   ],
   "source": [
    "print divisores(7,11)\n",
    "print divisores(3,5)"
   ]
  },
  {
   "cell_type": "code",
   "execution_count": 12,
   "metadata": {
    "collapsed": false
   },
   "outputs": [
    {
     "name": "stdout",
     "output_type": "stream",
     "text": [
      "[[7, -2 + sqrt(11)], [7, 2 + sqrt(11)]]\n",
      "[[3]]\n"
     ]
    }
   ],
   "source": [
    "print divisores(7,11)\n",
    "print divisores(3,11)"
   ]
  },
  {
   "cell_type": "markdown",
   "metadata": {},
   "source": [
    "En base a lo que ya hemos visto, implementamos la función $\\texttt{es_primo}$"
   ]
  },
  {
   "cell_type": "code",
   "execution_count": 13,
   "metadata": {
    "collapsed": false
   },
   "outputs": [
    {
     "name": "stdout",
     "output_type": "stream",
     "text": [
      "Ejemplo 1 True\n",
      "Ejemplo 2 False\n",
      "Ejemplo 3 False\n",
      "Ejemplo 4 True\n"
     ]
    }
   ],
   "source": [
    "print 'Ejemplo 1', es_primo([7, -2 + sqrt(11)],11)\n",
    "print 'Ejemplo 2', es_primo([7],11)\n",
    "print 'Ejemplo 3', es_primo([-9 + 9*sqrt(3), -18*sqrt(3)],3)\n",
    "print 'Ejemplo 4', es_primo([3],11)"
   ]
  },
  {
   "cell_type": "markdown",
   "metadata": {},
   "source": [
    "Ahora vemos que la función $\\texttt{divide}$ y $\\texttt{cociente}$ funcionan y es la operación inversa de $\\texttt{producto}$. "
   ]
  },
  {
   "cell_type": "code",
   "execution_count": 14,
   "metadata": {
    "collapsed": false
   },
   "outputs": [
    {
     "name": "stdout",
     "output_type": "stream",
     "text": [
      "[7 + 21*sqrt(11), 49*sqrt(11)]\n"
     ]
    }
   ],
   "source": [
    "print productodos([7],[7, -2 + sqrt(11)],11)"
   ]
  },
  {
   "cell_type": "code",
   "execution_count": 15,
   "metadata": {
    "collapsed": false
   },
   "outputs": [
    {
     "name": "stdout",
     "output_type": "stream",
     "text": [
      "True\n",
      "[7 + 21*sqrt(11), 7*sqrt(11)]\n"
     ]
    }
   ],
   "source": [
    "print divide_ideal([7, -2 + sqrt(11)],[7 + 21*sqrt(11), 49*sqrt(11)],11)\n",
    "print cociente_ideal([7 + 21*sqrt(11), 49*sqrt(11)],\n",
    "                     [7, -2 + sqrt(11)],11)"
   ]
  },
  {
   "cell_type": "code",
   "execution_count": 16,
   "metadata": {
    "collapsed": false
   },
   "outputs": [
    {
     "data": {
      "text/plain": [
       "True"
      ]
     },
     "execution_count": 16,
     "metadata": {},
     "output_type": "execute_result"
    }
   ],
   "source": [
    "equals_id([7],[-7 + 1155*sqrt(11), -7*sqrt(11)],11)"
   ]
  },
  {
   "cell_type": "markdown",
   "metadata": {},
   "source": [
    "## Algoritmo de factorización"
   ]
  },
  {
   "cell_type": "markdown",
   "metadata": {},
   "source": [
    "- ** Input: ** Un ideal $I\\leq \\mathbb O$, o equivalentemente dos enteros $(\\alpha,\\beta)$ que lo generan.\n",
    "- ** Output: ** Una lista de ideales primos $[\\mathfrak P_1,\\ldots,\\mathfrak P_r]$ tal que $I=\\mathfrak P_1\\ldots \\mathfrak P_r$ o equivalentemente una lista de pares, los generadores de los ideales primos.\n",
    "\n",
    "\n",
    "   - ** Paso 1.-** Si $esO(I,d)=true$ fin, $I$ es el total.\n",
    "   - ** Paso 2.-** Si $es\\_primo(I,d)=true$ fin, la lista de divisores primos de $I$ es $[I]$.\n",
    "\n",
    "En otro caso:\n",
    "   - ** Paso 3.-** Calculamos la norma de $I$.\n",
    "   - ** Paso 4.-** Factorizamos la norma de $I$ en $\\mathbb Z$,  $$norma(I)=p_1 p_2\\ldots p_r.$$\n",
    "   - ** Paso 5.-** Fijamos el primer primo $p_1$ y calculamos la lista $L$ de ideales primos que dividen a $p_1$. Esta lista tiene un elemento, si $p_1$ es primo en $\\mathbb O$, o dos, si no lo es. \n",
    "   - ** Paso 6.-** Tomamos $\\mathfrak P\\in L$ comprobamos si $\\mathfrak P$ divide a $I$.\n",
    "   - ** Paso 7.-** Si $\\mathfrak P$ divide a $I$ en el **Paso 6**, añadimos $\\mathfrak P$ a la lista de divisores de $I$, tomamos \n",
    "   $$I=cociente(I,\\mathfrak P)$$\n",
    "      y volvemos al **Paso 1**. \n",
    "   - ** Paso 8.-** Si $\\mathfrak P$ no divide a $I$ en el **Paso 6** elejimos el siguiente $\\mathfrak P$ en $L$ y volvemos al **Paso 6**.\n",
    "\n",
    "El algoritmo acaba cuando $I$ es el total o un ideal primo."
   ]
  },
  {
   "cell_type": "markdown",
   "metadata": {},
   "source": [
    "###  Ejercicio1.-"
   ]
  },
  {
   "cell_type": "markdown",
   "metadata": {},
   "source": [
    "Los enteros $d$ de la lista $L$ siguiente son libres de cuadrados y el anillo de enteros de $\\mathbb Q (\\sqrt d)$ no es un DFU."
   ]
  },
  {
   "cell_type": "code",
   "execution_count": 17,
   "metadata": {
    "collapsed": false
   },
   "outputs": [],
   "source": [
    "L=[10, 15, 26, 30, 34, 35, 39, 42, 51, 55, 58, 65, 66, 70, 74, \n",
    "  78, 79, 82, 85, 87, 91, 95, 102, 105, 106, 110, 111, 114, \n",
    "  115, 119, 122, 123, 138, 142, 143, 145, 146, \n",
    "  154, 155, 159,  165, 170, 174, 178, 182, 183, 185, 186, \n",
    "  187, 190, 194, 195]"
   ]
  },
  {
   "cell_type": "markdown",
   "metadata": {},
   "source": [
    "- Toma $k$=tres últimas cifras de tu DNI módulo 196. \n",
    "- Toma $d_1$ y $d_2$ los números en $L$ más próximos a $k$ que sean congruente y no congruente con 1 módulo 4 respectivamente.\n",
    "- Elige ideales $I_1$ e $I_2$ en el anillo de enteros de  $\\mathbb Q (\\sqrt d_i), i=1,2$, cuyas normas tengan almenos tres factores, y factorizalos."
   ]
  },
  {
   "cell_type": "code",
   "execution_count": 18,
   "metadata": {
    "collapsed": false
   },
   "outputs": [],
   "source": [
    "k = 356%196\n",
    "d1 = 165\n",
    "d2 = 159"
   ]
  },
  {
   "cell_type": "markdown",
   "metadata": {},
   "source": [
    "#### Ejercicio 1 $d \\equiv 1 \\mod{4}$\n",
    "Comenzamos buscando los tres factores que darán lugar al primer ideal a factorizar $I_1$ "
   ]
  },
  {
   "cell_type": "code",
   "execution_count": 19,
   "metadata": {
    "collapsed": false
   },
   "outputs": [
    {
     "name": "stdout",
     "output_type": "stream",
     "text": [
      "[[3, 3/2 + sqrt(165)/2], [3, 3/2 + sqrt(165)/2]]\n",
      "True\n",
      "True\n"
     ]
    }
   ],
   "source": [
    "print divisores(3,d1)\n",
    "print es_primo([17],d1)\n",
    "print es_primo([19],d1)"
   ]
  },
  {
   "cell_type": "code",
   "execution_count": 20,
   "metadata": {
    "collapsed": false
   },
   "outputs": [
    {
     "name": "stdout",
     "output_type": "stream",
     "text": [
      "[969/2 + 323*sqrt(165)/2, -969*sqrt(165)/2 - 969/2]\n"
     ]
    }
   ],
   "source": [
    "I_11 = [3, Rational(3,2) + sqrt(165)*Rational(1,2)]\n",
    "I_12 = [17]\n",
    "I_13 = [19]\n",
    "print producto([I_11,I_12,I_13],d1)"
   ]
  },
  {
   "cell_type": "markdown",
   "metadata": {},
   "source": [
    "Una vez que tenemos $I_1$, factorizamos su norma:"
   ]
  },
  {
   "cell_type": "code",
   "execution_count": 21,
   "metadata": {
    "collapsed": false
   },
   "outputs": [
    {
     "name": "stdout",
     "output_type": "stream",
     "text": [
      "312987\n",
      "{19: 2, 17: 2, 3: 1}\n"
     ]
    }
   ],
   "source": [
    "I_1 = [Rational(969,2) + Rational(323,2)*sqrt(165), \n",
    "       -Rational(969,2)*sqrt(165) - Rational(969,2)]\n",
    "print norma_ideal(I_1, d1)\n",
    "print factorint(norma_ideal(I_1, d1))"
   ]
  },
  {
   "cell_type": "markdown",
   "metadata": {},
   "source": [
    "Las opciones para el factor con norma $19^2$ será o bien que haya un único factor ($<19>$) con norma $19^2$ o que haya dos con norma 19. Para ello vemos si $<19>$ es primo:"
   ]
  },
  {
   "cell_type": "code",
   "execution_count": 22,
   "metadata": {
    "collapsed": false,
    "scrolled": true
   },
   "outputs": [
    {
     "name": "stdout",
     "output_type": "stream",
     "text": [
      "True\n"
     ]
    }
   ],
   "source": [
    "print es_primo([19],d1)"
   ]
  },
  {
   "cell_type": "code",
   "execution_count": 23,
   "metadata": {
    "collapsed": false
   },
   "outputs": [
    {
     "name": "stdout",
     "output_type": "stream",
     "text": [
      "True\n",
      "[51/2 + 17*sqrt(165)/2, -51*sqrt(165)/2 - 51/2]\n"
     ]
    }
   ],
   "source": [
    "print divide_ideal([19], I_1, d1)\n",
    "I_1_prime = cociente_ideal(I_1, [19], d1)\n",
    "print I_1_prime"
   ]
  },
  {
   "cell_type": "code",
   "execution_count": 24,
   "metadata": {
    "collapsed": false
   },
   "outputs": [
    {
     "name": "stdout",
     "output_type": "stream",
     "text": [
      "867\n"
     ]
    },
    {
     "data": {
      "text/plain": [
       "{3: 1, 17: 2}"
      ]
     },
     "execution_count": 24,
     "metadata": {},
     "output_type": "execute_result"
    }
   ],
   "source": [
    "print norma_ideal(I_1_prime,d1)\n",
    "factorint(norma_ideal(I_1_prime,d1))"
   ]
  },
  {
   "cell_type": "markdown",
   "metadata": {},
   "source": [
    "Hacemos lo mismo con 17, comprobando los divisores del ideal $<17>$"
   ]
  },
  {
   "cell_type": "code",
   "execution_count": 25,
   "metadata": {
    "collapsed": false
   },
   "outputs": [
    {
     "name": "stdout",
     "output_type": "stream",
     "text": [
      "[[17]]\n",
      "True\n",
      "[3, 3/2 + sqrt(165)/2]\n"
     ]
    }
   ],
   "source": [
    "print divisores(17, d1)\n",
    "print divide_ideal([17], I_1_prime, d1)\n",
    "print cociente_ideal(I_1_prime, [17], d1)"
   ]
  },
  {
   "cell_type": "code",
   "execution_count": 26,
   "metadata": {
    "collapsed": false
   },
   "outputs": [
    {
     "name": "stdout",
     "output_type": "stream",
     "text": [
      "True\n"
     ]
    }
   ],
   "source": [
    "print es_primo([3, Rational(3,2) + sqrt(165)*Rational(1,2)], d1)"
   ]
  },
  {
   "cell_type": "markdown",
   "metadata": {},
   "source": [
    "Y llegamos a la factorización esperada."
   ]
  },
  {
   "cell_type": "markdown",
   "metadata": {},
   "source": [
    "#### Ejercicio 1 $d \\neq 1 \\mod{4}$"
   ]
  },
  {
   "cell_type": "code",
   "execution_count": 27,
   "metadata": {
    "collapsed": false
   },
   "outputs": [
    {
     "name": "stdout",
     "output_type": "stream",
     "text": [
      "[[5, -2 + sqrt(159)], [5, 2 + sqrt(159)]]\n",
      "[[11, -4 + sqrt(159)], [11, 4 + sqrt(159)]]\n"
     ]
    }
   ],
   "source": [
    "print divisores(5,d2)\n",
    "print divisores(11,d2)"
   ]
  },
  {
   "cell_type": "code",
   "execution_count": 28,
   "metadata": {
    "collapsed": false
   },
   "outputs": [
    {
     "name": "stdout",
     "output_type": "stream",
     "text": [
      "[-547941435863*sqrt(159) - 1, 605*sqrt(159)]\n"
     ]
    }
   ],
   "source": [
    "I_21 = [-2*sqrt(159) + 1, 5*sqrt(159)]\n",
    "I_22 = [-1 + 3*sqrt(159), 11*sqrt(159)]\n",
    "I_2 = producto([I_21,I_22,I_22],d2)\n",
    "print I_2"
   ]
  },
  {
   "cell_type": "code",
   "execution_count": 29,
   "metadata": {
    "collapsed": false
   },
   "outputs": [
    {
     "name": "stdout",
     "output_type": "stream",
     "text": [
      "605\n",
      "{11: 2, 5: 1}\n"
     ]
    }
   ],
   "source": [
    "norma_I2 = norma_ideal(I_2, d2)\n",
    "print norma_I2\n",
    "print factorint(norma_I2)"
   ]
  },
  {
   "cell_type": "markdown",
   "metadata": {},
   "source": [
    "Probamos mirando en primer lugar el divisor de norma 5:"
   ]
  },
  {
   "cell_type": "code",
   "execution_count": 30,
   "metadata": {
    "collapsed": false
   },
   "outputs": [
    {
     "data": {
      "text/plain": [
       "[[5, -2 + sqrt(159)], [5, 2 + sqrt(159)]]"
      ]
     },
     "execution_count": 30,
     "metadata": {},
     "output_type": "execute_result"
    }
   ],
   "source": [
    "divisores(5,d2)"
   ]
  },
  {
   "cell_type": "code",
   "execution_count": 31,
   "metadata": {
    "collapsed": false
   },
   "outputs": [
    {
     "name": "stdout",
     "output_type": "stream",
     "text": [
      "False\n",
      "True\n"
     ]
    }
   ],
   "source": [
    "print divide_ideal([5, -2 + sqrt(159)],I_2,d2)\n",
    "print divide_ideal([5, 2 + sqrt(159)],I_2,d2)"
   ]
  },
  {
   "cell_type": "markdown",
   "metadata": {},
   "source": [
    "Luego nos quedamos con $<-2\\sqrt{159} + 1, 5\\sqrt{159}>$ como primer factor. Nos quedamos con el cociente de $I_2$:"
   ]
  },
  {
   "cell_type": "code",
   "execution_count": 32,
   "metadata": {
    "collapsed": false
   },
   "outputs": [
    {
     "name": "stdout",
     "output_type": "stream",
     "text": [
      "[-547941435863*sqrt(159) - 1, 121*sqrt(159)]\n"
     ]
    }
   ],
   "source": [
    "I_2_prime = cociente_ideal(I_2,[5, 2 + sqrt(159)],d2)\n",
    "print I_2_prime"
   ]
  },
  {
   "cell_type": "markdown",
   "metadata": {},
   "source": [
    "Buscamos ahora los asociados a 11:"
   ]
  },
  {
   "cell_type": "code",
   "execution_count": 33,
   "metadata": {
    "collapsed": false
   },
   "outputs": [
    {
     "data": {
      "text/plain": [
       "[[11, -4 + sqrt(159)], [11, 4 + sqrt(159)]]"
      ]
     },
     "execution_count": 33,
     "metadata": {},
     "output_type": "execute_result"
    }
   ],
   "source": [
    "divisores(11,d2)"
   ]
  },
  {
   "cell_type": "code",
   "execution_count": 34,
   "metadata": {
    "collapsed": false
   },
   "outputs": [
    {
     "data": {
      "text/plain": [
       "True"
      ]
     },
     "execution_count": 34,
     "metadata": {},
     "output_type": "execute_result"
    }
   ],
   "source": [
    "divide_ideal([11, -4 + sqrt(159)],I_2_prime,d2)"
   ]
  },
  {
   "cell_type": "code",
   "execution_count": 35,
   "metadata": {
    "collapsed": false
   },
   "outputs": [
    {
     "name": "stdout",
     "output_type": "stream",
     "text": [
      "[11, -4 + sqrt(159)]\n"
     ]
    }
   ],
   "source": [
    "print cociente_ideal(I_2_prime,[11, -4 + sqrt(159)], d2)"
   ]
  },
  {
   "cell_type": "markdown",
   "metadata": {},
   "source": [
    "Y sabemos, pues sabemos que tiene norma 11, que este ideal es primo, llegando a la descomposición esperada"
   ]
  },
  {
   "cell_type": "markdown",
   "metadata": {
    "collapsed": true
   },
   "source": [
    "### Ejercicio 2 (Avanzado).-"
   ]
  },
  {
   "cell_type": "markdown",
   "metadata": {},
   "source": [
    "Define una función <span style=\"color:red\">factoriza_id</span> para factorizar ideales. Comprueba que obtienes los mismos resultados que has obtenido en el ejercicio 1."
   ]
  },
  {
   "cell_type": "code",
   "execution_count": 36,
   "metadata": {
    "collapsed": false
   },
   "outputs": [
    {
     "data": {
      "text/plain": [
       "{(3, 3/2 + sqrt(165)/2): 1, (17,): 1, (19,): 1}"
      ]
     },
     "execution_count": 36,
     "metadata": {},
     "output_type": "execute_result"
    }
   ],
   "source": [
    "factoriza_id(I_1, d1)"
   ]
  },
  {
   "cell_type": "code",
   "execution_count": 37,
   "metadata": {
    "collapsed": false
   },
   "outputs": [
    {
     "data": {
      "text/plain": [
       "{(5, 2 + sqrt(159)): 1, (11, -4 + sqrt(159)): 2}"
      ]
     },
     "execution_count": 37,
     "metadata": {},
     "output_type": "execute_result"
    }
   ],
   "source": [
    "factoriza_id(I_2,d2)"
   ]
  }
 ],
 "metadata": {
  "kernelspec": {
   "display_name": "Python 2",
   "language": "python",
   "name": "python2"
  },
  "language_info": {
   "codemirror_mode": {
    "name": "ipython",
    "version": 2
   },
   "file_extension": ".py",
   "mimetype": "text/x-python",
   "name": "python",
   "nbconvert_exporter": "python",
   "pygments_lexer": "ipython2",
   "version": "2.7.11"
  }
 },
 "nbformat": 4,
 "nbformat_minor": 0
}
