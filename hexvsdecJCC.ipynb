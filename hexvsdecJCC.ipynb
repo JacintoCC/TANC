{
 "cells": [
  {
   "cell_type": "markdown",
   "metadata": {},
   "source": [
    "# Hexadecimal vs Decimal"
   ]
  },
  {
   "cell_type": "markdown",
   "metadata": {},
   "source": [
    "El sistema de símbolos para hexadecimal es\n",
    "\n",
    "   $$ S = \\{0, 1, 2, 3, 4, 5, 6, 7, 8, 9,a,b,c,d,f\\}\\,$$\n",
    "\n",
    "con la correspondencia $a = 10,\\, b = 11,\\, c = 12,\\, d = 13,\\, e = 14\\,$ y $f = 15$.\n",
    "\n",
    "Un número en hexadecimal sería una cadena (string) como $34f2a$ que corresponde a número en binario\n",
    "$16^4*3+16^3*4+16^2*15+16*2+10$\n"
   ]
  },
  {
   "cell_type": "markdown",
   "metadata": {},
   "source": [
    "## Cadenas (strings)\n",
    "\n",
    "Para introducir una cadena o string utilizamos comillas."
   ]
  },
  {
   "cell_type": "code",
   "execution_count": null,
   "metadata": {
    "collapsed": true
   },
   "outputs": [],
   "source": [
    "ej1='123ab'"
   ]
  },
  {
   "cell_type": "code",
   "execution_count": null,
   "metadata": {
    "collapsed": true
   },
   "outputs": [],
   "source": [
    "ej2=\"fg145\""
   ]
  },
  {
   "cell_type": "markdown",
   "metadata": {},
   "source": [
    "Podemos preguntar que tipo de dato es ej1 o ej2"
   ]
  },
  {
   "cell_type": "code",
   "execution_count": null,
   "metadata": {
    "collapsed": false
   },
   "outputs": [],
   "source": [
    "type(ej1)"
   ]
  },
  {
   "cell_type": "code",
   "execution_count": null,
   "metadata": {
    "collapsed": false
   },
   "outputs": [],
   "source": [
    "type(ej2)"
   ]
  },
  {
   "cell_type": "markdown",
   "metadata": {},
   "source": [
    "Podemos calcular la longitud de una cadena"
   ]
  },
  {
   "cell_type": "code",
   "execution_count": null,
   "metadata": {
    "collapsed": false
   },
   "outputs": [],
   "source": [
    "len(ej1)"
   ]
  },
  {
   "cell_type": "markdown",
   "metadata": {},
   "source": [
    "El primer elemento de una cadena está en el lugar 0. Para recuperarlo podemos hacer"
   ]
  },
  {
   "cell_type": "code",
   "execution_count": null,
   "metadata": {
    "collapsed": false
   },
   "outputs": [],
   "source": [
    "ej1[0]"
   ]
  },
  {
   "cell_type": "markdown",
   "metadata": {},
   "source": [
    "Observa que ej1[0] es una cadena no es el entero 1."
   ]
  },
  {
   "cell_type": "code",
   "execution_count": null,
   "metadata": {
    "collapsed": false
   },
   "outputs": [],
   "source": [
    "type(ej1[0])"
   ]
  },
  {
   "cell_type": "markdown",
   "metadata": {},
   "source": [
    "Podemos recuperar el último elemento de dos formas"
   ]
  },
  {
   "cell_type": "code",
   "execution_count": null,
   "metadata": {
    "collapsed": false
   },
   "outputs": [],
   "source": [
    "ej1[len(ej1)-1]"
   ]
  },
  {
   "cell_type": "code",
   "execution_count": null,
   "metadata": {
    "collapsed": false
   },
   "outputs": [],
   "source": [
    "ej1[-1]"
   ]
  },
  {
   "cell_type": "markdown",
   "metadata": {},
   "source": [
    "Si el elemento i de la cadena es un entero, podemos recuperar dicho entero con el comando <span style=\"color:green\">int</span>"
   ]
  },
  {
   "cell_type": "code",
   "execution_count": null,
   "metadata": {
    "collapsed": false
   },
   "outputs": [],
   "source": [
    "print int(ej1[0])"
   ]
  },
  {
   "cell_type": "markdown",
   "metadata": {},
   "source": [
    "**Ejercicio 1:** Vamos a suponer que la cadena corresponde a un número en hexadecimal. Define una función <span style=\"color:green\">elemento</span>(<span style=\"color:tomato\">hexastring</span>,<span style=\"color:tomato\">i</span>) con salida el entero que corresponde a hexastring[i]. Recuerda que a 'a' le corresponde el entero 10, a 'b' el 11 etc.  "
   ]
  },
  {
   "cell_type": "markdown",
   "metadata": {},
   "source": [
    "Comenzaremos definiendo un diccionario llamado <span style=\"color:tomato\">hexa_to_dec_dict</span> para hacer más fácilmente la traducción entre los símbolos en hexadecimal y su valor en el sistema decimal"
   ]
  },
  {
   "cell_type": "code",
   "execution_count": null,
   "metadata": {
    "collapsed": true
   },
   "outputs": [],
   "source": [
    "hexa_to_dec_dict = {str(x): x for x in range(0,9)}\n",
    "hexa_to_dec_dict.update({'a': 10, 'b':11, 'c':12, 'd':13, 'e':14, 'f':15})"
   ]
  },
  {
   "cell_type": "markdown",
   "metadata": {},
   "source": [
    "Con lo que la llamada a <span style=\"color:green\">elemento</span>(<span style=\"color:tomato\">hexastring</span>,<span style=\"color:tomato\">i</span>) simplemente tiene que buscar en <span style=\"color:tomato\">hexa_to_dec_dict</span> el carácter <span style=\"color:tomato\">i</span>:"
   ]
  },
  {
   "cell_type": "code",
   "execution_count": null,
   "metadata": {
    "collapsed": true
   },
   "outputs": [],
   "source": [
    "def elemento( hexastring, i):\n",
    "\treturn hexa_to_dec_dict[hexastring[i]]"
   ]
  },
  {
   "cell_type": "markdown",
   "metadata": {},
   "source": [
    "*Ejemplos * <span style=\"color:green\">elemento</span>(<span style=\"color:tomato\">hexastring</span>,<span style=\"color:tomato\">i</span>)"
   ]
  },
  {
   "cell_type": "code",
   "execution_count": null,
   "metadata": {
    "collapsed": false
   },
   "outputs": [],
   "source": [
    "elemento('1f7e', 0)"
   ]
  },
  {
   "cell_type": "code",
   "execution_count": null,
   "metadata": {
    "collapsed": false
   },
   "outputs": [],
   "source": [
    "elemento('1f7e', 3)"
   ]
  },
  {
   "cell_type": "markdown",
   "metadata": {},
   "source": [
    "Una pequeña variación nos permite construir la cadena formada por los elementos en posiciones mayores o iguales a una determinada posición"
   ]
  },
  {
   "cell_type": "code",
   "execution_count": null,
   "metadata": {
    "collapsed": false
   },
   "outputs": [],
   "source": [
    "print ej1\n",
    "print ej1[2:]"
   ]
  },
  {
   "cell_type": "markdown",
   "metadata": {},
   "source": [
    "El operador <span style=\"color:green\">+</span> permite concatenar listas"
   ]
  },
  {
   "cell_type": "code",
   "execution_count": null,
   "metadata": {
    "collapsed": false
   },
   "outputs": [],
   "source": [
    "print ej1+ej2"
   ]
  },
  {
   "cell_type": "markdown",
   "metadata": {},
   "source": [
    "##  De hexadecimal a decimal"
   ]
  },
  {
   "cell_type": "markdown",
   "metadata": {},
   "source": [
    "Vamos a transformar una cadena que corresponda u un número en hexadecimal en un entero (número en decimal).\n",
    "Lo vamos a hacer de dos formas: \n",
    "- De forma iterativa (usando <span style=\"color:green\">for</span>).\n",
    "- De forma recursiva."
   ]
  },
  {
   "cell_type": "markdown",
   "metadata": {},
   "source": [
    "Esta función ya la tiene Python, pero la vamos a reescribir como ejercicio."
   ]
  },
  {
   "cell_type": "code",
   "execution_count": null,
   "metadata": {
    "collapsed": false
   },
   "outputs": [],
   "source": [
    "print int(ej1,16)"
   ]
  },
  {
   "cell_type": "markdown",
   "metadata": {},
   "source": [
    "**Ejercicio 2:** Define, de forma iterativa, la función <span style=\"color:green\">hextodec_it</span>(<span style=\"color:tomato\">hexastring</span>) que asocie a la cadena <span style=\"color:tomato\">hexastring</span> el entero correspondiente."
   ]
  },
  {
   "cell_type": "markdown",
   "metadata": {},
   "source": [
    "Para implementar esta función recorreremos la cadena, traduciendo el valor de cada carácter a base decimal y sumando el valor posicional correspondiente."
   ]
  },
  {
   "cell_type": "code",
   "execution_count": null,
   "metadata": {
    "collapsed": true
   },
   "outputs": [],
   "source": [
    "def hextodec_it(hexastring):\n",
    "\tresult = 0\n",
    "\tfor i in range (len(hexastring)):\n",
    "\t\tresult += elemento(hexastring, len(hexastring)-1-i) * pow(16, i)\n",
    "\n",
    "\treturn result"
   ]
  },
  {
   "cell_type": "markdown",
   "metadata": {},
   "source": [
    "*Ejemplo * <span style=\"color:green\">hextodec_it</span>(<span style=\"color:tomato\">hexastring</span>)"
   ]
  },
  {
   "cell_type": "code",
   "execution_count": null,
   "metadata": {
    "collapsed": false
   },
   "outputs": [],
   "source": [
    "hextodec_it(ej1)"
   ]
  },
  {
   "cell_type": "code",
   "execution_count": null,
   "metadata": {
    "collapsed": false
   },
   "outputs": [],
   "source": [
    "hextodec_it('fff')"
   ]
  },
  {
   "cell_type": "markdown",
   "metadata": {},
   "source": [
    "**Ejercicio 3:** Define, de forma recursiva, la función <span style=\"color:green\">hextodec_rec</span>(<span style=\"color:tomato\">hexastring</span>) que asocie a la cadena hexastring el entero correspondiente."
   ]
  },
  {
   "cell_type": "markdown",
   "metadata": {},
   "source": [
    "Para hacer esta función partimos del caso base en el que sólo tenemos un carácter y llamamos a <span style=\"color:tomato\">hexa_to_dec_dict</span>. Para el caso en el que tengamos más de un carácter, sumamos el valor del último carácter llamando a la función <span style=\"color:green\">elemento</span> al valor devuelto por la función <span style=\"color:geen\">hextodec_rec</span> con <span style=\"color:tomato\">hexastring</span> menos su último carácter por <span style=\"color:tomato\">16</span>"
   ]
  },
  {
   "cell_type": "code",
   "execution_count": null,
   "metadata": {
    "collapsed": true
   },
   "outputs": [],
   "source": [
    "def hextodec_rec(hexastring):\n",
    "\tif ( len(hexastring) == 1):\n",
    "\t\treturn hexa_to_dec_dict[hexastring]\n",
    "\telse:\n",
    "\t\treturn elemento(hexastring, len(hexastring)-1) + 16 * hextodec_rec(hexastring[:len(hexastring)-1])"
   ]
  },
  {
   "cell_type": "markdown",
   "metadata": {},
   "source": [
    "*Ejemplo * <span style=\"color:green\">hextodec_rec</span>(<span style=\"color:tomato\">hexastring</span>)"
   ]
  },
  {
   "cell_type": "code",
   "execution_count": null,
   "metadata": {
    "collapsed": false
   },
   "outputs": [],
   "source": [
    "hextodec_rec(ej1)"
   ]
  },
  {
   "cell_type": "code",
   "execution_count": null,
   "metadata": {
    "collapsed": false
   },
   "outputs": [],
   "source": [
    "hextodec_rec('fff')"
   ]
  },
  {
   "cell_type": "markdown",
   "metadata": {},
   "source": [
    "## De decimal a hexadecimal"
   ]
  },
  {
   "cell_type": "markdown",
   "metadata": {},
   "source": [
    "Partimos ahora de un entero y queremos obtener la cadena que corresponde a su interpretación en hexadecimal.\n",
    "\n",
    "Esta función ya la tiene Python pero, de nuevo, la vamos a implementar como ejercicio."
   ]
  },
  {
   "cell_type": "code",
   "execution_count": null,
   "metadata": {
    "collapsed": false
   },
   "outputs": [],
   "source": [
    "print hex(74667)"
   ]
  },
  {
   "cell_type": "markdown",
   "metadata": {},
   "source": [
    "El resto y el cociente de la división entera los podemos obtener con los operadores <span style=\"color:green\">%</span> y <span style=\"color:green\">/</span> respectivamente"
   ]
  },
  {
   "cell_type": "code",
   "execution_count": null,
   "metadata": {
    "collapsed": false
   },
   "outputs": [],
   "source": [
    "12 % 5"
   ]
  },
  {
   "cell_type": "code",
   "execution_count": null,
   "metadata": {
    "collapsed": false
   },
   "outputs": [],
   "source": [
    "12/5"
   ]
  },
  {
   "cell_type": "code",
   "execution_count": null,
   "metadata": {
    "collapsed": true
   },
   "outputs": [],
   "source": [
    "from sympy import Symbol"
   ]
  },
  {
   "cell_type": "markdown",
   "metadata": {},
   "source": [
    "**Ejercicio 4:** Define la función <span style=\"color:green\">dectohex_rec</span>(<span style=\"color:tomato\">entero</span>) que asocie a un entero su expresión en hexadecimal."
   ]
  },
  {
   "cell_type": "markdown",
   "metadata": {},
   "source": [
    "Para hacer esto comenzamos, igual que antes, definiendo un diccionario que nos facilte la traducción de decimal a hexadecimal:"
   ]
  },
  {
   "cell_type": "code",
   "execution_count": null,
   "metadata": {
    "collapsed": true
   },
   "outputs": [],
   "source": [
    "dec_to_hex_dict = {x: str(x) for x in range(0,9)}\n",
    "dec_to_hex_dict.update({ 10:'a', 11:'b', 12:'c', 13:'d', 14:'e', 15:'f'})"
   ]
  },
  {
   "cell_type": "markdown",
   "metadata": {},
   "source": [
    "Entonces el caso base será cuando <span style=\"color:tomato\">entero</span> sea menor que <span style=\"color:tomato\">16</span> y sólo tendremos que hacer la traducción, y en el caso general, el último carácter será la traducción del <span style=\"color:tomato\">entero</span> <span style=\"color:green\">mod</span> <span style=\"color:tomato\">16</span>, y los primeros carácteres, el string devuelto por el cociente entre <span style=\"color:tomato\">entero</span> y <span style=\"color:tomato\">16</span>"
   ]
  },
  {
   "cell_type": "code",
   "execution_count": null,
   "metadata": {
    "collapsed": true
   },
   "outputs": [],
   "source": [
    "def dectohex_rec(entero):\n",
    "\tif ( entero < 16 ):\n",
    "\t\treturn dec_to_hex_dict[entero]\n",
    "\telse:\n",
    "\t\treturn dectohex_rec(entero / 16) + dec_to_hex_dict[entero % 16]\n",
    "    "
   ]
  },
  {
   "cell_type": "markdown",
   "metadata": {},
   "source": [
    "*Ejemplo * <span style=\"color:green\">dectohex_rec</span>(<span style=\"color:tomato\">hexastring</span>)"
   ]
  },
  {
   "cell_type": "code",
   "execution_count": null,
   "metadata": {
    "collapsed": false
   },
   "outputs": [],
   "source": [
    "dectohex_rec(1024)"
   ]
  },
  {
   "cell_type": "code",
   "execution_count": null,
   "metadata": {
    "collapsed": false
   },
   "outputs": [],
   "source": [
    "dectohex_rec(4095)"
   ]
  }
 ],
 "metadata": {
  "kernelspec": {
   "display_name": "Python 2",
   "language": "python",
   "name": "python2"
  },
  "language_info": {
   "codemirror_mode": {
    "name": "ipython",
    "version": 2
   },
   "file_extension": ".py",
   "mimetype": "text/x-python",
   "name": "python",
   "nbconvert_exporter": "python",
   "pygments_lexer": "ipython2",
   "version": "2.7.11"
  }
 },
 "nbformat": 4,
 "nbformat_minor": 0
}
