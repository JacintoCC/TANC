{
 "cells": [
  {
   "cell_type": "markdown",
   "metadata": {},
   "source": [
    "# Mensajes vs listas de números en hexadecimal"
   ]
  },
  {
   "cell_type": "markdown",
   "metadata": {},
   "source": [
    "El objetivo de esta práctica es definir una función que asocie a un mensaje una lista de cadenas en hexadecimal y otra función en sentido opuesto. "
   ]
  },
  {
   "cell_type": "markdown",
   "metadata": {},
   "source": [
    "Las funciones <span style=\"color:green\">encode</span> y <span style=\"color:green\">decode</span>"
   ]
  },
  {
   "cell_type": "code",
   "execution_count": 1,
   "metadata": {
    "collapsed": false
   },
   "outputs": [],
   "source": [
    "mensaje = 'Hola, ¿cómo estás?'"
   ]
  },
  {
   "cell_type": "code",
   "execution_count": 2,
   "metadata": {
    "collapsed": false
   },
   "outputs": [
    {
     "name": "stdout",
     "output_type": "stream",
     "text": [
      "Hola, ¿cómo estás?\n"
     ]
    }
   ],
   "source": [
    "print mensaje"
   ]
  },
  {
   "cell_type": "code",
   "execution_count": 3,
   "metadata": {
    "collapsed": false
   },
   "outputs": [
    {
     "data": {
      "text/plain": [
       "str"
      ]
     },
     "execution_count": 3,
     "metadata": {},
     "output_type": "execute_result"
    }
   ],
   "source": [
    "type(mensaje)"
   ]
  },
  {
   "cell_type": "markdown",
   "metadata": {},
   "source": [
    "Un problema con los signos de puntuación ...\n",
    "\n",
    "Si preguntamos por el símbolo en el lugar 0 de mensaje obtenemos"
   ]
  },
  {
   "cell_type": "code",
   "execution_count": 4,
   "metadata": {
    "collapsed": false
   },
   "outputs": [
    {
     "data": {
      "text/plain": [
       "'H'"
      ]
     },
     "execution_count": 4,
     "metadata": {},
     "output_type": "execute_result"
    }
   ],
   "source": [
    "mensaje[0]"
   ]
  },
  {
   "cell_type": "markdown",
   "metadata": {},
   "source": [
    "Sin embargo si preguntamos por el símbolo en el lugar 6"
   ]
  },
  {
   "cell_type": "code",
   "execution_count": 5,
   "metadata": {
    "collapsed": false
   },
   "outputs": [
    {
     "data": {
      "text/plain": [
       "'\\xc2'"
      ]
     },
     "execution_count": 5,
     "metadata": {},
     "output_type": "execute_result"
    }
   ],
   "source": [
    "mensaje[6]"
   ]
  },
  {
   "cell_type": "code",
   "execution_count": 6,
   "metadata": {
    "collapsed": false
   },
   "outputs": [
    {
     "name": "stdout",
     "output_type": "stream",
     "text": [
      "�\n"
     ]
    }
   ],
   "source": [
    "print mensaje[6]"
   ]
  },
  {
   "cell_type": "markdown",
   "metadata": {},
   "source": [
    "Podemos asociar una cadena hexadecimal al mensaje con la función <span style=\"color:green\">encode</span> y la variable <span style=\"color:green\">'hex'</span>"
   ]
  },
  {
   "cell_type": "code",
   "execution_count": 7,
   "metadata": {
    "collapsed": false
   },
   "outputs": [
    {
     "name": "stdout",
     "output_type": "stream",
     "text": [
      "486f6c612c20c2bf63c3b36d6f20657374c3a1733f\n"
     ]
    }
   ],
   "source": [
    "mensaje_cod=mensaje.encode('hex')\n",
    "print mensaje_cod"
   ]
  },
  {
   "cell_type": "markdown",
   "metadata": {},
   "source": [
    "Y podemos recuperar el mensaje original con la función <span style=\"color:green\">decode</span>"
   ]
  },
  {
   "cell_type": "code",
   "execution_count": 8,
   "metadata": {
    "collapsed": false
   },
   "outputs": [
    {
     "name": "stdout",
     "output_type": "stream",
     "text": [
      "Hola, ¿cómo estás?\n"
     ]
    }
   ],
   "source": [
    "print mensaje_cod.decode('hex')"
   ]
  },
  {
   "cell_type": "markdown",
   "metadata": {},
   "source": [
    "Si el mensaje que tenemos es muy largo, el número hexadecimal que obtenemos con la función <span style=\"color:green\">encode</span> es demasiado grande. \n",
    "\n",
    "Para hacer viable el proceso de codificación vamos a dividir cada mensaje en trozos, uno para cada palabra. Aplicaremos la función <span style=\"color:green\">encode</span> a cada palabra en lugar de al mensaje completo."
   ]
  },
  {
   "cell_type": "markdown",
   "metadata": {},
   "source": [
    "- **Ejercicio 1:** Define una función <span style=\"color:green\">lista_palabras(mensaje)</span> que asocie a un mensaje (cadena) una lista (de cadenas) con cada una de las palabras del mensaje. Si la palabra está precedida o seguida por un símbolo de puntuación, admiración, interrogación, etc. integraremos dicho símbolo a la palabra.\n",
    "\n",
    "Por ejemplo queremos que nuestra función <span style=\"color:green\">lista_palabras</span> aplicada a nuestro mensaje <span style=\"color:blue\">'Hola, ¿cómo estás?'</span> produzca la lista <span style=\"color:blue\">['Hola,', '¿cómo', 'estás?']</span>."
   ]
  },
  {
   "cell_type": "code",
   "execution_count": 9,
   "metadata": {
    "collapsed": true
   },
   "outputs": [],
   "source": [
    "def lista_palabras(mensaje):\n",
    "\tword_list = []\n",
    "\tword = ''\n",
    "\tfor letter in mensaje:\n",
    "\t\tif(letter == ' '):\n",
    "\t\t\tword_list.append(word)\n",
    "\t\t\tword = ''\n",
    "\t\telse:\n",
    "\t\t\tword += letter\n",
    "\n",
    "\tword_list.append(word)\n",
    "\n",
    "\treturn word_list"
   ]
  },
  {
   "cell_type": "markdown",
   "metadata": {},
   "source": [
    "*Ejemplo* <span style=\"color:green\">lista_palabras(mensaje)</span>: "
   ]
  },
  {
   "cell_type": "code",
   "execution_count": 10,
   "metadata": {
    "collapsed": false
   },
   "outputs": [
    {
     "data": {
      "text/plain": [
       "['Hola,', '\\xc2\\xbfc\\xc3\\xb3mo', 'est\\xc3\\xa1s?']"
      ]
     },
     "execution_count": 10,
     "metadata": {},
     "output_type": "execute_result"
    }
   ],
   "source": [
    "lista_palabras('Hola, ¿cómo estás?')"
   ]
  },
  {
   "cell_type": "markdown",
   "metadata": {},
   "source": [
    "Para visualizarlo correctamente, escribimos una función <span style=\"color:green\">print_lista(lista)</span> que imprima correctamente las palabras de una lista:"
   ]
  },
  {
   "cell_type": "code",
   "execution_count": 11,
   "metadata": {
    "collapsed": true
   },
   "outputs": [],
   "source": [
    "def print_lista(lista):\n",
    "\tfor word in lista:\n",
    "\t\tprint word"
   ]
  },
  {
   "cell_type": "code",
   "execution_count": 12,
   "metadata": {
    "collapsed": false
   },
   "outputs": [
    {
     "name": "stdout",
     "output_type": "stream",
     "text": [
      "Hola,\n",
      "¿cómo\n",
      "estás?\n"
     ]
    }
   ],
   "source": [
    "print_lista(lista_palabras('Hola, ¿cómo estás?'))"
   ]
  },
  {
   "cell_type": "markdown",
   "metadata": {},
   "source": [
    "- **Ejercicio 2:** Define una función <span style=\"color:green\">str_to_hexalist(mensaje)</span> que a un mensaje le asocie la lista de números en hexadecimal correspondiente a cada palabra del mensaje."
   ]
  },
  {
   "cell_type": "markdown",
   "metadata": {},
   "source": [
    "Esta función llamará a la anterior para obtener la lista de palabras e irá una por una añadiendo a la lista de números en hexadecimal la codificación de cada palabra."
   ]
  },
  {
   "cell_type": "code",
   "execution_count": 13,
   "metadata": {
    "collapsed": true
   },
   "outputs": [],
   "source": [
    "def str_to_hexalist(mensaje):\n",
    "\thexalist = []\n",
    "\tword_list = lista_palabras(mensaje)\n",
    "\tfor word in word_list:\n",
    "\t\thexalist.append(word.encode('hex'))\n",
    "\n",
    "\treturn hexalist"
   ]
  },
  {
   "cell_type": "markdown",
   "metadata": {},
   "source": [
    "*Ejemplo* de <span style=\"color:green\">str_to_hexalist(mensaje)</span>:"
   ]
  },
  {
   "cell_type": "code",
   "execution_count": 14,
   "metadata": {
    "collapsed": false
   },
   "outputs": [
    {
     "name": "stdout",
     "output_type": "stream",
     "text": [
      "['486f6c612c', 'c2bf63c3b36d6f', '657374c3a1733f']\n"
     ]
    }
   ],
   "source": [
    "coded_list = str_to_hexalist('Hola, ¿cómo estás?')\n",
    "print coded_list"
   ]
  },
  {
   "cell_type": "markdown",
   "metadata": {},
   "source": [
    "- **Ejercicio 3:** Define una función <span style=\"color:green\">hexalist_to_str(lista)</span> que sea la inversa de la función <span style=\"color:green\">str_to_hexalist(mensaje)</span> definida en el ejercicio 2."
   ]
  },
  {
   "cell_type": "markdown",
   "metadata": {},
   "source": [
    "Esta función irá añadiendo a la lista la decodificación de cada palabra, y puesto que el separador era un espacio, añadiendo un espacio hasta el que había entre la penúltima palabra y la última."
   ]
  },
  {
   "cell_type": "code",
   "execution_count": 15,
   "metadata": {
    "collapsed": true
   },
   "outputs": [],
   "source": [
    "def hexalist_to_str(lista):\n",
    "\tstring = ''\n",
    "\tfor i in range(0, len(lista)-1):\n",
    "\t\tstring += lista[i].decode('hex')\n",
    "\t\tstring += ' '\n",
    "\n",
    "\tstring += lista[len(lista)-1].decode('hex')\n",
    "\treturn string"
   ]
  },
  {
   "cell_type": "markdown",
   "metadata": {},
   "source": [
    "*Ejemplo* de <span style=\"color:green\">hexalist_to_str(lista)</span>:"
   ]
  },
  {
   "cell_type": "code",
   "execution_count": 16,
   "metadata": {
    "collapsed": false
   },
   "outputs": [
    {
     "name": "stdout",
     "output_type": "stream",
     "text": [
      "Hola, ¿cómo estás?\n"
     ]
    }
   ],
   "source": [
    "print hexalist_to_str(coded_list)"
   ]
  }
 ],
 "metadata": {
  "kernelspec": {
   "display_name": "Python 2",
   "language": "python",
   "name": "python2"
  },
  "language_info": {
   "codemirror_mode": {
    "name": "ipython",
    "version": 2
   },
   "file_extension": ".py",
   "mimetype": "text/x-python",
   "name": "python",
   "nbconvert_exporter": "python",
   "pygments_lexer": "ipython2",
   "version": "2.7.11"
  }
 },
 "nbformat": 4,
 "nbformat_minor": 0
}
