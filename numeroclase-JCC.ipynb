{
 "cells": [
  {
   "cell_type": "markdown",
   "metadata": {
    "collapsed": false
   },
   "source": [
    "# Número de clase"
   ]
  },
  {
   "cell_type": "markdown",
   "metadata": {},
   "source": [
    "En esta práctica se persigue encontrar la forma de, dado un número $d$, encontrar el número de clase de $\\mathbb{Q}(\\sqrt{d})$.\n"
   ]
  },
  {
   "cell_type": "markdown",
   "metadata": {},
   "source": [
    "Para ello se sigue el siguiente algoritmo:\n",
    "  * Se calcula la lista de primos bajo la cota de Minkowski, $L_{PBC}$\n",
    "  * Para $p \\in L_{PBC}$, se calculan los divisores de $p$ en $\\mathbb{Q}(\\sqrt{d})$, quedándonos únicamente con aquellos que no son principales. Al ir por parejas, nos quedamos sólo con uno de ellos. Con ellos se forma la lista $SG$.\n",
    "  * Para $\\mathfrak{p}$ en $SG$ se calcula su orden.\n",
    "  * Se realizan todas las combinaciones del tipo $\\mathfrak{p}_1^{e_1} \\cdot \\dots \\cdot \\mathfrak{p}_k^{e_k}$ para $\\mathfrak{p}_k \\in SG$, $e_k \\in 1,\\dots, orden(\\mathfrak{p}_k)$ y se quitan aquellos generadores cuya clase de equivalencias esté contenida en la de otro generador.\n",
    "  * Se comprueban las relaciones adicionales entre las clases de equivalencias."
   ]
  },
  {
   "cell_type": "code",
   "execution_count": 1,
   "metadata": {
    "collapsed": false
   },
   "outputs": [],
   "source": [
    "from TANJCC import *"
   ]
  },
  {
   "cell_type": "code",
   "execution_count": 2,
   "metadata": {
    "collapsed": false
   },
   "outputs": [
    {
     "name": "stdout",
     "output_type": "stream",
     "text": [
      "[2, 3, 5, 7, 11]\n"
     ]
    }
   ],
   "source": [
    "d = -299\n",
    "L_PBC = getListPBC(d)\n",
    "print L_PBC"
   ]
  },
  {
   "cell_type": "code",
   "execution_count": 3,
   "metadata": {
    "collapsed": false
   },
   "outputs": [
    {
     "data": {
      "text/plain": [
       "[[3, 1/2 + sqrt(299)*I/2],\n",
       " [5, 1/2 + sqrt(299)*I/2],\n",
       " [7, -3/2 + sqrt(299)*I/2],\n",
       " [11, -3/2 + sqrt(299)*I/2]]"
      ]
     },
     "execution_count": 3,
     "metadata": {},
     "output_type": "execute_result"
    }
   ],
   "source": [
    "SG = getGeneratorsOfGroup(d)\n",
    "SG"
   ]
  },
  {
   "cell_type": "code",
   "execution_count": 4,
   "metadata": {
    "collapsed": false
   },
   "outputs": [
    {
     "name": "stdout",
     "output_type": "stream",
     "text": [
      "Calculando orden de  [3, 1/2 + sqrt(299)*I/2] ...\n",
      "\t< [3, 1/2 + sqrt(299)*I/2] > tiene orden  4\n",
      "Calculando orden de  [5, 1/2 + sqrt(299)*I/2] ...\n",
      "\t< [5, 1/2 + sqrt(299)*I/2] > tiene orden  8\n",
      "Calculando orden de  [7, -3/2 + sqrt(299)*I/2] ...\n",
      "\t< [7, -3/2 + sqrt(299)*I/2] > tiene orden  8\n",
      "Calculando orden de  [11, -3/2 + sqrt(299)*I/2] ...\n",
      "\t< [11, -3/2 + sqrt(299)*I/2] > tiene orden  8\n"
     ]
    }
   ],
   "source": [
    "list_pows = getListsPows(SG,d)"
   ]
  },
  {
   "cell_type": "code",
   "execution_count": 5,
   "metadata": {
    "collapsed": false
   },
   "outputs": [
    {
     "name": "stdout",
     "output_type": "stream",
     "text": [
      "<[p3]> tiene orden 4\n",
      "<[p5]> tiene orden 8\n",
      "<[p7]> tiene orden 8\n",
      "<[p11]> tiene orden 8\n"
     ]
    }
   ],
   "source": [
    "for list_p in list_pows:\n",
    "    print \"<[p\"+str(list_p[0][0])+ \"]> tiene orden\",  len(list_p)"
   ]
  },
  {
   "cell_type": "markdown",
   "metadata": {},
   "source": [
    "Ahora comprobamos las relaciones entre estos grupos, comenzamos por $<[\\mathfrak{p}_3]>$ y $<[\\mathfrak{p}_5]>$"
   ]
  },
  {
   "cell_type": "code",
   "execution_count": 6,
   "metadata": {
    "collapsed": false
   },
   "outputs": [
    {
     "name": "stdout",
     "output_type": "stream",
     "text": [
      "\t\t Probando ['p3**1', 'p5**1']\n",
      "\t\t Probando ['p3**1', 'p5**2']\n",
      "Producto de [ ['p3**1', 'p5**2'] ]=[O]\n"
     ]
    }
   ],
   "source": [
    "cg=[0,1]\n",
    "names=[\"p3\",\"p5\"]\n",
    "combinations_of_pows = product(*[range(4),range(8)])\n",
    "\n",
    "for cp in combinations_of_pows:\n",
    "\n",
    "    str_relation = [names[cg[i]]+\"**\"+str(cp[i]+1) for i in range(2)]\n",
    "    print \"\\t\\t Probando\", str_relation\n",
    "\n",
    "    factors = [list_pows[cg[i]][cp[i]] for i in range(2)]\n",
    "    prod = producto(factors,d)\n",
    "\n",
    "    # Si el producto es principal entonces quitaremos el generador correspondiente\n",
    "    if es_principal(prod,d):\n",
    "        print \"Producto de [\",[names[cg[i]]+\"**\"+str(cp[i]+1) for i in range(2)], \"]=[O]\"\n",
    "        break"
   ]
  },
  {
   "cell_type": "markdown",
   "metadata": {},
   "source": [
    "Como 1 es primo relativo del orden de $<[\\mathfrak{p}_3]>, 4$, podemos quitarlo de la lista de generadores. Si repetimos este proceso, nos quedamos finalmente con que el grupo de clase es $<[\\mathfrak{p}_{11}]> \\cong C_8$"
   ]
  },
  {
   "cell_type": "markdown",
   "metadata": {},
   "source": [
    "El método $\\texttt{classGroup}$ lo hace de manera semi-automática, indicando el grupo que será a lo sumo, con las relaciones adicionales para decidir el grupo."
   ]
  },
  {
   "cell_type": "code",
   "execution_count": 7,
   "metadata": {
    "collapsed": false
   },
   "outputs": [
    {
     "name": "stdout",
     "output_type": "stream",
     "text": [
      "Calculando generadores de  -299\n",
      "Calculando orden de  [3, 1/2 + sqrt(299)*I/2] ...\n",
      "\t< [3, 1/2 + sqrt(299)*I/2] > tiene orden  4\n",
      "Calculando orden de  [5, 1/2 + sqrt(299)*I/2] ...\n",
      "\t< [5, 1/2 + sqrt(299)*I/2] > tiene orden  8\n",
      "Calculando orden de  [7, -3/2 + sqrt(299)*I/2] ...\n",
      "\t< [7, -3/2 + sqrt(299)*I/2] > tiene orden  8\n",
      "Calculando orden de  [11, -3/2 + sqrt(299)*I/2] ...\n",
      "\t< [11, -3/2 + sqrt(299)*I/2] > tiene orden  8\n",
      "Comprobando si existen grupos contenidos en otros\n",
      "COMPROBANDO COMBINACIÓN DE  2  GENERADORES\n",
      "\t Comprobando < ['p3', 'p5'] >\n",
      "\t\t Probando ['p3**1', 'p5**1']\n",
      "\t\t Probando ['p3**1', 'p5**2']\n",
      "Producto de [ ['p3**1', 'p5**2'] ]=[O]\n",
      "\t Comprobando < ['p5', 'p7'] >\n",
      "\t\t Probando ['p5**1', 'p7**1']\n",
      "\t\t Probando ['p5**1', 'p7**2']\n",
      "\t\t Probando ['p5**1', 'p7**3']\n",
      "Producto de [ ['p5**1', 'p7**3'] ]=[O]\n",
      "\t Comprobando < ['p7', 'p11'] >\n",
      "\t\t Probando ['p7**1', 'p11**1']\n",
      "Producto de [ ['p7**1', 'p11**1'] ]=[O]\n",
      "La lista simplificada de generadores es:\n",
      " < ['p11'] >\n"
     ]
    },
    {
     "data": {
      "text/plain": [
       "'C8'"
      ]
     },
     "execution_count": 7,
     "metadata": {},
     "output_type": "execute_result"
    }
   ],
   "source": [
    "classGroup(-299)"
   ]
  },
  {
   "cell_type": "code",
   "execution_count": 8,
   "metadata": {
    "collapsed": false,
    "scrolled": true
   },
   "outputs": [
    {
     "name": "stdout",
     "output_type": "stream",
     "text": [
      "Calculando generadores de  -231\n",
      "Calculando orden de  [2, 1/2 + sqrt(231)*I/2] ...\n",
      "\t< [2, 1/2 + sqrt(231)*I/2] > tiene orden  6\n",
      "Calculando orden de  [3, 3/2 + sqrt(231)*I/2] ...\n",
      "\t< [3, 3/2 + sqrt(231)*I/2] > tiene orden  2\n",
      "Calculando orden de  [5, -3/2 + sqrt(231)*I/2] ...\n",
      "\t< [5, -3/2 + sqrt(231)*I/2] > tiene orden  6\n",
      "Calculando orden de  [7, 7/2 + sqrt(231)*I/2] ...\n",
      "\t< [7, 7/2 + sqrt(231)*I/2] > tiene orden  2\n",
      "Comprobando si existen grupos contenidos en otros\n",
      "COMPROBANDO COMBINACIÓN DE  2  GENERADORES\n",
      "\t Comprobando < ['p2', 'p3'] >\n",
      "\t\t Probando ['p2**1', 'p3**1']\n",
      "\t\t Probando ['p2**2', 'p3**1']\n",
      "\t\t Probando ['p2**3', 'p3**1']\n",
      "\t\t Probando ['p2**4', 'p3**1']\n",
      "\t\t Probando ['p2**5', 'p3**1']\n",
      "\t\t Probando ['p2**6', 'p3**1']\n",
      "\t Comprobando < ['p2', 'p5'] >\n",
      "\t\t Probando ['p2**1', 'p5**1']\n",
      "\t\t Probando ['p2**1', 'p5**2']\n",
      "\t\t Probando ['p2**1', 'p5**3']\n",
      "\t\t Probando ['p2**1', 'p5**4']\n",
      "\t\t Probando ['p2**1', 'p5**5']\n",
      "\t\t Probando ['p2**1', 'p5**6']\n",
      "\t\t Probando ['p2**2', 'p5**1']\n",
      "\t\t Probando ['p2**2', 'p5**5']\n",
      "\t\t Probando ['p2**3', 'p5**1']\n",
      "\t\t Probando ['p2**3', 'p5**5']\n",
      "\t\t Probando ['p2**4', 'p5**1']\n",
      "\t\t Probando ['p2**4', 'p5**5']\n",
      "\t\t Probando ['p2**5', 'p5**1']\n",
      "\t\t Probando ['p2**5', 'p5**2']\n",
      "\t\t Probando ['p2**5', 'p5**3']\n",
      "\t\t Probando ['p2**5', 'p5**4']\n",
      "\t\t Probando ['p2**5', 'p5**5']\n",
      "\t\t Probando ['p2**5', 'p5**6']\n",
      "\t\t Probando ['p2**6', 'p5**1']\n",
      "\t\t Probando ['p2**6', 'p5**5']\n",
      "\t Comprobando < ['p2', 'p7'] >\n",
      "\t\t Probando ['p2**1', 'p7**1']\n",
      "\t\t Probando ['p2**2', 'p7**1']\n",
      "\t\t Probando ['p2**3', 'p7**1']\n",
      "\t\t Probando ['p2**4', 'p7**1']\n",
      "\t\t Probando ['p2**5', 'p7**1']\n",
      "\t\t Probando ['p2**6', 'p7**1']\n",
      "\t Comprobando < ['p3', 'p5'] >\n",
      "\t\t Probando ['p3**1', 'p5**1']\n",
      "\t\t Probando ['p3**1', 'p5**2']\n",
      "\t\t Probando ['p3**1', 'p5**3']\n",
      "Producto de [ ['p3**1', 'p5**3'] ]=[O]\n",
      "\t Comprobando < ['p5', 'p7'] >\n",
      "\t\t Probando ['p5**1', 'p7**1']\n",
      "\t\t Probando ['p5**2', 'p7**1']\n",
      "\t\t Probando ['p5**3', 'p7**1']\n",
      "\t\t Probando ['p5**4', 'p7**1']\n",
      "\t\t Probando ['p5**5', 'p7**1']\n",
      "\t\t Probando ['p5**6', 'p7**1']\n",
      "COMPROBANDO COMBINACIÓN DE  3  GENERADORES\n",
      "\t Comprobando < ['p2', 'p5', 'p7'] >\n",
      "\t\t Probando ['p2**1', 'p5**1', 'p7**1']\n",
      "\t\t Probando ['p2**1', 'p5**2', 'p7**1']\n",
      "\t\t Probando ['p2**1', 'p5**3', 'p7**1']\n",
      "\t\t Probando ['p2**1', 'p5**4', 'p7**1']\n",
      "\t\t Probando ['p2**1', 'p5**5', 'p7**1']\n",
      "Producto de [ ['p2**1', 'p5**5', 'p7**1'] ]=[O]\n",
      "La lista simplificada de generadores es:\n",
      " < ['p2', 'p5'] >\n",
      "Comprobando si existen relaciones adicionales\n",
      "COMPROBANDO COMBINACIÓN DE  2  GENERADORES\n",
      "\t Comprobando < ['p2', 'p5'] >\n",
      "\t\t Probando ['p2**2', 'p5**2']\n",
      "\t\t Probando ['p2**2', 'p5**3']\n",
      "\t\t Probando ['p2**2', 'p5**4']\n"
     ]
    },
    {
     "data": {
      "text/plain": [
       "\"C6 x C6\\n Producto de ['p2**2', 'p5**4']=[O]\""
      ]
     },
     "execution_count": 8,
     "metadata": {},
     "output_type": "execute_result"
    }
   ],
   "source": [
    "classGroup(-231)"
   ]
  },
  {
   "cell_type": "code",
   "execution_count": 2,
   "metadata": {
    "collapsed": false
   },
   "outputs": [
    {
     "name": "stdout",
     "output_type": "stream",
     "text": [
      "Calculando generadores de  195\n",
      "No hay soluciones a la ecuación de Pell\n",
      "No hay soluciones a la ecuación de Pell\n",
      "No hay soluciones a la ecuación de Pell\n",
      "No hay soluciones a la ecuación de Pell\n",
      "No hay soluciones a la ecuación de Pell\n",
      "No hay soluciones a la ecuación de Pell\n",
      "No hay soluciones a la ecuación de Pell\n",
      "No hay soluciones a la ecuación de Pell\n",
      "Calculando orden de  [2, 1 + sqrt(195)] ...\n",
      "No hay soluciones a la ecuación de Pell\n",
      "No hay soluciones a la ecuación de Pell\n",
      "No hay soluciones a la ecuación de Pell\n",
      "\t< [2, 1 + sqrt(195)] > tiene orden  2\n",
      "Calculando orden de  [3, sqrt(195)] ...\n",
      "No hay soluciones a la ecuación de Pell\n",
      "No hay soluciones a la ecuación de Pell\n",
      "No hay soluciones a la ecuación de Pell\n",
      "\t< [3, sqrt(195)] > tiene orden  2\n",
      "Calculando orden de  [5, sqrt(195)] ...\n",
      "No hay soluciones a la ecuación de Pell\n",
      "No hay soluciones a la ecuación de Pell\n",
      "No hay soluciones a la ecuación de Pell\n",
      "\t< [5, sqrt(195)] > tiene orden  2\n",
      "Calculando orden de  [13, sqrt(195)] ...\n",
      "No hay soluciones a la ecuación de Pell\n",
      "No hay soluciones a la ecuación de Pell\n",
      "No hay soluciones a la ecuación de Pell\n",
      "\t< [13, sqrt(195)] > tiene orden  2\n",
      "Comprobando si existen grupos contenidos en otros\n",
      "COMPROBANDO COMBINACIÓN DE  2  GENERADORES\n",
      "\t Comprobando < ['p2', 'p3'] >\n",
      "\t\t Probando ['p2**1', 'p3**1']\n",
      "No hay soluciones a la ecuación de Pell\n",
      "No hay soluciones a la ecuación de Pell\n",
      "\t\t Probando ['p2**1', 'p3**2']\n",
      "No hay soluciones a la ecuación de Pell\n",
      "No hay soluciones a la ecuación de Pell\n",
      "\t\t Probando ['p2**2', 'p3**1']\n",
      "No hay soluciones a la ecuación de Pell\n",
      "No hay soluciones a la ecuación de Pell\n",
      "\t Comprobando < ['p2', 'p5'] >\n",
      "\t\t Probando ['p2**1', 'p5**1']\n",
      "No hay soluciones a la ecuación de Pell\n",
      "No hay soluciones a la ecuación de Pell\n",
      "\t\t Probando ['p2**1', 'p5**2']\n",
      "No hay soluciones a la ecuación de Pell\n",
      "No hay soluciones a la ecuación de Pell\n",
      "\t\t Probando ['p2**2', 'p5**1']\n",
      "No hay soluciones a la ecuación de Pell\n",
      "No hay soluciones a la ecuación de Pell\n",
      "\t Comprobando < ['p2', 'p13'] >\n",
      "\t\t Probando ['p2**1', 'p13**1']\n",
      "No hay soluciones a la ecuación de Pell\n",
      "Producto de [ ['p2**1', 'p13**1'] ]=[O]\n",
      "\t Comprobando < ['p3', 'p5'] >\n",
      "\t\t Probando ['p3**1', 'p5**1']\n",
      "No hay soluciones a la ecuación de Pell\n",
      "No hay soluciones a la ecuación de Pell\n",
      "\t\t Probando ['p3**1', 'p5**2']\n",
      "No hay soluciones a la ecuación de Pell\n",
      "No hay soluciones a la ecuación de Pell\n",
      "\t\t Probando ['p3**2', 'p5**1']\n",
      "No hay soluciones a la ecuación de Pell\n",
      "No hay soluciones a la ecuación de Pell\n",
      "\t Comprobando < ['p3', 'p13'] >\n",
      "\t\t Probando ['p3**1', 'p13**1']\n",
      "No hay soluciones a la ecuación de Pell\n",
      "No hay soluciones a la ecuación de Pell\n",
      "\t\t Probando ['p3**1', 'p13**2']\n",
      "No hay soluciones a la ecuación de Pell\n",
      "No hay soluciones a la ecuación de Pell\n",
      "\t\t Probando ['p3**2', 'p13**1']\n",
      "No hay soluciones a la ecuación de Pell\n",
      "No hay soluciones a la ecuación de Pell\n",
      "\t Comprobando < ['p5', 'p13'] >\n",
      "\t\t Probando ['p5**1', 'p13**1']\n",
      "No hay soluciones a la ecuación de Pell\n",
      "No hay soluciones a la ecuación de Pell\n",
      "\t\t Probando ['p5**1', 'p13**2']\n",
      "No hay soluciones a la ecuación de Pell\n",
      "No hay soluciones a la ecuación de Pell\n",
      "\t\t Probando ['p5**2', 'p13**1']\n",
      "No hay soluciones a la ecuación de Pell\n",
      "No hay soluciones a la ecuación de Pell\n",
      "COMPROBANDO COMBINACIÓN DE  3  GENERADORES\n",
      "\t Comprobando < ['p3', 'p5', 'p13'] >\n",
      "\t\t Probando ['p3**1', 'p5**1', 'p13**1']\n",
      "No hay soluciones a la ecuación de Pell\n",
      "Producto de [ ['p3**1', 'p5**1', 'p13**1'] ]=[O]\n",
      "La lista simplificada de generadores es:\n",
      " < ['p5', 'p13'] >\n",
      "Comprobando si existen relaciones adicionales\n",
      "COMPROBANDO COMBINACIÓN DE  2  GENERADORES\n",
      "\t Comprobando < ['p5', 'p13'] >\n",
      "\t\t Probando ['p5**2', 'p13**2']\n",
      "No hay soluciones a la ecuación de Pell\n"
     ]
    },
    {
     "data": {
      "text/plain": [
       "\"C2 x C2\\n Producto de ['p5**2', 'p13**2']=[O]\""
      ]
     },
     "execution_count": 2,
     "metadata": {},
     "output_type": "execute_result"
    }
   ],
   "source": [
    "classGroup(195)"
   ]
  },
  {
   "cell_type": "code",
   "execution_count": null,
   "metadata": {
    "collapsed": true
   },
   "outputs": [],
   "source": []
  }
 ],
 "metadata": {
  "kernelspec": {
   "display_name": "Python 2",
   "language": "python",
   "name": "python2"
  },
  "language_info": {
   "codemirror_mode": {
    "name": "ipython",
    "version": 2
   },
   "file_extension": ".py",
   "mimetype": "text/x-python",
   "name": "python",
   "nbconvert_exporter": "python",
   "pygments_lexer": "ipython2",
   "version": "2.7.11"
  }
 },
 "nbformat": 4,
 "nbformat_minor": 0
}
