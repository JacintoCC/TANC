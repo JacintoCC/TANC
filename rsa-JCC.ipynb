{
 "cells": [
  {
   "cell_type": "markdown",
   "metadata": {},
   "source": [
    "# Codificación con llave pública RSA"
   ]
  },
  {
   "cell_type": "markdown",
   "metadata": {},
   "source": [
    "Los servicios de inteligencia han interceptado el siguiente WhatsApp, que ha sido enviado por el cabecilla de un grupo al que están investigando.\n",
    "\n",
    "<span style=\"color:blue\">\n",
    "Hola a todos,\n",
    "entrar en:\n",
    "$$963165702406078610933268087093959165865367524389470937341450164058799873046090241902268240522430399039842519010966073984353131388865535909155540264424417892621L$$\n",
    "</span>"
   ]
  },
  {
   "cell_type": "markdown",
   "metadata": {},
   "source": [
    "Sabemos, gracias a un infiltrado, al que llamaremos Pepe, para proteger su identidad, que ese número corresponde a la codificación (usando el protocolo RSA) de la dirección de una web.  \n",
    "\n",
    "\n",
    "De las llaves públicas e y n que se han usado para codificar la dirección de la web. Pepe nos ha dicho que el módulo $n$ es \n",
    "$$\n",
    "10000000000000000000000000000000000000000000000000000000000000000000033000000000000000002890000000000000000000000000000000000000000000000000000000000000000009537L\n",
    "$$"
   ]
  },
  {
   "cell_type": "markdown",
   "metadata": {},
   "source": [
    "Del que además sabemos que es el producto de dos primos uno de ellos muy cercano a $10^{90}$. \n",
    "\n",
    "Acerca del exponente $e$, que se ha usado, solo sabemos que está entre $12334$ y $12345$. \n",
    "\n",
    "En esa web se habla de un famoso detective cuyo apellido ha sido usado como llave para codificar, siguiendo el procedimiento de Vigenère, una clave. La matriz de Vigenère que se ha usado se obtiene mediante una traslación de 6 lugares de las 26 letras del alfabeto (sin Ñ), de manera que en el lugar 1,1 aparece la letra G.\n",
    "\n",
    "Afortunadamente tenemos pinchado el WhatsApp del cabecilla e interceptamos este otro mensaje:\n",
    "\n",
    "<span style=\"color:blue\">\n",
    "Lo vamos a petar compañer@s\n",
    "os dejo las instru donde siempre\n",
    "la clave para entrar es: PIJVHYJX\n",
    "</span>"
   ]
  },
  {
   "cell_type": "markdown",
   "metadata": {},
   "source": [
    "Pepe dice que esta banda ha pirateado la web de la asignatura TAN y Criptografía de cuarto curso de matemáticas de la UGR y que es en esta web donde dejan las instrucciones para cometer sus fechorías. Solo hay que introducir la clave correcta cuando se pulsa el botón etiquetado como \"este botón\" que aparece en esa web.\n",
    "\n",
    "Puede ser una cuestión de seguridad nacional saber que está tramando este peligroso grupo. ¿Podrías ayudar a nuestro servicio de inteligencia averiguando que traman?"
   ]
  },
  {
   "cell_type": "code",
   "execution_count": 1,
   "metadata": {
    "collapsed": false
   },
   "outputs": [],
   "source": [
    "from sympy import *\n",
    "from TANJCC import *"
   ]
  },
  {
   "cell_type": "markdown",
   "metadata": {},
   "source": [
    "Partimos de las pistas dadas por el infiltrado: Como $n$ es producto de dos primos y uno de ellos es cercano a $10^{90}$, con $\\texttt{nextprime}$ encontramos el siguiente número primo, $p$ que resulta que divide a $n$ y da como resultado otro primo, $q$. Por tanto, si obtenemos la clave pública $e$, podremos decodificar la dirección web dada."
   ]
  },
  {
   "cell_type": "code",
   "execution_count": 2,
   "metadata": {
    "collapsed": false
   },
   "outputs": [
    {
     "name": "stdout",
     "output_type": "stream",
     "text": [
      "1000000000000000000000000000000000000000000000000000000000000000000000000000000000000000289\n",
      "10000000000000000000000000000000000000000000000000000000000000000000033\n"
     ]
    },
    {
     "data": {
      "text/plain": [
       "True"
      ]
     },
     "execution_count": 2,
     "metadata": {},
     "output_type": "execute_result"
    }
   ],
   "source": [
    "n = 10000000000000000000000000000000000000000000000000000000000000000000033000000000000000002890000000000000000000000000000000000000000000000000000000000000000009537L\n",
    "p = nextprime(10**90)\n",
    "q = n / p\n",
    "print p\n",
    "print q\n",
    "isprime(q)"
   ]
  },
  {
   "cell_type": "markdown",
   "metadata": {},
   "source": [
    "Como $e \\in [12334,12345]$, tendremos que buscar cuál de estos números es primo relativo de $n$, propiedad que debe cumplir:"
   ]
  },
  {
   "cell_type": "code",
   "execution_count": 3,
   "metadata": {
    "collapsed": false
   },
   "outputs": [
    {
     "name": "stdout",
     "output_type": "stream",
     "text": [
      "12335\n",
      "12337\n",
      "12341\n",
      "12343\n"
     ]
    }
   ],
   "source": [
    "for e in range(12334,12346):\n",
    "    if( gcdex(e,(p-1)*(q-1))[2] == 1):\n",
    "        print e"
   ]
  },
  {
   "cell_type": "markdown",
   "metadata": {},
   "source": [
    "No podemos deducir de aquí cuál es la clave, luego debemos comprobar que la web que tenemos cifrada se corresponde con una dirección web. Comprobamos para cada $e$ en primer lugar que sea primo relativo con $\\varphi(n)=(p-1)(q-1)$ por ser $n$ producto de dos primos. Obtenemos el inverso de $e$, $u$, y entonces usamos $x \\equiv y^u \\mod(n)$ para obtener la dirección web decodificada. Ahora bien, los números en hexadecimal que se corresponden con cadenas de texto siguiendo la codificación realizada con el método $\\texttt{code('hex')}$ tienen longitud par, luego añadimos este filtro e imprimimos las cadenas resultantes, obteniendo únicamente la dirección que aparece a continuación:"
   ]
  },
  {
   "cell_type": "code",
   "execution_count": 4,
   "metadata": {
    "collapsed": false,
    "scrolled": true
   },
   "outputs": [
    {
     "name": "stdout",
     "output_type": "stream",
     "text": [
      "https://es.wikipedia.org/wiki/Andrea_Camilleri\n"
     ]
    }
   ],
   "source": [
    "web = 963165702406078610933268087093959165865367524389470937341450164058799873046090241902268240522430399039842519010966073984353131388865535909155540264424417892621L\n",
    "for e in range(12334,12346):\n",
    "    if( gcdex(e,(p-1)*(q-1))[2] == 1):\n",
    "        u = gcdex(e,(p-1)*(q-1))[0] % ((p-1)*(q-1))\n",
    "        x = pow(web,int(u),n)\n",
    "        if(len(dectohex_rec(x)) % 2 == 0):\n",
    "            print dectohex_rec(x).decode('hex')"
   ]
  },
  {
   "cell_type": "markdown",
   "metadata": {},
   "source": [
    "Este escritor y guionista es autor de una serie de novelas protagonizada por el Comisario Montalbano, en honor al escritor Vázquez Montalbán, también autor de novelas policíacas. Por tanto la clave de Vigenere será MONTALBANO.\n",
    "En el método para decodificar una palabra siguiendo una clave, se toma en primer lugar la primera columna, donde iremos buscando las letras de la clave, y en cada fila correspondiente se va buscando sucesivamente las letras del mensaje codificado, añadiendo a una lista de letras que forman la palabra codificada la primera letra de cada columna, proceso inverso al necesario para codificar"
   ]
  },
  {
   "cell_type": "code",
   "execution_count": 5,
   "metadata": {
    "collapsed": false
   },
   "outputs": [
    {
     "name": "stdout",
     "output_type": "stream",
     "text": [
      "JACINTOD\n"
     ]
    }
   ],
   "source": [
    "LETTERS = 'ABCDEFGHIJKLMNOPQRSTUVWXYZ'\n",
    "tabla_vigenere = [ [LETTERS[(i+j+6)%26] for i in range(26) ] for j in range(26)]\n",
    "\n",
    "clave_vigenere = 'MONTALBANO'\n",
    "decode_vigenere(tabla_vigenere, 'PIJVHYJX', clave_vigenere)"
   ]
  },
  {
   "cell_type": "markdown",
   "metadata": {},
   "source": [
    "Con la clave JACINTOD, he accedido a la página donde seguían las instrucciones, encontrando un nuevo $n$, cuyos factores (primos) se pueden deducir fácilmente debido a la forma del número. Por tanto, obtenemos así la clave privada:"
   ]
  },
  {
   "cell_type": "code",
   "execution_count": 6,
   "metadata": {
    "collapsed": false
   },
   "outputs": [
    {
     "name": "stdout",
     "output_type": "stream",
     "text": [
      "True\n",
      "True\n"
     ]
    }
   ],
   "source": [
    "n=100000000190000000000000130000000247\n",
    "p = 10000000019\n",
    "print isprime(p)\n",
    "q = n / p\n",
    "print isprime(q)"
   ]
  },
  {
   "cell_type": "markdown",
   "metadata": {},
   "source": [
    "Para ahorrar repetir el proceso anterior para cada palabra codificada del mensaje he implementado una función $\\texttt{deco_rsa()}$ que automatice esta tarea. Simplemente habrá que elevar cada palabra al inverso de $e$, y al pasarlo a hexadecimal y de ahí a string, recuperar el mensaje original"
   ]
  },
  {
   "cell_type": "code",
   "execution_count": 7,
   "metadata": {
    "collapsed": false
   },
   "outputs": [
    {
     "name": "stdout",
     "output_type": "stream",
     "text": [
      "To be, or not to be: that is the question: Whether ‘tis nobler in the mind to suffer The slings and arrows of outrageous fortune, Or to take arms against a sea of troubles, And by opposing end them? To die: to sleep; No more; and by a sleep to say we end The heart-ache and the thousand natural shocks That flesh is heir to, ‘tis a consummation Devoutly to be wish’d. To die, to sleep.\n"
     ]
    }
   ],
   "source": [
    "e = 1211\n",
    "mensaje=[62718023028666516652217553286447580L,7498947686663464945219055124624672L,5097532352808044988339897796965481L, 91589262635941722393701864307290432L,32253663039631038701991850668453454L,53773066331614972385019608760594210L, 44872556814103066346332116543585947L,927595488059769026187019360488764L,49395339185930770640825500218907604L, 82765863643386211968916760020252865L,25190253146559911376083367250316299L,81516543968865406348490251727544031L, 46973933837819443668504149601583430L,77960341753470006710619206199970261L,49395339185930770640825500218907604L, 79254408903157759140039430389457364L,32253663039631038701991850668453454L,69780185215451483837569951955699571L, 29181696113870199493001011506819598L,90746575521726863772619585452064895L,53321108584650112172697208811566958L, 89581607855380843846698601631339583L,4708233782086952953447867649890291L,81432953437104554702397572297116064L, 36748330705811761693354226961591564L,1738593413407962465957970386712872L,32253663039631038701991850668453454L, 6750255873197567500580868078789613L,3974641490716322416716012898882504L,69986814838734158265662071880367929L, 33080062031670887360059604610536909L,40912383938472947746699773999940668L,4708233782086952953447867649890291L, 60483336929846569313797889446933915L,50667049569681047447267330219362885L,16290171361242663103615946233640411L, 47438932232141836314849694319021353L,39517692056423301078064249847281553L,5059085049209552086870359812535240L, 62718023028666516652217553286447580L,34826601305744909271655808230506457L,32253663039631038701991850668453454L, 91586940261787857401151443814477655L,61306029703084185462695712502140576L,83961571813158583840345582468490739L, 53321108584650112172697208811566958L,16290171361242663103615946233640411L,33080062031670887360059604610536909L, 33769266318800097853303530008277240L,32253663039631038701991850668453454L,59548761183455377590539187724065107L, 40242014248379983165075976953067146L,39517692056423301078064249847281553L,29181696113870199493001011506819598L, 32435388911346208285687326957122563L,53321108584650112172697208811566958L,49395339185930770640825500218907604L, 20984102453995705653556910024287620L,23099420478417425445521464902274289L,32601348700812862397811686988230384L, 38217714717707056935821519501830833L,58757499046435065954253182867578106L,927595488059769026187019360488764L, 97463369160658535386970147458030133L,596227106103230803334107174826800L,81516543968865406348490251727544031L, 33080062031670887360059604610536909L,94139569715939059099802866251926914L,52678403584758883400564489432746954L, 32253663039631038701991850668453454L,44476434974326501460048387026732L,55680754582162596062709617863536289L, 62718023028666516652217553286447580L,3789955926090140936068306445042312L,32253663039631038701991850668453454L,66686506397057715816262021262989728L]\n",
    "print deco_rsa(mensaje, e, p, q)"
   ]
  },
  {
   "cell_type": "markdown",
   "metadata": {},
   "source": [
    "Este soliloquio pertenece a la obra *Hamlet* de William Shakespeare"
   ]
  }
 ],
 "metadata": {
  "kernelspec": {
   "display_name": "Python 2",
   "language": "python",
   "name": "python2"
  },
  "language_info": {
   "codemirror_mode": {
    "name": "ipython",
    "version": 2
   },
   "file_extension": ".py",
   "mimetype": "text/x-python",
   "name": "python",
   "nbconvert_exporter": "python",
   "pygments_lexer": "ipython2",
   "version": "2.7.11"
  }
 },
 "nbformat": 4,
 "nbformat_minor": 0
}
