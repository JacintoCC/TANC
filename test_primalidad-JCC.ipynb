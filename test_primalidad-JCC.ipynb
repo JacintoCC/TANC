{
 "cells": [
  {
   "cell_type": "markdown",
   "metadata": {},
   "source": [
    "# Test de Primalidad"
   ]
  },
  {
   "cell_type": "markdown",
   "metadata": {},
   "source": [
    "La función <span style=\"color:blue\">random</span>"
   ]
  },
  {
   "cell_type": "code",
   "execution_count": 1,
   "metadata": {
    "collapsed": false
   },
   "outputs": [],
   "source": [
    "import random\n",
    "from TANJCC import *\n",
    "from sympy import *"
   ]
  },
  {
   "cell_type": "code",
   "execution_count": 2,
   "metadata": {
    "collapsed": false
   },
   "outputs": [
    {
     "data": {
      "text/plain": [
       "0.05005504818741158"
      ]
     },
     "execution_count": 2,
     "metadata": {},
     "output_type": "execute_result"
    }
   ],
   "source": [
    "random.random()"
   ]
  },
  {
   "cell_type": "code",
   "execution_count": 3,
   "metadata": {
    "collapsed": false
   },
   "outputs": [
    {
     "data": {
      "text/plain": [
       "4257055452"
      ]
     },
     "execution_count": 3,
     "metadata": {},
     "output_type": "execute_result"
    }
   ],
   "source": [
    "random.randint(1, 10**10)"
   ]
  },
  {
   "cell_type": "markdown",
   "metadata": {},
   "source": [
    "## Test 1: Pseudoprimos"
   ]
  },
  {
   "cell_type": "markdown",
   "metadata": {},
   "source": [
    "- **Ejercicio 1.** Define una función <span style=\"color:red\">psp(n)</span> con salida <span style=\"color:green\">(b,true)</span> o <span style=\"color:green\">(b,false)</span> y que haga los siguiente:\n",
    "    1. Elige una base $b$ al azar.\n",
    "    2. Comprueba si $gcd(b,n)=1$. \n",
    "        - Si es falso la función termina con la salida: \n",
    "            - <span style=\"color:green\"> print $gcd(b,n)$ es divisor de $n$</span>.\n",
    "            - (b,false)\n",
    "        - Si es cierto comprueba si $b^{(n-1)}\\equiv 1 \\mbox{ mod } n$, \n",
    "            - Si es falso la salida es <span style=\"color:green\">(b,false)</span>.\n",
    "            - Si es cierto la salida es <span style=\"color:green\">(b,true)</span>. "
   ]
  },
  {
   "cell_type": "markdown",
   "metadata": {},
   "source": [
    "He implementado la función psp, devolviendo en cada caso un vector $\\texttt{[b,True]}$ o $\\texttt{[b,False]}$ según corresponda. Una vez que $gcd(b,n)=1$, el valor que devolvemos se corresponde con la comprobación $\\texttt{pow(b,n-1,n)}==1$"
   ]
  },
  {
   "cell_type": "code",
   "execution_count": 4,
   "metadata": {
    "collapsed": false
   },
   "outputs": [
    {
     "name": "stdout",
     "output_type": "stream",
     "text": [
      "False\n",
      "False\n"
     ]
    }
   ],
   "source": [
    "p = nextprime(10^40)\n",
    "q = p*nextprime(654321)\n",
    "r = 4954039956700380001 # Número de Carmichael\n",
    "s = randint(10**80, 10**90)\n",
    "t = randint(10**80, 10**90)\n",
    "\n",
    "print isprime(s)\n",
    "print isprime(t)"
   ]
  },
  {
   "cell_type": "code",
   "execution_count": 5,
   "metadata": {
    "collapsed": false
   },
   "outputs": [
    {
     "name": "stdout",
     "output_type": "stream",
     "text": [
      "[27, True]\n",
      "[16440059, False]\n",
      "gcd( 3242914610155050173 , 4954039956700380001 )= 17  es divisor de 4954039956700380001\n",
      "[3242914610155050173, False]\n",
      "gcd( 83238774349962869051748423680710427850213994570779915857949488553270323725383497769771546 , 488591648547060147130839351220583938293943993215076123667750560698242653277089194724863807 )= 39  es divisor de 488591648547060147130839351220583938293943993215076123667750560698242653277089194724863807\n",
      "[83238774349962869051748423680710427850213994570779915857949488553270323725383497769771546L, False]\n",
      "[446459795036911890995973409749516468142408487943954425969348278623882063105213651998240767L, False]\n"
     ]
    }
   ],
   "source": [
    "print psp(p)\n",
    "print psp(q)\n",
    "print psp(r) \n",
    "print psp(s) \n",
    "print psp(t) "
   ]
  },
  {
   "cell_type": "markdown",
   "metadata": {},
   "source": [
    "- **Ejecicio 2.** Define una función <span style=\"color:red\">psp(n,k)</span> que realice hasta k veces la función <span style=\"color:red\">psp(n)</span>. \n",
    "    - Si en algún momento n falla el test la función termina con <span style=\"color:green\">(b,false</span>,\n",
    "    con b la base para la cual n falla el test. \n",
    "    - Si pasa el test para las k bases elegidas la salida será:\n",
    "        - <span style=\"color:green\"> print \"es posible que n sea primo\"</span>\n",
    "        - <span style=\"color:green\"> retun (b,true)</span>\n",
    "   puedes poner la última base o las k bases que has ido eligiendo.\n",
    "    "
   ]
  },
  {
   "cell_type": "code",
   "execution_count": 6,
   "metadata": {
    "collapsed": false
   },
   "outputs": [
    {
     "name": "stdout",
     "output_type": "stream",
     "text": [
      "Es posible que  37  sea primo\n",
      "[[5, 31, 17, 30, 25, 5, 8, 20, 4, 4, 28, 34, 34, 13, 17, 5, 13, 19, 28, 32, 36, 23, 10, 5, 22, 24, 11, 36, 25, 20, 23, 35, 8, 34, 18, 13, 10, 29, 33, 10, 35, 19, 20, 18, 36, 7, 35, 13, 8], True]\n",
      "[15216210, False]\n",
      "gcd( 2630901504039502621 , 4954039956700380001 )= 53  es divisor de 4954039956700380001\n",
      "[2630901504039502621, False]\n",
      "gcd( 483270589753332864779252778751172509837354625436422519626960048687408375644022594752996444 , 488591648547060147130839351220583938293943993215076123667750560698242653277089194724863807 )= 33  es divisor de 488591648547060147130839351220583938293943993215076123667750560698242653277089194724863807\n",
      "[483270589753332864779252778751172509837354625436422519626960048687408375644022594752996444L, False]\n",
      "gcd( 171638360100432921199315629879258055869833779177616106288007875759072713413133644082666516 , 958874172793633989206090396998790951882647861577603845012791914924034075890674195905888970 )= 2  es divisor de 958874172793633989206090396998790951882647861577603845012791914924034075890674195905888970\n",
      "[171638360100432921199315629879258055869833779177616106288007875759072713413133644082666516L, False]\n"
     ]
    }
   ],
   "source": [
    "print(pspk(p,50))\n",
    "print(pspk(q,50))\n",
    "print(pspk(r,50))\n",
    "print(pspk(s,50))\n",
    "print(pspk(t,50))"
   ]
  },
  {
   "cell_type": "markdown",
   "metadata": {},
   "source": [
    "## Test 2: Pseudo primos de Euler. Test de Slovay-Strassen"
   ]
  },
  {
   "cell_type": "markdown",
   "metadata": {},
   "source": [
    "EL símbolo de Jacobi"
   ]
  },
  {
   "cell_type": "code",
   "execution_count": 7,
   "metadata": {
    "collapsed": true
   },
   "outputs": [],
   "source": [
    " from sympy.ntheory import jacobi_symbol"
   ]
  },
  {
   "cell_type": "code",
   "execution_count": 8,
   "metadata": {
    "collapsed": false
   },
   "outputs": [
    {
     "data": {
      "text/plain": [
       "-1"
      ]
     },
     "execution_count": 8,
     "metadata": {},
     "output_type": "execute_result"
    }
   ],
   "source": [
    "jacobi_symbol(7,45)"
   ]
  },
  {
   "cell_type": "markdown",
   "metadata": {},
   "source": [
    "Recordamos que $n$ es pseudo primo de Euler respecto a la base $b$ si:\n",
    "\n",
    "- $n$ es impar, \n",
    "$$\\qquad$$\n",
    "\n",
    "- $gcd(b,n)=1$ y \n",
    "$$\\qquad$$\n",
    "\n",
    "- $b^{\\frac{n-1}{2}}\\equiv jacobi(b,n) \\mbox{ mod } n$."
   ]
  },
  {
   "cell_type": "markdown",
   "metadata": {},
   "source": [
    "- **Ejercicio 3.** Define la función <span style=\"color:red\">epsp(n)</span> que:\n",
    "    1. Si $n$ es par tiene como salida:\n",
    "        - <span style=\"color:green\">print n es par</span>\n",
    "        - <span style=\"color:green\">return (2,false)</span>\n",
    "    2. Elije una base $b$ al azar.\n",
    "    3. Comprueba si $gcd(b,n)=1$ \n",
    "       - Si es falso la función termina con:\n",
    "         - <span style=\"color:green\">print gcd(b,n) es divisor de n</span> \n",
    "         - <span style=\"color:green\"> return (b,false)</span> \n",
    "       - Si es cierto comprueba si $b^{\\frac{n-1}{2}} \\equiv jacobi(b,n) \\mbox{ mod } n$, \n",
    "          - si es falso la salida es <span style=\"color:green\">(b,false)</span>,\n",
    "          - si es cierto la salida es <span style=\"color:green\">(b,true)</span>. "
   ]
  },
  {
   "cell_type": "markdown",
   "metadata": {},
   "source": [
    "Una vez que $gcd(b,n)=1$, el valor que devolvemos se corresponde con la comprobación $\\texttt{pow(b, (n-1)/2, n) == (jacobi_symbol(b,n)%n)}$"
   ]
  },
  {
   "cell_type": "code",
   "execution_count": 9,
   "metadata": {
    "collapsed": false
   },
   "outputs": [
    {
     "name": "stdout",
     "output_type": "stream",
     "text": [
      "[28, True]\n",
      "[12203028, False]\n",
      "[614722582130474027, True]\n",
      "[162341884801234575399513829390030992696186242477933244034814283968940721984617614844463925L, False]\n",
      "958874172793633989206090396998790951882647861577603845012791914924034075890674195905888970  es par\n",
      "[2, False]\n"
     ]
    }
   ],
   "source": [
    "print epsp(p)\n",
    "print epsp(q)\n",
    "print epsp(r) \n",
    "print epsp(s) \n",
    "print epsp(t) "
   ]
  },
  {
   "cell_type": "markdown",
   "metadata": {},
   "source": [
    "- **Ejercicio 4.** Define una función <span style=\"color:red\">epsp(n,k)</span> que realice hasta k veces el test 2. \n",
    "    - Si en algún momento $n$ falla el test la función termina con <span style=\"color:green\">(b,false)</span>,\n",
    "      con $b$ la base para la cual $n$ no pasa el test. \n",
    "    - Si $n$ pasa el test para las $k$ bases elegidas la salida será:\n",
    "        - <span style=\"color:green\"> print es posible que n sea primo</span>\n",
    "        - <span style=\"color:green\"> return (b,true)</span>, puedes poner las última base o las k bases."
   ]
  },
  {
   "cell_type": "code",
   "execution_count": 10,
   "metadata": {
    "collapsed": false
   },
   "outputs": [
    {
     "name": "stdout",
     "output_type": "stream",
     "text": [
      "Es posible que  37  sea primo\n",
      "[[5, 21, 35, 30, 31, 17, 5, 36, 33], True]\n",
      "[3580748, False]\n",
      "[4379281342230191382, False]\n",
      "[182761175281427423581245322814930719671612183997472989774822053682448447946901298549650204L, False]\n",
      "958874172793633989206090396998790951882647861577603845012791914924034075890674195905888970  es par\n",
      "[2, False]\n"
     ]
    }
   ],
   "source": [
    "print epspk(p, 10)\n",
    "print epspk(q, 10)\n",
    "print epspk(r, 10) \n",
    "print epspk(s, 10) \n",
    "print epspk(t, 10) "
   ]
  },
  {
   "cell_type": "markdown",
   "metadata": {},
   "source": [
    "## Test 3. Fuertemente pseudoprimos. Test de Miller-Rabin"
   ]
  },
  {
   "cell_type": "markdown",
   "metadata": {},
   "source": [
    "Recordar que $n$ es ***fuertemente pseudoprimo*** respecto a la base $b$ si: \n",
    "   - $n$ es impar, \n",
    "   - $gcd(b,n)=1$ y \n",
    "   - Si escribimos $n=2^s t$, con $t$ impar, entonces:\n",
    "       - $b^t \\equiv 1 \\mbox{ mod } n$ o bien,\n",
    "       - existe $i=0,1,\\ldots,s-1$ tal que $b^{t * 2^i}\\equiv -1 \\mbox{ mod } n$."
   ]
  },
  {
   "cell_type": "markdown",
   "metadata": {},
   "source": [
    "- **Ejercicio 5.** Define una función <span style=\"color:red\">mpot(p,m)</span> que calcule la mayor potencia de $p$ que divide a $m$. \n",
    "\n",
    "No usar funciones que factoricen m."
   ]
  },
  {
   "cell_type": "markdown",
   "metadata": {},
   "source": [
    "Para calcular la máxima potencia de $p$ que divida a $m$, llevamos un contador de cuántas veces ha dividido $p$ a $m$, y devolvemos el exponente al que está elevado $p$ en $m$ y el otro factor de $m$."
   ]
  },
  {
   "cell_type": "code",
   "execution_count": 11,
   "metadata": {
    "collapsed": false
   },
   "outputs": [
    {
     "name": "stdout",
     "output_type": "stream",
     "text": [
      "[2, 1]\n",
      "[1, 4]\n",
      "[120, 14926607094781826420097155072L]\n"
     ]
    }
   ],
   "source": [
    "print mpot(2, 4)\n",
    "print mpot(3, 12)\n",
    "print mpot(3, 3**120 * 2**80 * nextprime(12345))"
   ]
  },
  {
   "cell_type": "markdown",
   "metadata": {},
   "source": [
    "- **Ejercicio 6.**  Define una función <span style=\"color:red\">fpsp(n)</span> que:\n",
    "    - **1.** Si $n$ es par tiene como salida <span style=\"color:green\"> print n es par, return (2,false)</span>.\n",
    "    - **2.** En otro caso:\n",
    "        - **2.1.** Calcule $s$ y $t$ tales que $n-1 = 2^s t$, con $t$ impar.\n",
    "        - **2.2.** Elije una base $b$ al azar.\n",
    "        - **2.3.** Comprueba si $gcd(b,n)=1$ \n",
    "             - ***2.3.1.*** Si es falso la función termina con <span style=\"color:green\"> print gcd(b,n) es divisor de n, return (b false)</span>. \n",
    "             - ***2.3.2.*** Si es cierto comprueba si $b^t= \\pm  1\\mbox{ mod } n$: \n",
    "                  - ***2.3.2.1.*** Si es cierto la salida es <span style=\"color:green\">(b,true)</span>, \n",
    "                  - ***2.3.2.2.*** Si es falso comprueba:\n",
    "                      - **2.3.2.2.1.** Si existe un $i=1,\\ldots,s-1$ tal que $b^{t*2^i}\\equiv  -1 \\mbox{ mod } n$ la salida es <span style=\"color:green\">(i,b,true)</span> (sacar i es opcional).\n",
    "                      - **2.3.2.2.2.** Si no existe tal $i$ la salida es <span style=\"color:green\">(b, false)</span> . \n"
   ]
  },
  {
   "cell_type": "code",
   "execution_count": 12,
   "metadata": {
    "collapsed": false
   },
   "outputs": [
    {
     "name": "stdout",
     "output_type": "stream",
     "text": [
      "[23, True]\n",
      "[22901609, True]\n",
      "gcd( 2513723914005335523 , 4954039956700380001 )= 73  es divisor de 4954039956700380001\n",
      "[2513723914005335523, False]\n",
      "[182643478343849318548489005169455473731634612256569378532641695109087792922449146807599863L, True]\n",
      "[2, False]\n"
     ]
    }
   ],
   "source": [
    "print fpsp(p)\n",
    "print fpsp(q)\n",
    "print fpsp(r)\n",
    "print fpsp(s)\n",
    "print fpsp(t)"
   ]
  },
  {
   "cell_type": "markdown",
   "metadata": {},
   "source": [
    "- **Ejercicio 7.**  Define una función <span style=\"color:red\">fpsp(n,k)</span>  que aplique hasta $k$ veces el test 3. \n",
    "    - Si en algún momento $n$ no pasa el test la función termina con <span style=\"color:green\">(b,false)</span>.\n",
    "    - Si $n$ pasa el test para las $k$ bases elegidas la salida será <span style=\"color:green\">print es posible que n sea primo, (bases, true)</span>"
   ]
  },
  {
   "cell_type": "code",
   "execution_count": 13,
   "metadata": {
    "collapsed": false
   },
   "outputs": [
    {
     "name": "stdout",
     "output_type": "stream",
     "text": [
      "Es posible que  37  sea primo\n",
      "[[36, 36, 32, 30, 6, 32, 25, 19, 4], True]\n",
      "Es posible que  24209951  sea primo\n",
      "[[21940851, 22740364, 2883355, 1007782, 17831408, 23713850, 15713984, 2367059, 1119607], True]\n",
      "gcd( 1957703045467945085 , 4954039956700380001 )= 901  es divisor de 4954039956700380001\n",
      "[1957703045467945085, False]\n",
      "gcd( 3681928355275098535709670946141048519664191445142868884836516374240855132512735231296670 , 488591648547060147130839351220583938293943993215076123667750560698242653277089194724863807 )= 3  es divisor de 488591648547060147130839351220583938293943993215076123667750560698242653277089194724863807\n",
      "[3681928355275098535709670946141048519664191445142868884836516374240855132512735231296670L, False]\n",
      "[2, False]\n"
     ]
    }
   ],
   "source": [
    "print fpspk(p, 10)\n",
    "print fpspk(q, 10)\n",
    "print fpspk(r, 10) \n",
    "print fpspk(s, 10) \n",
    "print fpspk(t, 10) "
   ]
  },
  {
   "cell_type": "markdown",
   "metadata": {},
   "source": [
    "## Comparaciones"
   ]
  },
  {
   "cell_type": "markdown",
   "metadata": {},
   "source": [
    "- **Ejercicio 8.** Comprueba los tres tests, usando números grandes y algún número de Carmichael, y compáralos con el test de Sympy <span style=\"color:blue\">isprime</span>  "
   ]
  },
  {
   "cell_type": "markdown",
   "metadata": {},
   "source": [
    "He usado tres números, uno de ellos es primo, otro es compuesto, y el tercero es un número de Carmichael, por lo que no es necesario usar $\\texttt{isprime}$ para saber si son primos. Para los otros dos números $s$, $t$ la comprobación la hago al comienzo. "
   ]
  }
 ],
 "metadata": {
  "kernelspec": {
   "display_name": "Python 2",
   "language": "python",
   "name": "python2"
  },
  "language_info": {
   "codemirror_mode": {
    "name": "ipython",
    "version": 2
   },
   "file_extension": ".py",
   "mimetype": "text/x-python",
   "name": "python",
   "nbconvert_exporter": "python",
   "pygments_lexer": "ipython2",
   "version": "2.7.11"
  }
 },
 "nbformat": 4,
 "nbformat_minor": 0
}
